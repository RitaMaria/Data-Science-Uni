{
 "cells": [
  {
   "cell_type": "code",
   "execution_count": 1,
   "metadata": {
    "id": "ACBqMsSEMCae"
   },
   "outputs": [],
   "source": [
    "import pandas as pd\n",
    "import numpy as np\n",
    "from sklearn.model_selection import train_test_split\n",
    "from sklearn.linear_model import LinearRegression\n",
    "from sklearn.model_selection import GridSearchCV\n",
    "from xgboost import XGBRegressor\n",
    "from sklearn.metrics import explained_variance_score, mean_squared_error, max_error, mean_absolute_error\n",
    "from scipy.stats import pearsonr\n",
    "from sklearn.neural_network import MLPRegressor\n",
    "from sklearn.preprocessing import StandardScaler\n",
    "import matplotlib.pyplot as plt"
   ]
  },
  {
   "cell_type": "code",
   "execution_count": 2,
   "metadata": {
    "id": "0qFIDeaEKSMF"
   },
   "outputs": [],
   "source": [
    "import warnings\n",
    "warnings.filterwarnings('ignore')"
   ]
  },
  {
   "cell_type": "markdown",
   "metadata": {
    "id": "uPHY8TcfCkzH"
   },
   "source": [
    "# Data importation"
   ]
  },
  {
   "cell_type": "code",
   "execution_count": 3,
   "metadata": {
    "id": "g5WNcqVcMW_F"
   },
   "outputs": [],
   "source": [
    "population_df = pd.read_csv(\"country_population.csv\")\n",
    "fertility_rate_df = pd.read_csv(\"fertility_rate.csv\")\n",
    "life_expectancy_df = pd.read_csv(\"life_expectancy.csv\")"
   ]
  },
  {
   "cell_type": "code",
   "execution_count": 4,
   "metadata": {
    "colab": {
     "base_uri": "https://localhost:8080/",
     "height": 679
    },
    "id": "6MQZinRTY8GK",
    "outputId": "f8817298-a030-4b4a-f498-87905292693a"
   },
   "outputs": [
    {
     "data": {
      "text/html": [
       "<div>\n",
       "<style scoped>\n",
       "    .dataframe tbody tr th:only-of-type {\n",
       "        vertical-align: middle;\n",
       "    }\n",
       "\n",
       "    .dataframe tbody tr th {\n",
       "        vertical-align: top;\n",
       "    }\n",
       "\n",
       "    .dataframe thead th {\n",
       "        text-align: right;\n",
       "    }\n",
       "</style>\n",
       "<table border=\"1\" class=\"dataframe\">\n",
       "  <thead>\n",
       "    <tr style=\"text-align: right;\">\n",
       "      <th></th>\n",
       "      <th>Country Name</th>\n",
       "      <th>Country Code</th>\n",
       "      <th>Indicator Name</th>\n",
       "      <th>Indicator Code</th>\n",
       "      <th>1960</th>\n",
       "      <th>1961</th>\n",
       "      <th>1962</th>\n",
       "      <th>1963</th>\n",
       "      <th>1964</th>\n",
       "      <th>1965</th>\n",
       "      <th>...</th>\n",
       "      <th>2007</th>\n",
       "      <th>2008</th>\n",
       "      <th>2009</th>\n",
       "      <th>2010</th>\n",
       "      <th>2011</th>\n",
       "      <th>2012</th>\n",
       "      <th>2013</th>\n",
       "      <th>2014</th>\n",
       "      <th>2015</th>\n",
       "      <th>2016</th>\n",
       "    </tr>\n",
       "  </thead>\n",
       "  <tbody>\n",
       "    <tr>\n",
       "      <th>0</th>\n",
       "      <td>Aruba</td>\n",
       "      <td>ABW</td>\n",
       "      <td>Population, total</td>\n",
       "      <td>SP.POP.TOTL</td>\n",
       "      <td>54211.0</td>\n",
       "      <td>55438.0</td>\n",
       "      <td>56225.0</td>\n",
       "      <td>56695.0</td>\n",
       "      <td>57032.0</td>\n",
       "      <td>57360.0</td>\n",
       "      <td>...</td>\n",
       "      <td>101220.0</td>\n",
       "      <td>101353.0</td>\n",
       "      <td>101453.0</td>\n",
       "      <td>101669.0</td>\n",
       "      <td>102053.0</td>\n",
       "      <td>102577.0</td>\n",
       "      <td>103187.0</td>\n",
       "      <td>103795.0</td>\n",
       "      <td>104341.0</td>\n",
       "      <td>104822.0</td>\n",
       "    </tr>\n",
       "    <tr>\n",
       "      <th>1</th>\n",
       "      <td>Afghanistan</td>\n",
       "      <td>AFG</td>\n",
       "      <td>Population, total</td>\n",
       "      <td>SP.POP.TOTL</td>\n",
       "      <td>8996351.0</td>\n",
       "      <td>9166764.0</td>\n",
       "      <td>9345868.0</td>\n",
       "      <td>9533954.0</td>\n",
       "      <td>9731361.0</td>\n",
       "      <td>9938414.0</td>\n",
       "      <td>...</td>\n",
       "      <td>26616792.0</td>\n",
       "      <td>27294031.0</td>\n",
       "      <td>28004331.0</td>\n",
       "      <td>28803167.0</td>\n",
       "      <td>29708599.0</td>\n",
       "      <td>30696958.0</td>\n",
       "      <td>31731688.0</td>\n",
       "      <td>32758020.0</td>\n",
       "      <td>33736494.0</td>\n",
       "      <td>34656032.0</td>\n",
       "    </tr>\n",
       "    <tr>\n",
       "      <th>2</th>\n",
       "      <td>Angola</td>\n",
       "      <td>AGO</td>\n",
       "      <td>Population, total</td>\n",
       "      <td>SP.POP.TOTL</td>\n",
       "      <td>5643182.0</td>\n",
       "      <td>5753024.0</td>\n",
       "      <td>5866061.0</td>\n",
       "      <td>5980417.0</td>\n",
       "      <td>6093321.0</td>\n",
       "      <td>6203299.0</td>\n",
       "      <td>...</td>\n",
       "      <td>20997687.0</td>\n",
       "      <td>21759420.0</td>\n",
       "      <td>22549547.0</td>\n",
       "      <td>23369131.0</td>\n",
       "      <td>24218565.0</td>\n",
       "      <td>25096150.0</td>\n",
       "      <td>25998340.0</td>\n",
       "      <td>26920466.0</td>\n",
       "      <td>27859305.0</td>\n",
       "      <td>28813463.0</td>\n",
       "    </tr>\n",
       "    <tr>\n",
       "      <th>3</th>\n",
       "      <td>Albania</td>\n",
       "      <td>ALB</td>\n",
       "      <td>Population, total</td>\n",
       "      <td>SP.POP.TOTL</td>\n",
       "      <td>1608800.0</td>\n",
       "      <td>1659800.0</td>\n",
       "      <td>1711319.0</td>\n",
       "      <td>1762621.0</td>\n",
       "      <td>1814135.0</td>\n",
       "      <td>1864791.0</td>\n",
       "      <td>...</td>\n",
       "      <td>2970017.0</td>\n",
       "      <td>2947314.0</td>\n",
       "      <td>2927519.0</td>\n",
       "      <td>2913021.0</td>\n",
       "      <td>2905195.0</td>\n",
       "      <td>2900401.0</td>\n",
       "      <td>2895092.0</td>\n",
       "      <td>2889104.0</td>\n",
       "      <td>2880703.0</td>\n",
       "      <td>2876101.0</td>\n",
       "    </tr>\n",
       "    <tr>\n",
       "      <th>4</th>\n",
       "      <td>Andorra</td>\n",
       "      <td>AND</td>\n",
       "      <td>Population, total</td>\n",
       "      <td>SP.POP.TOTL</td>\n",
       "      <td>13411.0</td>\n",
       "      <td>14375.0</td>\n",
       "      <td>15370.0</td>\n",
       "      <td>16412.0</td>\n",
       "      <td>17469.0</td>\n",
       "      <td>18549.0</td>\n",
       "      <td>...</td>\n",
       "      <td>82683.0</td>\n",
       "      <td>83861.0</td>\n",
       "      <td>84462.0</td>\n",
       "      <td>84449.0</td>\n",
       "      <td>83751.0</td>\n",
       "      <td>82431.0</td>\n",
       "      <td>80788.0</td>\n",
       "      <td>79223.0</td>\n",
       "      <td>78014.0</td>\n",
       "      <td>77281.0</td>\n",
       "    </tr>\n",
       "    <tr>\n",
       "      <th>...</th>\n",
       "      <td>...</td>\n",
       "      <td>...</td>\n",
       "      <td>...</td>\n",
       "      <td>...</td>\n",
       "      <td>...</td>\n",
       "      <td>...</td>\n",
       "      <td>...</td>\n",
       "      <td>...</td>\n",
       "      <td>...</td>\n",
       "      <td>...</td>\n",
       "      <td>...</td>\n",
       "      <td>...</td>\n",
       "      <td>...</td>\n",
       "      <td>...</td>\n",
       "      <td>...</td>\n",
       "      <td>...</td>\n",
       "      <td>...</td>\n",
       "      <td>...</td>\n",
       "      <td>...</td>\n",
       "      <td>...</td>\n",
       "      <td>...</td>\n",
       "    </tr>\n",
       "    <tr>\n",
       "      <th>259</th>\n",
       "      <td>Kosovo</td>\n",
       "      <td>XKX</td>\n",
       "      <td>Population, total</td>\n",
       "      <td>SP.POP.TOTL</td>\n",
       "      <td>947000.0</td>\n",
       "      <td>966000.0</td>\n",
       "      <td>994000.0</td>\n",
       "      <td>1022000.0</td>\n",
       "      <td>1050000.0</td>\n",
       "      <td>1078000.0</td>\n",
       "      <td>...</td>\n",
       "      <td>1733404.0</td>\n",
       "      <td>1747383.0</td>\n",
       "      <td>1761474.0</td>\n",
       "      <td>1775680.0</td>\n",
       "      <td>1791000.0</td>\n",
       "      <td>1805200.0</td>\n",
       "      <td>1824100.0</td>\n",
       "      <td>1821800.0</td>\n",
       "      <td>1801800.0</td>\n",
       "      <td>1816200.0</td>\n",
       "    </tr>\n",
       "    <tr>\n",
       "      <th>260</th>\n",
       "      <td>Yemen, Rep.</td>\n",
       "      <td>YEM</td>\n",
       "      <td>Population, total</td>\n",
       "      <td>SP.POP.TOTL</td>\n",
       "      <td>5172135.0</td>\n",
       "      <td>5260501.0</td>\n",
       "      <td>5351799.0</td>\n",
       "      <td>5446063.0</td>\n",
       "      <td>5543339.0</td>\n",
       "      <td>5643643.0</td>\n",
       "      <td>...</td>\n",
       "      <td>21751605.0</td>\n",
       "      <td>22356391.0</td>\n",
       "      <td>22974929.0</td>\n",
       "      <td>23606779.0</td>\n",
       "      <td>24252206.0</td>\n",
       "      <td>24909969.0</td>\n",
       "      <td>25576322.0</td>\n",
       "      <td>26246327.0</td>\n",
       "      <td>26916207.0</td>\n",
       "      <td>27584213.0</td>\n",
       "    </tr>\n",
       "    <tr>\n",
       "      <th>261</th>\n",
       "      <td>South Africa</td>\n",
       "      <td>ZAF</td>\n",
       "      <td>Population, total</td>\n",
       "      <td>SP.POP.TOTL</td>\n",
       "      <td>17456855.0</td>\n",
       "      <td>17920673.0</td>\n",
       "      <td>18401608.0</td>\n",
       "      <td>18899275.0</td>\n",
       "      <td>19412975.0</td>\n",
       "      <td>19942303.0</td>\n",
       "      <td>...</td>\n",
       "      <td>49887181.0</td>\n",
       "      <td>50412129.0</td>\n",
       "      <td>50970818.0</td>\n",
       "      <td>51584663.0</td>\n",
       "      <td>52263516.0</td>\n",
       "      <td>52998213.0</td>\n",
       "      <td>53767396.0</td>\n",
       "      <td>54539571.0</td>\n",
       "      <td>55291225.0</td>\n",
       "      <td>56015473.0</td>\n",
       "    </tr>\n",
       "    <tr>\n",
       "      <th>262</th>\n",
       "      <td>Zambia</td>\n",
       "      <td>ZMB</td>\n",
       "      <td>Population, total</td>\n",
       "      <td>SP.POP.TOTL</td>\n",
       "      <td>3044846.0</td>\n",
       "      <td>3140264.0</td>\n",
       "      <td>3240587.0</td>\n",
       "      <td>3345145.0</td>\n",
       "      <td>3452942.0</td>\n",
       "      <td>3563407.0</td>\n",
       "      <td>...</td>\n",
       "      <td>12725974.0</td>\n",
       "      <td>13082517.0</td>\n",
       "      <td>13456417.0</td>\n",
       "      <td>13850033.0</td>\n",
       "      <td>14264756.0</td>\n",
       "      <td>14699937.0</td>\n",
       "      <td>15153210.0</td>\n",
       "      <td>15620974.0</td>\n",
       "      <td>16100587.0</td>\n",
       "      <td>16591390.0</td>\n",
       "    </tr>\n",
       "    <tr>\n",
       "      <th>263</th>\n",
       "      <td>Zimbabwe</td>\n",
       "      <td>ZWE</td>\n",
       "      <td>Population, total</td>\n",
       "      <td>SP.POP.TOTL</td>\n",
       "      <td>3747369.0</td>\n",
       "      <td>3870756.0</td>\n",
       "      <td>3999419.0</td>\n",
       "      <td>4132756.0</td>\n",
       "      <td>4269863.0</td>\n",
       "      <td>4410212.0</td>\n",
       "      <td>...</td>\n",
       "      <td>13329909.0</td>\n",
       "      <td>13558469.0</td>\n",
       "      <td>13810599.0</td>\n",
       "      <td>14086317.0</td>\n",
       "      <td>14386649.0</td>\n",
       "      <td>14710826.0</td>\n",
       "      <td>15054506.0</td>\n",
       "      <td>15411675.0</td>\n",
       "      <td>15777451.0</td>\n",
       "      <td>16150362.0</td>\n",
       "    </tr>\n",
       "  </tbody>\n",
       "</table>\n",
       "<p>264 rows × 61 columns</p>\n",
       "</div>"
      ],
      "text/plain": [
       "     Country Name Country Code     Indicator Name Indicator Code        1960  \\\n",
       "0           Aruba          ABW  Population, total    SP.POP.TOTL     54211.0   \n",
       "1     Afghanistan          AFG  Population, total    SP.POP.TOTL   8996351.0   \n",
       "2          Angola          AGO  Population, total    SP.POP.TOTL   5643182.0   \n",
       "3         Albania          ALB  Population, total    SP.POP.TOTL   1608800.0   \n",
       "4         Andorra          AND  Population, total    SP.POP.TOTL     13411.0   \n",
       "..            ...          ...                ...            ...         ...   \n",
       "259        Kosovo          XKX  Population, total    SP.POP.TOTL    947000.0   \n",
       "260   Yemen, Rep.          YEM  Population, total    SP.POP.TOTL   5172135.0   \n",
       "261  South Africa          ZAF  Population, total    SP.POP.TOTL  17456855.0   \n",
       "262        Zambia          ZMB  Population, total    SP.POP.TOTL   3044846.0   \n",
       "263      Zimbabwe          ZWE  Population, total    SP.POP.TOTL   3747369.0   \n",
       "\n",
       "           1961        1962        1963        1964        1965  ...  \\\n",
       "0       55438.0     56225.0     56695.0     57032.0     57360.0  ...   \n",
       "1     9166764.0   9345868.0   9533954.0   9731361.0   9938414.0  ...   \n",
       "2     5753024.0   5866061.0   5980417.0   6093321.0   6203299.0  ...   \n",
       "3     1659800.0   1711319.0   1762621.0   1814135.0   1864791.0  ...   \n",
       "4       14375.0     15370.0     16412.0     17469.0     18549.0  ...   \n",
       "..          ...         ...         ...         ...         ...  ...   \n",
       "259    966000.0    994000.0   1022000.0   1050000.0   1078000.0  ...   \n",
       "260   5260501.0   5351799.0   5446063.0   5543339.0   5643643.0  ...   \n",
       "261  17920673.0  18401608.0  18899275.0  19412975.0  19942303.0  ...   \n",
       "262   3140264.0   3240587.0   3345145.0   3452942.0   3563407.0  ...   \n",
       "263   3870756.0   3999419.0   4132756.0   4269863.0   4410212.0  ...   \n",
       "\n",
       "           2007        2008        2009        2010        2011        2012  \\\n",
       "0      101220.0    101353.0    101453.0    101669.0    102053.0    102577.0   \n",
       "1    26616792.0  27294031.0  28004331.0  28803167.0  29708599.0  30696958.0   \n",
       "2    20997687.0  21759420.0  22549547.0  23369131.0  24218565.0  25096150.0   \n",
       "3     2970017.0   2947314.0   2927519.0   2913021.0   2905195.0   2900401.0   \n",
       "4       82683.0     83861.0     84462.0     84449.0     83751.0     82431.0   \n",
       "..          ...         ...         ...         ...         ...         ...   \n",
       "259   1733404.0   1747383.0   1761474.0   1775680.0   1791000.0   1805200.0   \n",
       "260  21751605.0  22356391.0  22974929.0  23606779.0  24252206.0  24909969.0   \n",
       "261  49887181.0  50412129.0  50970818.0  51584663.0  52263516.0  52998213.0   \n",
       "262  12725974.0  13082517.0  13456417.0  13850033.0  14264756.0  14699937.0   \n",
       "263  13329909.0  13558469.0  13810599.0  14086317.0  14386649.0  14710826.0   \n",
       "\n",
       "           2013        2014        2015        2016  \n",
       "0      103187.0    103795.0    104341.0    104822.0  \n",
       "1    31731688.0  32758020.0  33736494.0  34656032.0  \n",
       "2    25998340.0  26920466.0  27859305.0  28813463.0  \n",
       "3     2895092.0   2889104.0   2880703.0   2876101.0  \n",
       "4       80788.0     79223.0     78014.0     77281.0  \n",
       "..          ...         ...         ...         ...  \n",
       "259   1824100.0   1821800.0   1801800.0   1816200.0  \n",
       "260  25576322.0  26246327.0  26916207.0  27584213.0  \n",
       "261  53767396.0  54539571.0  55291225.0  56015473.0  \n",
       "262  15153210.0  15620974.0  16100587.0  16591390.0  \n",
       "263  15054506.0  15411675.0  15777451.0  16150362.0  \n",
       "\n",
       "[264 rows x 61 columns]"
      ]
     },
     "execution_count": 4,
     "metadata": {},
     "output_type": "execute_result"
    }
   ],
   "source": [
    "population_df"
   ]
  },
  {
   "cell_type": "markdown",
   "metadata": {
    "id": "qaRCz3yzCob-"
   },
   "source": [
    "# Data processing"
   ]
  },
  {
   "cell_type": "code",
   "execution_count": 5,
   "metadata": {
    "id": "UYBCMVpB9j8x"
   },
   "outputs": [],
   "source": [
    "# Select last 6 years\n",
    "population_df_last_6 = population_df[[\"Country Name\", '2011', '2012', '2013', '2014', '2015', '2016']]\n",
    "fertility_rate_df_last_6 = fertility_rate_df[[\"Country Name\", '2011', '2012', '2013', '2014', '2015', '2016']]\n",
    "life_expectancy_df_last_6 = life_expectancy_df[[\"Country Name\", '2011', '2012', '2013', '2014', '2015', '2016']]"
   ]
  },
  {
   "cell_type": "code",
   "execution_count": 6,
   "metadata": {
    "id": "3MSMnjt-9wco"
   },
   "outputs": [],
   "source": [
    "# Make a list of the indexes with rows with na's\n",
    "na_population = population_df_last_6[population_df_last_6.isna().any(axis=1)].index.tolist()\n",
    "na_fertility = fertility_rate_df_last_6[fertility_rate_df_last_6.isna().any(axis=1)].index.tolist()\n",
    "na_expectancy = life_expectancy_df_last_6[life_expectancy_df_last_6.isna().any(axis=1)].index.tolist()\n",
    "result_na = list(set(na_population) | set(na_fertility) | set(na_expectancy))"
   ]
  },
  {
   "cell_type": "code",
   "execution_count": 7,
   "metadata": {
    "id": "lbldW846Aq9-"
   },
   "outputs": [],
   "source": [
    "# Drop na's\n",
    "population_df_last_6 = population_df_last_6.drop(index=result_na).reset_index(drop=True)\n",
    "life_expectancy_df_last_6 = life_expectancy_df_last_6.drop(index=result_na).reset_index(drop=True)\n",
    "fertility_rate_df_last_6 = fertility_rate_df_last_6.drop(index=result_na).reset_index(drop=True)"
   ]
  },
  {
   "cell_type": "code",
   "execution_count": 8,
   "metadata": {
    "id": "D0-1mCBrx5ga"
   },
   "outputs": [],
   "source": [
    "def deltas_df(df):\n",
    "    result = pd.DataFrame()\n",
    "    d1 = df['2012'] - df['2011']\n",
    "    d2 = df['2013'] - df['2012']\n",
    "    d3 = df['2014'] - df['2013']\n",
    "    d4 = df['2015'] - df['2014']\n",
    "    d5 = df['2016'] - df['2015']\n",
    "    result['D0'] = pd.concat([d1, d2], axis = 1).stack().reset_index()[[0]]\n",
    "    result['D1'] = pd.concat([d2, d3], axis = 1).stack().reset_index()[[0]]\n",
    "    result['D2'] = pd.concat([d3, d4], axis = 1).stack().reset_index()[[0]]\n",
    "    result['D3'] = pd.concat([d4, d5], axis = 1).stack().reset_index()[[0]]\n",
    "    return result"
   ]
  },
  {
   "cell_type": "code",
   "execution_count": 9,
   "metadata": {
    "colab": {
     "base_uri": "https://localhost:8080/",
     "height": 424
    },
    "id": "1O_MwdDIAEfP",
    "outputId": "b7a1f1de-5009-472f-f16a-7e26c94d57bc"
   },
   "outputs": [
    {
     "data": {
      "text/html": [
       "<div>\n",
       "<style scoped>\n",
       "    .dataframe tbody tr th:only-of-type {\n",
       "        vertical-align: middle;\n",
       "    }\n",
       "\n",
       "    .dataframe tbody tr th {\n",
       "        vertical-align: top;\n",
       "    }\n",
       "\n",
       "    .dataframe thead th {\n",
       "        text-align: right;\n",
       "    }\n",
       "</style>\n",
       "<table border=\"1\" class=\"dataframe\">\n",
       "  <thead>\n",
       "    <tr style=\"text-align: right;\">\n",
       "      <th></th>\n",
       "      <th>D0</th>\n",
       "      <th>D1</th>\n",
       "      <th>D2</th>\n",
       "      <th>D3</th>\n",
       "    </tr>\n",
       "  </thead>\n",
       "  <tbody>\n",
       "    <tr>\n",
       "      <th>0</th>\n",
       "      <td>524.0</td>\n",
       "      <td>610.0</td>\n",
       "      <td>608.0</td>\n",
       "      <td>546.0</td>\n",
       "    </tr>\n",
       "    <tr>\n",
       "      <th>1</th>\n",
       "      <td>610.0</td>\n",
       "      <td>608.0</td>\n",
       "      <td>546.0</td>\n",
       "      <td>481.0</td>\n",
       "    </tr>\n",
       "    <tr>\n",
       "      <th>2</th>\n",
       "      <td>988359.0</td>\n",
       "      <td>1034730.0</td>\n",
       "      <td>1026332.0</td>\n",
       "      <td>978474.0</td>\n",
       "    </tr>\n",
       "    <tr>\n",
       "      <th>3</th>\n",
       "      <td>1034730.0</td>\n",
       "      <td>1026332.0</td>\n",
       "      <td>978474.0</td>\n",
       "      <td>919538.0</td>\n",
       "    </tr>\n",
       "    <tr>\n",
       "      <th>4</th>\n",
       "      <td>877585.0</td>\n",
       "      <td>902190.0</td>\n",
       "      <td>922126.0</td>\n",
       "      <td>938839.0</td>\n",
       "    </tr>\n",
       "    <tr>\n",
       "      <th>...</th>\n",
       "      <td>...</td>\n",
       "      <td>...</td>\n",
       "      <td>...</td>\n",
       "      <td>...</td>\n",
       "    </tr>\n",
       "    <tr>\n",
       "      <th>481</th>\n",
       "      <td>769183.0</td>\n",
       "      <td>772175.0</td>\n",
       "      <td>751654.0</td>\n",
       "      <td>724248.0</td>\n",
       "    </tr>\n",
       "    <tr>\n",
       "      <th>482</th>\n",
       "      <td>435181.0</td>\n",
       "      <td>453273.0</td>\n",
       "      <td>467764.0</td>\n",
       "      <td>479613.0</td>\n",
       "    </tr>\n",
       "    <tr>\n",
       "      <th>483</th>\n",
       "      <td>453273.0</td>\n",
       "      <td>467764.0</td>\n",
       "      <td>479613.0</td>\n",
       "      <td>490803.0</td>\n",
       "    </tr>\n",
       "    <tr>\n",
       "      <th>484</th>\n",
       "      <td>324177.0</td>\n",
       "      <td>343680.0</td>\n",
       "      <td>357169.0</td>\n",
       "      <td>365776.0</td>\n",
       "    </tr>\n",
       "    <tr>\n",
       "      <th>485</th>\n",
       "      <td>343680.0</td>\n",
       "      <td>357169.0</td>\n",
       "      <td>365776.0</td>\n",
       "      <td>372911.0</td>\n",
       "    </tr>\n",
       "  </tbody>\n",
       "</table>\n",
       "<p>486 rows × 4 columns</p>\n",
       "</div>"
      ],
      "text/plain": [
       "            D0         D1         D2        D3\n",
       "0        524.0      610.0      608.0     546.0\n",
       "1        610.0      608.0      546.0     481.0\n",
       "2     988359.0  1034730.0  1026332.0  978474.0\n",
       "3    1034730.0  1026332.0   978474.0  919538.0\n",
       "4     877585.0   902190.0   922126.0  938839.0\n",
       "..         ...        ...        ...       ...\n",
       "481   769183.0   772175.0   751654.0  724248.0\n",
       "482   435181.0   453273.0   467764.0  479613.0\n",
       "483   453273.0   467764.0   479613.0  490803.0\n",
       "484   324177.0   343680.0   357169.0  365776.0\n",
       "485   343680.0   357169.0   365776.0  372911.0\n",
       "\n",
       "[486 rows x 4 columns]"
      ]
     },
     "execution_count": 9,
     "metadata": {},
     "output_type": "execute_result"
    }
   ],
   "source": [
    "pop_deltas = deltas_df(population_df_last_6)\n",
    "pop_deltas"
   ]
  },
  {
   "cell_type": "code",
   "execution_count": 10,
   "metadata": {
    "colab": {
     "base_uri": "https://localhost:8080/",
     "height": 424
    },
    "id": "XdlNOQtmAwsJ",
    "outputId": "8eed6738-867e-41ca-b935-f527f8765111"
   },
   "outputs": [
    {
     "data": {
      "text/html": [
       "<div>\n",
       "<style scoped>\n",
       "    .dataframe tbody tr th:only-of-type {\n",
       "        vertical-align: middle;\n",
       "    }\n",
       "\n",
       "    .dataframe tbody tr th {\n",
       "        vertical-align: top;\n",
       "    }\n",
       "\n",
       "    .dataframe thead th {\n",
       "        text-align: right;\n",
       "    }\n",
       "</style>\n",
       "<table border=\"1\" class=\"dataframe\">\n",
       "  <thead>\n",
       "    <tr style=\"text-align: right;\">\n",
       "      <th></th>\n",
       "      <th>D0</th>\n",
       "      <th>D1</th>\n",
       "      <th>D2</th>\n",
       "      <th>D3</th>\n",
       "    </tr>\n",
       "  </thead>\n",
       "  <tbody>\n",
       "    <tr>\n",
       "      <th>0</th>\n",
       "      <td>0.141</td>\n",
       "      <td>0.141</td>\n",
       "      <td>0.142</td>\n",
       "      <td>0.143</td>\n",
       "    </tr>\n",
       "    <tr>\n",
       "      <th>1</th>\n",
       "      <td>0.141</td>\n",
       "      <td>0.142</td>\n",
       "      <td>0.143</td>\n",
       "      <td>0.142</td>\n",
       "    </tr>\n",
       "    <tr>\n",
       "      <th>2</th>\n",
       "      <td>0.420</td>\n",
       "      <td>0.408</td>\n",
       "      <td>0.401</td>\n",
       "      <td>0.393</td>\n",
       "    </tr>\n",
       "    <tr>\n",
       "      <th>3</th>\n",
       "      <td>0.408</td>\n",
       "      <td>0.401</td>\n",
       "      <td>0.393</td>\n",
       "      <td>0.385</td>\n",
       "    </tr>\n",
       "    <tr>\n",
       "      <th>4</th>\n",
       "      <td>0.728</td>\n",
       "      <td>0.603</td>\n",
       "      <td>0.485</td>\n",
       "      <td>0.383</td>\n",
       "    </tr>\n",
       "    <tr>\n",
       "      <th>...</th>\n",
       "      <td>...</td>\n",
       "      <td>...</td>\n",
       "      <td>...</td>\n",
       "      <td>...</td>\n",
       "    </tr>\n",
       "    <tr>\n",
       "      <th>481</th>\n",
       "      <td>1.285</td>\n",
       "      <td>1.163</td>\n",
       "      <td>0.988</td>\n",
       "      <td>0.793</td>\n",
       "    </tr>\n",
       "    <tr>\n",
       "      <th>482</th>\n",
       "      <td>1.139</td>\n",
       "      <td>0.971</td>\n",
       "      <td>0.793</td>\n",
       "      <td>0.622</td>\n",
       "    </tr>\n",
       "    <tr>\n",
       "      <th>483</th>\n",
       "      <td>0.971</td>\n",
       "      <td>0.793</td>\n",
       "      <td>0.622</td>\n",
       "      <td>0.477</td>\n",
       "    </tr>\n",
       "    <tr>\n",
       "      <th>484</th>\n",
       "      <td>1.716</td>\n",
       "      <td>1.537</td>\n",
       "      <td>1.307</td>\n",
       "      <td>1.038</td>\n",
       "    </tr>\n",
       "    <tr>\n",
       "      <th>485</th>\n",
       "      <td>1.537</td>\n",
       "      <td>1.307</td>\n",
       "      <td>1.038</td>\n",
       "      <td>0.765</td>\n",
       "    </tr>\n",
       "  </tbody>\n",
       "</table>\n",
       "<p>486 rows × 4 columns</p>\n",
       "</div>"
      ],
      "text/plain": [
       "        D0     D1     D2     D3\n",
       "0    0.141  0.141  0.142  0.143\n",
       "1    0.141  0.142  0.143  0.142\n",
       "2    0.420  0.408  0.401  0.393\n",
       "3    0.408  0.401  0.393  0.385\n",
       "4    0.728  0.603  0.485  0.383\n",
       "..     ...    ...    ...    ...\n",
       "481  1.285  1.163  0.988  0.793\n",
       "482  1.139  0.971  0.793  0.622\n",
       "483  0.971  0.793  0.622  0.477\n",
       "484  1.716  1.537  1.307  1.038\n",
       "485  1.537  1.307  1.038  0.765\n",
       "\n",
       "[486 rows x 4 columns]"
      ]
     },
     "execution_count": 10,
     "metadata": {},
     "output_type": "execute_result"
    }
   ],
   "source": [
    "le_deltas = deltas_df(life_expectancy_df_last_6)\n",
    "le_deltas"
   ]
  },
  {
   "cell_type": "code",
   "execution_count": 11,
   "metadata": {
    "colab": {
     "base_uri": "https://localhost:8080/",
     "height": 424
    },
    "id": "uUPn5Ku7A1xb",
    "outputId": "1170341b-cbf3-47fd-9b3a-580934a46a31"
   },
   "outputs": [
    {
     "data": {
      "text/html": [
       "<div>\n",
       "<style scoped>\n",
       "    .dataframe tbody tr th:only-of-type {\n",
       "        vertical-align: middle;\n",
       "    }\n",
       "\n",
       "    .dataframe tbody tr th {\n",
       "        vertical-align: top;\n",
       "    }\n",
       "\n",
       "    .dataframe thead th {\n",
       "        text-align: right;\n",
       "    }\n",
       "</style>\n",
       "<table border=\"1\" class=\"dataframe\">\n",
       "  <thead>\n",
       "    <tr style=\"text-align: right;\">\n",
       "      <th></th>\n",
       "      <th>D0</th>\n",
       "      <th>D1</th>\n",
       "      <th>D2</th>\n",
       "      <th>D3</th>\n",
       "    </tr>\n",
       "  </thead>\n",
       "  <tbody>\n",
       "    <tr>\n",
       "      <th>0</th>\n",
       "      <td>0.008</td>\n",
       "      <td>0.005</td>\n",
       "      <td>0.004</td>\n",
       "      <td>0.001</td>\n",
       "    </tr>\n",
       "    <tr>\n",
       "      <th>1</th>\n",
       "      <td>0.005</td>\n",
       "      <td>0.004</td>\n",
       "      <td>0.001</td>\n",
       "      <td>-0.001</td>\n",
       "    </tr>\n",
       "    <tr>\n",
       "      <th>2</th>\n",
       "      <td>-0.215</td>\n",
       "      <td>-0.206</td>\n",
       "      <td>-0.193</td>\n",
       "      <td>-0.179</td>\n",
       "    </tr>\n",
       "    <tr>\n",
       "      <th>3</th>\n",
       "      <td>-0.206</td>\n",
       "      <td>-0.193</td>\n",
       "      <td>-0.179</td>\n",
       "      <td>-0.167</td>\n",
       "    </tr>\n",
       "    <tr>\n",
       "      <th>4</th>\n",
       "      <td>-0.082</td>\n",
       "      <td>-0.080</td>\n",
       "      <td>-0.079</td>\n",
       "      <td>-0.075</td>\n",
       "    </tr>\n",
       "    <tr>\n",
       "      <th>...</th>\n",
       "      <td>...</td>\n",
       "      <td>...</td>\n",
       "      <td>...</td>\n",
       "      <td>...</td>\n",
       "    </tr>\n",
       "    <tr>\n",
       "      <th>481</th>\n",
       "      <td>-0.021</td>\n",
       "      <td>-0.023</td>\n",
       "      <td>-0.025</td>\n",
       "      <td>-0.027</td>\n",
       "    </tr>\n",
       "    <tr>\n",
       "      <th>482</th>\n",
       "      <td>-0.076</td>\n",
       "      <td>-0.071</td>\n",
       "      <td>-0.067</td>\n",
       "      <td>-0.063</td>\n",
       "    </tr>\n",
       "    <tr>\n",
       "      <th>483</th>\n",
       "      <td>-0.071</td>\n",
       "      <td>-0.067</td>\n",
       "      <td>-0.063</td>\n",
       "      <td>-0.060</td>\n",
       "    </tr>\n",
       "    <tr>\n",
       "      <th>484</th>\n",
       "      <td>-0.023</td>\n",
       "      <td>-0.039</td>\n",
       "      <td>-0.054</td>\n",
       "      <td>-0.067</td>\n",
       "    </tr>\n",
       "    <tr>\n",
       "      <th>485</th>\n",
       "      <td>-0.039</td>\n",
       "      <td>-0.054</td>\n",
       "      <td>-0.067</td>\n",
       "      <td>-0.076</td>\n",
       "    </tr>\n",
       "  </tbody>\n",
       "</table>\n",
       "<p>486 rows × 4 columns</p>\n",
       "</div>"
      ],
      "text/plain": [
       "        D0     D1     D2     D3\n",
       "0    0.008  0.005  0.004  0.001\n",
       "1    0.005  0.004  0.001 -0.001\n",
       "2   -0.215 -0.206 -0.193 -0.179\n",
       "3   -0.206 -0.193 -0.179 -0.167\n",
       "4   -0.082 -0.080 -0.079 -0.075\n",
       "..     ...    ...    ...    ...\n",
       "481 -0.021 -0.023 -0.025 -0.027\n",
       "482 -0.076 -0.071 -0.067 -0.063\n",
       "483 -0.071 -0.067 -0.063 -0.060\n",
       "484 -0.023 -0.039 -0.054 -0.067\n",
       "485 -0.039 -0.054 -0.067 -0.076\n",
       "\n",
       "[486 rows x 4 columns]"
      ]
     },
     "execution_count": 11,
     "metadata": {},
     "output_type": "execute_result"
    }
   ],
   "source": [
    "fr_deltas = deltas_df(fertility_rate_df_last_6)\n",
    "fr_deltas"
   ]
  },
  {
   "cell_type": "markdown",
   "metadata": {
    "id": "JTw4V9dSbui9"
   },
   "source": [
    "# Models"
   ]
  },
  {
   "cell_type": "code",
   "execution_count": 12,
   "metadata": {
    "id": "HlCxF_5xIybn"
   },
   "outputs": [],
   "source": [
    "# Function to evaluate models\n",
    "def printRegStatistics(truth, preds):\n",
    "    print(\"The RVE is: \", explained_variance_score(truth, preds))\n",
    "    print(\"The rmse is: \", mean_squared_error(truth, preds, squared=False))\n",
    "    #corr, pval = pearsonr(truth, preds)\n",
    "    #print(\"The Correlation Score is is: %6.4f (p-value=%e)\\n\"%(corr,pval))\n",
    "    print(\"The Maximum Error is is: \", max_error(truth, preds))\n",
    "    print(\"The Mean Absolute Error is: \", mean_absolute_error(truth, preds))"
   ]
  },
  {
   "cell_type": "markdown",
   "metadata": {
    "id": "oUa0Sa1g-_Nm"
   },
   "source": [
    "### Population"
   ]
  },
  {
   "cell_type": "code",
   "execution_count": 13,
   "metadata": {
    "id": "EcdEY_1s7Xhq"
   },
   "outputs": [],
   "source": [
    "X_train_pop, X_test_pop, y_train_pop, y_test_pop = train_test_split(pop_deltas[['D0', 'D1', 'D2']], pop_deltas[['D3']], test_size=0.25)"
   ]
  },
  {
   "cell_type": "markdown",
   "metadata": {
    "id": "rUfCMDPYBafF"
   },
   "source": [
    "#### Linear regression"
   ]
  },
  {
   "cell_type": "code",
   "execution_count": 14,
   "metadata": {
    "id": "6X1FJ1c77MGc"
   },
   "outputs": [],
   "source": [
    "lr = LinearRegression()"
   ]
  },
  {
   "cell_type": "code",
   "execution_count": 15,
   "metadata": {
    "colab": {
     "base_uri": "https://localhost:8080/"
    },
    "id": "X8w1rvMtBcov",
    "outputId": "bef5b5c0-6bdf-405e-8ead-81010bf12e7e"
   },
   "outputs": [
    {
     "data": {
      "text/plain": [
       "LinearRegression()"
      ]
     },
     "execution_count": 15,
     "metadata": {},
     "output_type": "execute_result"
    }
   ],
   "source": [
    "lr.fit(X_train_pop, y_train_pop)"
   ]
  },
  {
   "cell_type": "code",
   "execution_count": 16,
   "metadata": {
    "id": "pRoEOsMKJCUF"
   },
   "outputs": [],
   "source": [
    "predslr = lr.predict(X_test_pop)"
   ]
  },
  {
   "cell_type": "code",
   "execution_count": 17,
   "metadata": {
    "colab": {
     "base_uri": "https://localhost:8080/"
    },
    "id": "6NBKFT2TBcrO",
    "outputId": "5bc89b94-bf4c-40f7-9d00-5380815c00af"
   },
   "outputs": [
    {
     "data": {
      "text/plain": [
       "0.9999516277178392"
      ]
     },
     "execution_count": 17,
     "metadata": {},
     "output_type": "execute_result"
    }
   ],
   "source": [
    "lr.score(X_test_pop, y_test_pop)"
   ]
  },
  {
   "cell_type": "code",
   "execution_count": 18,
   "metadata": {
    "colab": {
     "base_uri": "https://localhost:8080/"
    },
    "id": "jwc2mE3_I1DU",
    "outputId": "cdc8bf6a-d581-4057-c17a-88094df67f6a"
   },
   "outputs": [
    {
     "name": "stdout",
     "output_type": "stream",
     "text": [
      "The RVE is:  0.9999525137810349\n",
      "The rmse is:  81494.34971659307\n",
      "The Maximum Error is is:  435033.2917512851\n",
      "The Mean Absolute Error is:  36651.47682376531\n"
     ]
    }
   ],
   "source": [
    "printRegStatistics(y_test_pop, predslr)"
   ]
  },
  {
   "cell_type": "markdown",
   "metadata": {
    "id": "tqeV5zIIER4h"
   },
   "source": [
    "#### XGBoost\n"
   ]
  },
  {
   "cell_type": "code",
   "execution_count": 19,
   "metadata": {
    "id": "m9sJB2iQ5vpX"
   },
   "outputs": [],
   "source": [
    "xgb_params = {\n",
    "    \"learning_rate\": (0.05, 0.10, 0.15),\n",
    "    \"max_depth\": [ 3, 4, 5, 6, 8],\n",
    "    \"min_child_weight\": [ 1, 3, 5, 7],\n",
    "    \"gamma\":[ 0.0, 0.1, 0.2],\n",
    "    \"colsample_bytree\":[ 0.3, 0.4]\n",
    "}\n",
    "\n",
    "xgb = XGBRegressor(verbosity = 0)\n",
    "xgbgs = GridSearchCV(estimator=xgb, param_grid=xgb_params, scoring=\"neg_root_mean_squared_error\")\n",
    "xgbgs = xgbgs.fit(X_train_pop, y_train_pop)"
   ]
  },
  {
   "cell_type": "code",
   "execution_count": 20,
   "metadata": {
    "id": "PotPUixpEJFA"
   },
   "outputs": [
    {
     "data": {
      "text/plain": [
       "XGBRegressor(base_score=0.5, booster='gbtree', callbacks=None,\n",
       "             colsample_bylevel=1, colsample_bynode=1, colsample_bytree=0.3,\n",
       "             early_stopping_rounds=None, enable_categorical=False,\n",
       "             eval_metric=None, feature_types=None, gamma=0.0, gpu_id=-1,\n",
       "             grow_policy='depthwise', importance_type=None,\n",
       "             interaction_constraints='', learning_rate=0.15, max_bin=256,\n",
       "             max_cat_threshold=64, max_cat_to_onehot=4, max_delta_step=0,\n",
       "             max_depth=5, max_leaves=0, min_child_weight=1, missing=nan,\n",
       "             monotone_constraints='()', n_estimators=100, n_jobs=0,\n",
       "             num_parallel_tree=1, predictor='auto', random_state=0, ...)"
      ]
     },
     "execution_count": 20,
     "metadata": {},
     "output_type": "execute_result"
    }
   ],
   "source": [
    "xgbgs.best_estimator_"
   ]
  },
  {
   "cell_type": "code",
   "execution_count": 21,
   "metadata": {
    "id": "Wc1S9OwTEJHe"
   },
   "outputs": [],
   "source": [
    "predsxgb = xgbgs.best_estimator_.predict(X_test_pop)"
   ]
  },
  {
   "cell_type": "code",
   "execution_count": 22,
   "metadata": {
    "id": "mmVF-UlGEJJo"
   },
   "outputs": [
    {
     "name": "stdout",
     "output_type": "stream",
     "text": [
      "The RVE is:  0.999848938403586\n",
      "The rmse is:  144703.40568787223\n",
      "The Maximum Error is is:  883446.0\n",
      "The Mean Absolute Error is:  59737.23961001537\n"
     ]
    }
   ],
   "source": [
    "printRegStatistics(y_test_pop, predsxgb)"
   ]
  },
  {
   "cell_type": "markdown",
   "metadata": {
    "id": "1WYifmVDKced"
   },
   "source": [
    "#### MLP"
   ]
  },
  {
   "cell_type": "code",
   "execution_count": 23,
   "metadata": {
    "id": "GrRgI5zG_uYn"
   },
   "outputs": [],
   "source": [
    "scaler_pop = StandardScaler()\n",
    "scaler_pop.fit(X_train_pop)\n",
    "X_train_scaled = scaler_pop.transform(X_train_pop)\n",
    "X_test_scaled = scaler_pop.transform(X_test_pop)"
   ]
  },
  {
   "cell_type": "code",
   "execution_count": 24,
   "metadata": {
    "id": "adgCQsrPEJMK"
   },
   "outputs": [],
   "source": [
    "mlp_params = {\n",
    "    \"activation\":['identity', 'relu'],\n",
    "    \"solver\":['lbfgs', 'sgd', 'adam'],\n",
    "    \"hidden_layer_sizes\": [(10,),(50,),(100,)],\n",
    "    \"alpha\": [0.0001, 0.01, 0.1, 1]\n",
    "}\n",
    "\n",
    "mlp = MLPRegressor()\n",
    "mlpgs = GridSearchCV(estimator=mlp, param_grid=mlp_params, scoring=\"neg_root_mean_squared_error\")\n",
    "mlpgs = mlpgs.fit(X_train_scaled, y_train_pop)"
   ]
  },
  {
   "cell_type": "code",
   "execution_count": 25,
   "metadata": {
    "id": "XVl3cD9FLfkf"
   },
   "outputs": [
    {
     "data": {
      "text/plain": [
       "MLPRegressor(alpha=1, solver='lbfgs')"
      ]
     },
     "execution_count": 25,
     "metadata": {},
     "output_type": "execute_result"
    }
   ],
   "source": [
    "mlpgs.best_estimator_"
   ]
  },
  {
   "cell_type": "code",
   "execution_count": 26,
   "metadata": {
    "id": "s67Lzv8_Lfm_"
   },
   "outputs": [],
   "source": [
    "predsmlp = mlpgs.best_estimator_.predict(X_test_scaled)"
   ]
  },
  {
   "cell_type": "code",
   "execution_count": 27,
   "metadata": {
    "id": "pfRf1dQ1Mlx-"
   },
   "outputs": [
    {
     "name": "stdout",
     "output_type": "stream",
     "text": [
      "The RVE is:  0.9999575698032417\n",
      "The rmse is:  76674.61642138011\n",
      "The Maximum Error is is:  440792.84928962216\n",
      "The Mean Absolute Error is:  33563.24583469129\n"
     ]
    }
   ],
   "source": [
    "printRegStatistics(y_test_pop, predsmlp)"
   ]
  },
  {
   "cell_type": "markdown",
   "metadata": {
    "id": "vhqUiLNmMuMY"
   },
   "source": [
    "#### Best"
   ]
  },
  {
   "cell_type": "code",
   "execution_count": 28,
   "metadata": {
    "id": "kYf9qP7rMtmQ"
   },
   "outputs": [],
   "source": [
    "best_model_pop = mlpgs.best_estimator_"
   ]
  },
  {
   "cell_type": "markdown",
   "metadata": {
    "id": "i3_nerkXax-n"
   },
   "source": [
    "### Fertility Rate"
   ]
  },
  {
   "cell_type": "code",
   "execution_count": 29,
   "metadata": {
    "id": "VeIITUl3BLrR"
   },
   "outputs": [],
   "source": [
    "X_train_fr, X_test_fr, y_train_fr, y_test_fr = train_test_split(fr_deltas[['D0', 'D1', 'D2']], fr_deltas[['D3']], test_size=0.25)"
   ]
  },
  {
   "cell_type": "markdown",
   "metadata": {
    "id": "WMgpF7ZXa5gl"
   },
   "source": [
    "#### Linear regression"
   ]
  },
  {
   "cell_type": "code",
   "execution_count": 30,
   "metadata": {
    "id": "rACKLKU4a5gm"
   },
   "outputs": [],
   "source": [
    "lr = LinearRegression()"
   ]
  },
  {
   "cell_type": "code",
   "execution_count": 31,
   "metadata": {
    "id": "-XYbFXyya5gn"
   },
   "outputs": [
    {
     "data": {
      "text/plain": [
       "LinearRegression()"
      ]
     },
     "execution_count": 31,
     "metadata": {},
     "output_type": "execute_result"
    }
   ],
   "source": [
    "lr.fit(X_train_fr, y_train_fr)"
   ]
  },
  {
   "cell_type": "code",
   "execution_count": 32,
   "metadata": {
    "id": "S4bDEDswa5go"
   },
   "outputs": [],
   "source": [
    "predslr = lr.predict(X_test_fr)"
   ]
  },
  {
   "cell_type": "code",
   "execution_count": 33,
   "metadata": {
    "id": "k1nPjizMa5gp"
   },
   "outputs": [
    {
     "data": {
      "text/plain": [
       "0.35976917322652224"
      ]
     },
     "execution_count": 33,
     "metadata": {},
     "output_type": "execute_result"
    }
   ],
   "source": [
    "lr.score(X_test_fr, y_test_fr)"
   ]
  },
  {
   "cell_type": "code",
   "execution_count": 34,
   "metadata": {
    "id": "aBJ9s8lza5gq"
   },
   "outputs": [
    {
     "name": "stdout",
     "output_type": "stream",
     "text": [
      "The RVE is:  0.36250752112510787\n",
      "The rmse is:  0.02840733977161631\n",
      "The Maximum Error is is:  0.21868714838658057\n",
      "The Mean Absolute Error is:  0.01509865206826493\n"
     ]
    }
   ],
   "source": [
    "printRegStatistics(y_test_fr, predslr)"
   ]
  },
  {
   "cell_type": "markdown",
   "metadata": {
    "id": "aKMcJlNda5gr"
   },
   "source": [
    "#### XGBoost\n"
   ]
  },
  {
   "cell_type": "code",
   "execution_count": 35,
   "metadata": {
    "id": "advczrZba5gr"
   },
   "outputs": [],
   "source": [
    "xgb_params = {\n",
    "    \"learning_rate\": (0.05, 0.10, 0.15),\n",
    "    \"max_depth\": [ 3, 4, 5, 6, 8],\n",
    "    \"min_child_weight\": [ 1, 3, 5, 7],\n",
    "    \"gamma\":[ 0.0, 0.1, 0.2],\n",
    "    \"colsample_bytree\":[ 0.3, 0.4]\n",
    "}\n",
    "\n",
    "xgb = XGBRegressor(verbosity = 0)\n",
    "xgbgs = GridSearchCV(estimator=xgb, param_grid=xgb_params, scoring=\"neg_root_mean_squared_error\")\n",
    "xgbgs = xgbgs.fit(X_train_fr, y_train_fr)"
   ]
  },
  {
   "cell_type": "code",
   "execution_count": 36,
   "metadata": {
    "id": "OnjsB2xKa5gs"
   },
   "outputs": [
    {
     "data": {
      "text/plain": [
       "XGBRegressor(base_score=0.5, booster='gbtree', callbacks=None,\n",
       "             colsample_bylevel=1, colsample_bynode=1, colsample_bytree=0.3,\n",
       "             early_stopping_rounds=None, enable_categorical=False,\n",
       "             eval_metric=None, feature_types=None, gamma=0.0, gpu_id=-1,\n",
       "             grow_policy='depthwise', importance_type=None,\n",
       "             interaction_constraints='', learning_rate=0.05, max_bin=256,\n",
       "             max_cat_threshold=64, max_cat_to_onehot=4, max_delta_step=0,\n",
       "             max_depth=3, max_leaves=0, min_child_weight=7, missing=nan,\n",
       "             monotone_constraints='()', n_estimators=100, n_jobs=0,\n",
       "             num_parallel_tree=1, predictor='auto', random_state=0, ...)"
      ]
     },
     "execution_count": 36,
     "metadata": {},
     "output_type": "execute_result"
    }
   ],
   "source": [
    "xgbgs.best_estimator_"
   ]
  },
  {
   "cell_type": "code",
   "execution_count": 37,
   "metadata": {
    "id": "zQ9lM_G9a5gt"
   },
   "outputs": [],
   "source": [
    "predsxgb = xgbgs.best_estimator_.predict(X_test_fr)"
   ]
  },
  {
   "cell_type": "code",
   "execution_count": 38,
   "metadata": {
    "id": "mqFRQ8Sea5gu"
   },
   "outputs": [
    {
     "name": "stdout",
     "output_type": "stream",
     "text": [
      "The RVE is:  0.5921211617285371\n",
      "The rmse is:  0.02334243043651772\n",
      "The Maximum Error is is:  0.14704733207821863\n",
      "The Mean Absolute Error is:  0.01437573699485383\n"
     ]
    }
   ],
   "source": [
    "printRegStatistics(y_test_fr, predsxgb)"
   ]
  },
  {
   "cell_type": "markdown",
   "metadata": {
    "id": "sgyccSOLa5gv"
   },
   "source": [
    "#### MLP"
   ]
  },
  {
   "cell_type": "code",
   "execution_count": 39,
   "metadata": {
    "id": "V79Jp7SbA73O"
   },
   "outputs": [],
   "source": [
    "scaler_fr = StandardScaler()\n",
    "scaler_fr.fit(X_train_fr)\n",
    "X_train_scaled_2 = scaler_fr.transform(X_train_fr)\n",
    "X_test_scaled_2 = scaler_fr.transform(X_test_fr)"
   ]
  },
  {
   "cell_type": "code",
   "execution_count": 40,
   "metadata": {
    "id": "goDyGmRra5gv"
   },
   "outputs": [],
   "source": [
    "mlp_params = {\n",
    "    \"activation\":['identity', 'relu'],\n",
    "    \"solver\":['lbfgs', 'sgd', 'adam'],\n",
    "    \"hidden_layer_sizes\": [(10,),(50,),(100,)],\n",
    "    \"alpha\": [0.0001, 0.01, 0.1, 1]\n",
    "}\n",
    "\n",
    "mlp = MLPRegressor()\n",
    "mlpgs = GridSearchCV(estimator=mlp, param_grid=mlp_params, scoring=\"neg_root_mean_squared_error\")\n",
    "mlpgs = mlpgs.fit(X_train_scaled_2, y_train_fr)"
   ]
  },
  {
   "cell_type": "code",
   "execution_count": 41,
   "metadata": {
    "id": "d6vNU5x3a5gw"
   },
   "outputs": [
    {
     "data": {
      "text/plain": [
       "MLPRegressor(alpha=0.1, hidden_layer_sizes=(10,), solver='lbfgs')"
      ]
     },
     "execution_count": 41,
     "metadata": {},
     "output_type": "execute_result"
    }
   ],
   "source": [
    "mlpgs.best_estimator_"
   ]
  },
  {
   "cell_type": "code",
   "execution_count": 42,
   "metadata": {
    "id": "sLa86Whia5gw"
   },
   "outputs": [],
   "source": [
    "predsmlp = mlpgs.best_estimator_.predict(X_test_scaled_2)"
   ]
  },
  {
   "cell_type": "code",
   "execution_count": 43,
   "metadata": {
    "id": "bCapve1na5gx"
   },
   "outputs": [
    {
     "name": "stdout",
     "output_type": "stream",
     "text": [
      "The RVE is:  -0.02890057136408708\n",
      "The rmse is:  0.03619087723147962\n",
      "The Maximum Error is is:  0.29112930529016723\n",
      "The Mean Absolute Error is:  0.013119279045049385\n"
     ]
    }
   ],
   "source": [
    "printRegStatistics(y_test_fr, predsmlp)"
   ]
  },
  {
   "cell_type": "markdown",
   "metadata": {
    "id": "pCxDU5YKNFCu"
   },
   "source": [
    "#### Best"
   ]
  },
  {
   "cell_type": "code",
   "execution_count": 44,
   "metadata": {
    "id": "Y7my1RZPNFV_"
   },
   "outputs": [],
   "source": [
    "best_model_fr = xgbgs.best_estimator_"
   ]
  },
  {
   "cell_type": "markdown",
   "metadata": {
    "id": "8AUTzydxceis"
   },
   "source": [
    "### Life Expectancy"
   ]
  },
  {
   "cell_type": "code",
   "execution_count": 45,
   "metadata": {
    "id": "8h4iRaBTBRd7"
   },
   "outputs": [],
   "source": [
    "X_train_le, X_test_le, y_train_le, y_test_le = train_test_split(le_deltas[['D0', 'D1', 'D2']], le_deltas[['D3']], test_size=0.25)"
   ]
  },
  {
   "cell_type": "markdown",
   "metadata": {
    "id": "JEpJvLCnceiv"
   },
   "source": [
    "#### Linear regression"
   ]
  },
  {
   "cell_type": "code",
   "execution_count": 46,
   "metadata": {
    "id": "gjKBM-o1ceiv"
   },
   "outputs": [],
   "source": [
    "lr = LinearRegression()"
   ]
  },
  {
   "cell_type": "code",
   "execution_count": 47,
   "metadata": {
    "id": "w2Ei48_dceiw"
   },
   "outputs": [
    {
     "data": {
      "text/plain": [
       "LinearRegression()"
      ]
     },
     "execution_count": 47,
     "metadata": {},
     "output_type": "execute_result"
    }
   ],
   "source": [
    "lr.fit(X_train_le, y_train_le)"
   ]
  },
  {
   "cell_type": "code",
   "execution_count": 48,
   "metadata": {
    "id": "a0R0NzIRceiw"
   },
   "outputs": [],
   "source": [
    "predslr = lr.predict(X_test_le)"
   ]
  },
  {
   "cell_type": "code",
   "execution_count": 49,
   "metadata": {
    "id": "p_HaTZasceix"
   },
   "outputs": [
    {
     "data": {
      "text/plain": [
       "0.4820396316443599"
      ]
     },
     "execution_count": 49,
     "metadata": {},
     "output_type": "execute_result"
    }
   ],
   "source": [
    "lr.score(X_test_le, y_test_le)"
   ]
  },
  {
   "cell_type": "code",
   "execution_count": 50,
   "metadata": {
    "id": "pNBOVAu5ceix"
   },
   "outputs": [
    {
     "name": "stdout",
     "output_type": "stream",
     "text": [
      "The RVE is:  0.5115064885119651\n",
      "The rmse is:  0.14415276670829832\n",
      "The Maximum Error is is:  0.6790366417714698\n",
      "The Mean Absolute Error is:  0.08889937610844705\n"
     ]
    }
   ],
   "source": [
    "printRegStatistics(y_test_le, predslr)"
   ]
  },
  {
   "cell_type": "markdown",
   "metadata": {
    "id": "C_iTFeErceiz"
   },
   "source": [
    "#### XGBoost\n"
   ]
  },
  {
   "cell_type": "code",
   "execution_count": 51,
   "metadata": {
    "id": "t2irAYeHcei0"
   },
   "outputs": [],
   "source": [
    "xgb_params = {\n",
    "    \"learning_rate\": (0.05, 0.10, 0.15),\n",
    "    \"max_depth\": [ 3, 4, 5, 6, 8],\n",
    "    \"min_child_weight\": [ 1, 3, 5, 7],\n",
    "    \"gamma\":[ 0.0, 0.1, 0.2],\n",
    "    \"colsample_bytree\":[ 0.3, 0.4]\n",
    "}\n",
    "\n",
    "xgb = XGBRegressor(verbosity = 0)\n",
    "xgbgs = GridSearchCV(estimator=xgb, param_grid=xgb_params, scoring=\"neg_root_mean_squared_error\")\n",
    "xgbgs = xgbgs.fit(X_train_le, y_train_le)"
   ]
  },
  {
   "cell_type": "code",
   "execution_count": 52,
   "metadata": {
    "id": "DQNH3GQwcei1"
   },
   "outputs": [
    {
     "data": {
      "text/plain": [
       "XGBRegressor(base_score=0.5, booster='gbtree', callbacks=None,\n",
       "             colsample_bylevel=1, colsample_bynode=1, colsample_bytree=0.3,\n",
       "             early_stopping_rounds=None, enable_categorical=False,\n",
       "             eval_metric=None, feature_types=None, gamma=0.1, gpu_id=-1,\n",
       "             grow_policy='depthwise', importance_type=None,\n",
       "             interaction_constraints='', learning_rate=0.15, max_bin=256,\n",
       "             max_cat_threshold=64, max_cat_to_onehot=4, max_delta_step=0,\n",
       "             max_depth=3, max_leaves=0, min_child_weight=3, missing=nan,\n",
       "             monotone_constraints='()', n_estimators=100, n_jobs=0,\n",
       "             num_parallel_tree=1, predictor='auto', random_state=0, ...)"
      ]
     },
     "execution_count": 52,
     "metadata": {},
     "output_type": "execute_result"
    }
   ],
   "source": [
    "xgbgs.best_estimator_"
   ]
  },
  {
   "cell_type": "code",
   "execution_count": 53,
   "metadata": {
    "id": "mHhxsNEgcei2"
   },
   "outputs": [],
   "source": [
    "predsxgb = xgbgs.best_estimator_.predict(X_test_le)"
   ]
  },
  {
   "cell_type": "code",
   "execution_count": 54,
   "metadata": {
    "id": "v09i1rPqcei2"
   },
   "outputs": [
    {
     "name": "stdout",
     "output_type": "stream",
     "text": [
      "The RVE is:  0.48493732165219694\n",
      "The rmse is:  0.1489111097497836\n",
      "The Maximum Error is is:  0.7138377653934356\n",
      "The Mean Absolute Error is:  0.09272849536977383\n"
     ]
    }
   ],
   "source": [
    "printRegStatistics(y_test_le, predsxgb)"
   ]
  },
  {
   "cell_type": "markdown",
   "metadata": {
    "id": "QtcQ4bMVcei3"
   },
   "source": [
    "#### MLP"
   ]
  },
  {
   "cell_type": "code",
   "execution_count": 55,
   "metadata": {
    "id": "dXXGrXjo-we_"
   },
   "outputs": [],
   "source": [
    "scaler_le = StandardScaler()\n",
    "scaler_le.fit(X_train_le)\n",
    "X_train_scaled_3 = scaler_le.transform(X_train_le)\n",
    "X_test_scaled_3 = scaler_le.transform(X_test_le)"
   ]
  },
  {
   "cell_type": "code",
   "execution_count": 56,
   "metadata": {
    "id": "yihAU3RTcei4"
   },
   "outputs": [],
   "source": [
    "mlp_params = {\n",
    "    \"activation\":['identity', 'relu'],\n",
    "    \"solver\":['lbfgs', 'sgd', 'adam'],\n",
    "    \"hidden_layer_sizes\": [(10,),(50,),(100,)],\n",
    "    \"alpha\": [0.0001, 0.01, 0.1, 1]\n",
    "}\n",
    "\n",
    "mlp = MLPRegressor()\n",
    "mlpgs = GridSearchCV(estimator=mlp, param_grid=mlp_params, scoring=\"neg_root_mean_squared_error\")\n",
    "mlpgs = mlpgs.fit(X_train_scaled_3, y_train_le)"
   ]
  },
  {
   "cell_type": "code",
   "execution_count": 57,
   "metadata": {
    "id": "AiVTRdcLcei4"
   },
   "outputs": [
    {
     "data": {
      "text/plain": [
       "MLPRegressor(alpha=0.1, hidden_layer_sizes=(10,), solver='lbfgs')"
      ]
     },
     "execution_count": 57,
     "metadata": {},
     "output_type": "execute_result"
    }
   ],
   "source": [
    "mlpgs.best_estimator_"
   ]
  },
  {
   "cell_type": "code",
   "execution_count": 58,
   "metadata": {
    "id": "teTKqmpdcei5"
   },
   "outputs": [],
   "source": [
    "predsmlp = mlpgs.best_estimator_.predict(X_test_scaled_3)"
   ]
  },
  {
   "cell_type": "code",
   "execution_count": 59,
   "metadata": {
    "id": "bYiHtx1wcei5"
   },
   "outputs": [
    {
     "name": "stdout",
     "output_type": "stream",
     "text": [
      "The RVE is:  0.687975401021323\n",
      "The rmse is:  0.11343076646615576\n",
      "The Maximum Error is is:  0.7571266595461273\n",
      "The Mean Absolute Error is:  0.05062444892671546\n"
     ]
    }
   ],
   "source": [
    "printRegStatistics(y_test_le, predsmlp)"
   ]
  },
  {
   "cell_type": "markdown",
   "metadata": {
    "id": "YHo5uQl3Ngwn"
   },
   "source": [
    "#### Best"
   ]
  },
  {
   "cell_type": "code",
   "execution_count": 60,
   "metadata": {
    "id": "XxPqcqF4Ng7d"
   },
   "outputs": [],
   "source": [
    "best_model_le = mlpgs.best_estimator_"
   ]
  },
  {
   "cell_type": "markdown",
   "metadata": {
    "id": "NL-cDieFDHPh"
   },
   "source": [
    "# Results"
   ]
  },
  {
   "cell_type": "code",
   "execution_count": 61,
   "metadata": {
    "id": "h6PCxhjCDNFb"
   },
   "outputs": [],
   "source": [
    "population_wb = pd.read_excel(\"API_SP.POP.TOTL_DS2_en_excel_v2_4768066.xls\")\n",
    "fertility_rate_wb = pd.read_excel(\"API_SP.DYN.TFRT.IN_DS2_en_excel_v2_4764757.xls\")\n",
    "life_expectancy_wb = pd.read_excel(\"API_SP.DYN.LE00.IN_DS2_en_excel_v2_4767495.xls\")"
   ]
  },
  {
   "cell_type": "code",
   "execution_count": 62,
   "metadata": {
    "id": "_l4bJLXzXLcZ"
   },
   "outputs": [
    {
     "data": {
      "text/html": [
       "<div>\n",
       "<style scoped>\n",
       "    .dataframe tbody tr th:only-of-type {\n",
       "        vertical-align: middle;\n",
       "    }\n",
       "\n",
       "    .dataframe tbody tr th {\n",
       "        vertical-align: top;\n",
       "    }\n",
       "\n",
       "    .dataframe thead th {\n",
       "        text-align: right;\n",
       "    }\n",
       "</style>\n",
       "<table border=\"1\" class=\"dataframe\">\n",
       "  <thead>\n",
       "    <tr style=\"text-align: right;\">\n",
       "      <th></th>\n",
       "      <th>Country Name</th>\n",
       "      <th>Country Code</th>\n",
       "      <th>Indicator Name</th>\n",
       "      <th>Indicator Code</th>\n",
       "      <th>1960</th>\n",
       "      <th>1961</th>\n",
       "      <th>1962</th>\n",
       "      <th>1963</th>\n",
       "      <th>1964</th>\n",
       "      <th>1965</th>\n",
       "      <th>...</th>\n",
       "      <th>2012</th>\n",
       "      <th>2013</th>\n",
       "      <th>2014</th>\n",
       "      <th>2015</th>\n",
       "      <th>2016</th>\n",
       "      <th>2017</th>\n",
       "      <th>2018</th>\n",
       "      <th>2019</th>\n",
       "      <th>2020</th>\n",
       "      <th>2021</th>\n",
       "    </tr>\n",
       "  </thead>\n",
       "  <tbody>\n",
       "    <tr>\n",
       "      <th>0</th>\n",
       "      <td>Aruba</td>\n",
       "      <td>ABW</td>\n",
       "      <td>Population, total</td>\n",
       "      <td>SP.POP.TOTL</td>\n",
       "      <td>54208.0</td>\n",
       "      <td>55434.0</td>\n",
       "      <td>56234.0</td>\n",
       "      <td>56699.0</td>\n",
       "      <td>57029.0</td>\n",
       "      <td>57357.0</td>\n",
       "      <td>...</td>\n",
       "      <td>102565.0</td>\n",
       "      <td>103165.0</td>\n",
       "      <td>103776.0</td>\n",
       "      <td>104339.0</td>\n",
       "      <td>104865.0</td>\n",
       "      <td>105361.0</td>\n",
       "      <td>105846.0</td>\n",
       "      <td>106310.0</td>\n",
       "      <td>106766.0</td>\n",
       "      <td>107195.0</td>\n",
       "    </tr>\n",
       "    <tr>\n",
       "      <th>1</th>\n",
       "      <td>Africa Eastern and Southern</td>\n",
       "      <td>AFE</td>\n",
       "      <td>Population, total</td>\n",
       "      <td>SP.POP.TOTL</td>\n",
       "      <td>130836765.0</td>\n",
       "      <td>134159786.0</td>\n",
       "      <td>137614644.0</td>\n",
       "      <td>141202036.0</td>\n",
       "      <td>144920186.0</td>\n",
       "      <td>148769974.0</td>\n",
       "      <td>...</td>\n",
       "      <td>547482863.0</td>\n",
       "      <td>562601578.0</td>\n",
       "      <td>578075373.0</td>\n",
       "      <td>593871847.0</td>\n",
       "      <td>609978946.0</td>\n",
       "      <td>626392880.0</td>\n",
       "      <td>643090131.0</td>\n",
       "      <td>660046272.0</td>\n",
       "      <td>677243299.0</td>\n",
       "      <td>694665117.0</td>\n",
       "    </tr>\n",
       "    <tr>\n",
       "      <th>2</th>\n",
       "      <td>Afghanistan</td>\n",
       "      <td>AFG</td>\n",
       "      <td>Population, total</td>\n",
       "      <td>SP.POP.TOTL</td>\n",
       "      <td>8996967.0</td>\n",
       "      <td>9169406.0</td>\n",
       "      <td>9351442.0</td>\n",
       "      <td>9543200.0</td>\n",
       "      <td>9744772.0</td>\n",
       "      <td>9956318.0</td>\n",
       "      <td>...</td>\n",
       "      <td>31161378.0</td>\n",
       "      <td>32269592.0</td>\n",
       "      <td>33370804.0</td>\n",
       "      <td>34413603.0</td>\n",
       "      <td>35383028.0</td>\n",
       "      <td>36296111.0</td>\n",
       "      <td>37171922.0</td>\n",
       "      <td>38041757.0</td>\n",
       "      <td>38928341.0</td>\n",
       "      <td>39835428.0</td>\n",
       "    </tr>\n",
       "    <tr>\n",
       "      <th>3</th>\n",
       "      <td>Africa Western and Central</td>\n",
       "      <td>AFW</td>\n",
       "      <td>Population, total</td>\n",
       "      <td>SP.POP.TOTL</td>\n",
       "      <td>96396419.0</td>\n",
       "      <td>98407221.0</td>\n",
       "      <td>100506960.0</td>\n",
       "      <td>102691339.0</td>\n",
       "      <td>104953470.0</td>\n",
       "      <td>107289875.0</td>\n",
       "      <td>...</td>\n",
       "      <td>370243017.0</td>\n",
       "      <td>380437896.0</td>\n",
       "      <td>390882979.0</td>\n",
       "      <td>401586651.0</td>\n",
       "      <td>412551299.0</td>\n",
       "      <td>423769930.0</td>\n",
       "      <td>435229381.0</td>\n",
       "      <td>446911598.0</td>\n",
       "      <td>458803476.0</td>\n",
       "      <td>470898870.0</td>\n",
       "    </tr>\n",
       "    <tr>\n",
       "      <th>4</th>\n",
       "      <td>Angola</td>\n",
       "      <td>AGO</td>\n",
       "      <td>Population, total</td>\n",
       "      <td>SP.POP.TOTL</td>\n",
       "      <td>5454938.0</td>\n",
       "      <td>5531451.0</td>\n",
       "      <td>5608499.0</td>\n",
       "      <td>5679409.0</td>\n",
       "      <td>5734995.0</td>\n",
       "      <td>5770573.0</td>\n",
       "      <td>...</td>\n",
       "      <td>25107925.0</td>\n",
       "      <td>26015786.0</td>\n",
       "      <td>26941773.0</td>\n",
       "      <td>27884380.0</td>\n",
       "      <td>28842482.0</td>\n",
       "      <td>29816769.0</td>\n",
       "      <td>30809787.0</td>\n",
       "      <td>31825299.0</td>\n",
       "      <td>32866268.0</td>\n",
       "      <td>33933611.0</td>\n",
       "    </tr>\n",
       "    <tr>\n",
       "      <th>...</th>\n",
       "      <td>...</td>\n",
       "      <td>...</td>\n",
       "      <td>...</td>\n",
       "      <td>...</td>\n",
       "      <td>...</td>\n",
       "      <td>...</td>\n",
       "      <td>...</td>\n",
       "      <td>...</td>\n",
       "      <td>...</td>\n",
       "      <td>...</td>\n",
       "      <td>...</td>\n",
       "      <td>...</td>\n",
       "      <td>...</td>\n",
       "      <td>...</td>\n",
       "      <td>...</td>\n",
       "      <td>...</td>\n",
       "      <td>...</td>\n",
       "      <td>...</td>\n",
       "      <td>...</td>\n",
       "      <td>...</td>\n",
       "      <td>...</td>\n",
       "    </tr>\n",
       "    <tr>\n",
       "      <th>261</th>\n",
       "      <td>Kosovo</td>\n",
       "      <td>XKX</td>\n",
       "      <td>Population, total</td>\n",
       "      <td>SP.POP.TOTL</td>\n",
       "      <td>947000.0</td>\n",
       "      <td>966000.0</td>\n",
       "      <td>994000.0</td>\n",
       "      <td>1022000.0</td>\n",
       "      <td>1050000.0</td>\n",
       "      <td>1078000.0</td>\n",
       "      <td>...</td>\n",
       "      <td>1807106.0</td>\n",
       "      <td>1818117.0</td>\n",
       "      <td>1812771.0</td>\n",
       "      <td>1788196.0</td>\n",
       "      <td>1777557.0</td>\n",
       "      <td>1791003.0</td>\n",
       "      <td>1797085.0</td>\n",
       "      <td>1788878.0</td>\n",
       "      <td>1790133.0</td>\n",
       "      <td>1806279.0</td>\n",
       "    </tr>\n",
       "    <tr>\n",
       "      <th>262</th>\n",
       "      <td>Yemen, Rep.</td>\n",
       "      <td>YEM</td>\n",
       "      <td>Population, total</td>\n",
       "      <td>SP.POP.TOTL</td>\n",
       "      <td>5315351.0</td>\n",
       "      <td>5393034.0</td>\n",
       "      <td>5473671.0</td>\n",
       "      <td>5556767.0</td>\n",
       "      <td>5641598.0</td>\n",
       "      <td>5727745.0</td>\n",
       "      <td>...</td>\n",
       "      <td>24473176.0</td>\n",
       "      <td>25147112.0</td>\n",
       "      <td>25823488.0</td>\n",
       "      <td>26497881.0</td>\n",
       "      <td>27168210.0</td>\n",
       "      <td>27834811.0</td>\n",
       "      <td>28498683.0</td>\n",
       "      <td>29161922.0</td>\n",
       "      <td>29825968.0</td>\n",
       "      <td>30490639.0</td>\n",
       "    </tr>\n",
       "    <tr>\n",
       "      <th>263</th>\n",
       "      <td>South Africa</td>\n",
       "      <td>ZAF</td>\n",
       "      <td>Population, total</td>\n",
       "      <td>SP.POP.TOTL</td>\n",
       "      <td>17099836.0</td>\n",
       "      <td>17524533.0</td>\n",
       "      <td>17965733.0</td>\n",
       "      <td>18423157.0</td>\n",
       "      <td>18896303.0</td>\n",
       "      <td>19384838.0</td>\n",
       "      <td>...</td>\n",
       "      <td>52832659.0</td>\n",
       "      <td>53687125.0</td>\n",
       "      <td>54544184.0</td>\n",
       "      <td>55386369.0</td>\n",
       "      <td>56207649.0</td>\n",
       "      <td>57009751.0</td>\n",
       "      <td>57792520.0</td>\n",
       "      <td>58558267.0</td>\n",
       "      <td>59308690.0</td>\n",
       "      <td>60041996.0</td>\n",
       "    </tr>\n",
       "    <tr>\n",
       "      <th>264</th>\n",
       "      <td>Zambia</td>\n",
       "      <td>ZMB</td>\n",
       "      <td>Population, total</td>\n",
       "      <td>SP.POP.TOTL</td>\n",
       "      <td>3070780.0</td>\n",
       "      <td>3164330.0</td>\n",
       "      <td>3260645.0</td>\n",
       "      <td>3360099.0</td>\n",
       "      <td>3463211.0</td>\n",
       "      <td>3570466.0</td>\n",
       "      <td>...</td>\n",
       "      <td>14465148.0</td>\n",
       "      <td>14926551.0</td>\n",
       "      <td>15399793.0</td>\n",
       "      <td>15879370.0</td>\n",
       "      <td>16363449.0</td>\n",
       "      <td>16853608.0</td>\n",
       "      <td>17351714.0</td>\n",
       "      <td>17861034.0</td>\n",
       "      <td>18383956.0</td>\n",
       "      <td>18920657.0</td>\n",
       "    </tr>\n",
       "    <tr>\n",
       "      <th>265</th>\n",
       "      <td>Zimbabwe</td>\n",
       "      <td>ZWE</td>\n",
       "      <td>Population, total</td>\n",
       "      <td>SP.POP.TOTL</td>\n",
       "      <td>3776679.0</td>\n",
       "      <td>3905038.0</td>\n",
       "      <td>4039209.0</td>\n",
       "      <td>4178726.0</td>\n",
       "      <td>4322854.0</td>\n",
       "      <td>4471178.0</td>\n",
       "      <td>...</td>\n",
       "      <td>13115149.0</td>\n",
       "      <td>13350378.0</td>\n",
       "      <td>13586710.0</td>\n",
       "      <td>13814642.0</td>\n",
       "      <td>14030338.0</td>\n",
       "      <td>14236599.0</td>\n",
       "      <td>14438812.0</td>\n",
       "      <td>14645473.0</td>\n",
       "      <td>14862927.0</td>\n",
       "      <td>15092171.0</td>\n",
       "    </tr>\n",
       "  </tbody>\n",
       "</table>\n",
       "<p>266 rows × 66 columns</p>\n",
       "</div>"
      ],
      "text/plain": [
       "                    Country Name Country Code     Indicator Name  \\\n",
       "0                          Aruba          ABW  Population, total   \n",
       "1    Africa Eastern and Southern          AFE  Population, total   \n",
       "2                    Afghanistan          AFG  Population, total   \n",
       "3     Africa Western and Central          AFW  Population, total   \n",
       "4                         Angola          AGO  Population, total   \n",
       "..                           ...          ...                ...   \n",
       "261                       Kosovo          XKX  Population, total   \n",
       "262                  Yemen, Rep.          YEM  Population, total   \n",
       "263                 South Africa          ZAF  Population, total   \n",
       "264                       Zambia          ZMB  Population, total   \n",
       "265                     Zimbabwe          ZWE  Population, total   \n",
       "\n",
       "    Indicator Code         1960         1961         1962         1963  \\\n",
       "0      SP.POP.TOTL      54208.0      55434.0      56234.0      56699.0   \n",
       "1      SP.POP.TOTL  130836765.0  134159786.0  137614644.0  141202036.0   \n",
       "2      SP.POP.TOTL    8996967.0    9169406.0    9351442.0    9543200.0   \n",
       "3      SP.POP.TOTL   96396419.0   98407221.0  100506960.0  102691339.0   \n",
       "4      SP.POP.TOTL    5454938.0    5531451.0    5608499.0    5679409.0   \n",
       "..             ...          ...          ...          ...          ...   \n",
       "261    SP.POP.TOTL     947000.0     966000.0     994000.0    1022000.0   \n",
       "262    SP.POP.TOTL    5315351.0    5393034.0    5473671.0    5556767.0   \n",
       "263    SP.POP.TOTL   17099836.0   17524533.0   17965733.0   18423157.0   \n",
       "264    SP.POP.TOTL    3070780.0    3164330.0    3260645.0    3360099.0   \n",
       "265    SP.POP.TOTL    3776679.0    3905038.0    4039209.0    4178726.0   \n",
       "\n",
       "            1964         1965  ...         2012         2013         2014  \\\n",
       "0        57029.0      57357.0  ...     102565.0     103165.0     103776.0   \n",
       "1    144920186.0  148769974.0  ...  547482863.0  562601578.0  578075373.0   \n",
       "2      9744772.0    9956318.0  ...   31161378.0   32269592.0   33370804.0   \n",
       "3    104953470.0  107289875.0  ...  370243017.0  380437896.0  390882979.0   \n",
       "4      5734995.0    5770573.0  ...   25107925.0   26015786.0   26941773.0   \n",
       "..           ...          ...  ...          ...          ...          ...   \n",
       "261    1050000.0    1078000.0  ...    1807106.0    1818117.0    1812771.0   \n",
       "262    5641598.0    5727745.0  ...   24473176.0   25147112.0   25823488.0   \n",
       "263   18896303.0   19384838.0  ...   52832659.0   53687125.0   54544184.0   \n",
       "264    3463211.0    3570466.0  ...   14465148.0   14926551.0   15399793.0   \n",
       "265    4322854.0    4471178.0  ...   13115149.0   13350378.0   13586710.0   \n",
       "\n",
       "            2015         2016         2017         2018         2019  \\\n",
       "0       104339.0     104865.0     105361.0     105846.0     106310.0   \n",
       "1    593871847.0  609978946.0  626392880.0  643090131.0  660046272.0   \n",
       "2     34413603.0   35383028.0   36296111.0   37171922.0   38041757.0   \n",
       "3    401586651.0  412551299.0  423769930.0  435229381.0  446911598.0   \n",
       "4     27884380.0   28842482.0   29816769.0   30809787.0   31825299.0   \n",
       "..           ...          ...          ...          ...          ...   \n",
       "261    1788196.0    1777557.0    1791003.0    1797085.0    1788878.0   \n",
       "262   26497881.0   27168210.0   27834811.0   28498683.0   29161922.0   \n",
       "263   55386369.0   56207649.0   57009751.0   57792520.0   58558267.0   \n",
       "264   15879370.0   16363449.0   16853608.0   17351714.0   17861034.0   \n",
       "265   13814642.0   14030338.0   14236599.0   14438812.0   14645473.0   \n",
       "\n",
       "            2020         2021  \n",
       "0       106766.0     107195.0  \n",
       "1    677243299.0  694665117.0  \n",
       "2     38928341.0   39835428.0  \n",
       "3    458803476.0  470898870.0  \n",
       "4     32866268.0   33933611.0  \n",
       "..           ...          ...  \n",
       "261    1790133.0    1806279.0  \n",
       "262   29825968.0   30490639.0  \n",
       "263   59308690.0   60041996.0  \n",
       "264   18383956.0   18920657.0  \n",
       "265   14862927.0   15092171.0  \n",
       "\n",
       "[266 rows x 66 columns]"
      ]
     },
     "execution_count": 62,
     "metadata": {},
     "output_type": "execute_result"
    }
   ],
   "source": [
    "population_wb"
   ]
  },
  {
   "cell_type": "code",
   "execution_count": 63,
   "metadata": {
    "id": "OoQ3A36MEZSA"
   },
   "outputs": [],
   "source": [
    "population_df_last_6 = population_df_last_6.set_index(\"Country Name\")\n",
    "fertility_rate_df_last_6 = fertility_rate_df_last_6.set_index(\"Country Name\")\n",
    "life_expectancy_df_last_6 = life_expectancy_df_last_6.set_index(\"Country Name\")"
   ]
  },
  {
   "cell_type": "code",
   "execution_count": 64,
   "metadata": {
    "id": "MYzvVyKCXLh0"
   },
   "outputs": [
    {
     "data": {
      "text/plain": [
       "[121, 68, 168, 135, 170, 89, 36, 97, 2, 95]"
      ]
     },
     "execution_count": 64,
     "metadata": {},
     "output_type": "execute_result"
    }
   ],
   "source": [
    "# Make a list to choose 10 random countries\n",
    "import random\n",
    "random.seed(12)\n",
    "idx = random.sample(range(243), 10)\n",
    "idx"
   ]
  },
  {
   "cell_type": "code",
   "execution_count": 65,
   "metadata": {
    "id": "B9wqBjGxM4g8"
   },
   "outputs": [
    {
     "data": {
      "text/plain": [
       "['Latin America & Caribbean',\n",
       " 'Fiji',\n",
       " 'Panama',\n",
       " 'Morocco',\n",
       " 'Philippines',\n",
       " 'Croatia',\n",
       " 'China',\n",
       " 'IDA only',\n",
       " 'Angola',\n",
       " 'IDA blend']"
      ]
     },
     "execution_count": 65,
     "metadata": {},
     "output_type": "execute_result"
    }
   ],
   "source": [
    "random10 = list(population_df_last_6.iloc[idx].index)\n",
    "random10"
   ]
  },
  {
   "cell_type": "code",
   "execution_count": 66,
   "metadata": {
    "id": "VQj7twazM4kO"
   },
   "outputs": [],
   "source": [
    "p10 = population_wb.loc[population_wb[\"Country Name\"].isin(random10), [\"2016\", \"2017\", \"2018\"]]\n",
    "f10 = fertility_rate_wb.loc[fertility_rate_wb[\"Country Name\"].isin(random10), [\"2016\", \"2017\", \"2018\"]]\n",
    "l10 = life_expectancy_wb.loc[life_expectancy_wb[\"Country Name\"].isin(random10), [\"2016\", \"2017\", \"2018\"]]"
   ]
  },
  {
   "cell_type": "markdown",
   "metadata": {
    "id": "N28Bp-e3HGpc"
   },
   "source": [
    "## 2017"
   ]
  },
  {
   "cell_type": "code",
   "execution_count": 67,
   "metadata": {
    "id": "lN_7zRpEFmhU"
   },
   "outputs": [],
   "source": [
    "def test_df(df, idx):\n",
    "    result = pd.DataFrame()\n",
    "    d3 = df['2014'] - df['2013']\n",
    "    d4 = df['2015'] - df['2014']\n",
    "    d5 = df['2016'] - df['2015']\n",
    "    result = pd.concat([d3, d4, d5], axis = 1)\n",
    "    return result.iloc[idx]"
   ]
  },
  {
   "cell_type": "code",
   "execution_count": 68,
   "metadata": {
    "id": "IAjhYZ5lRIfL"
   },
   "outputs": [],
   "source": [
    "year2017column = pd.Series([2017 for i in range(10)], index=p10.index)"
   ]
  },
  {
   "cell_type": "code",
   "execution_count": 70,
   "metadata": {
    "id": "m6l4y-0xM4ra"
   },
   "outputs": [
    {
     "data": {
      "text/html": [
       "<div>\n",
       "<style scoped>\n",
       "    .dataframe tbody tr th:only-of-type {\n",
       "        vertical-align: middle;\n",
       "    }\n",
       "\n",
       "    .dataframe tbody tr th {\n",
       "        vertical-align: top;\n",
       "    }\n",
       "\n",
       "    .dataframe thead th {\n",
       "        text-align: right;\n",
       "    }\n",
       "</style>\n",
       "<table border=\"1\" class=\"dataframe\">\n",
       "  <thead>\n",
       "    <tr style=\"text-align: right;\">\n",
       "      <th></th>\n",
       "      <th>Predicted Deltas</th>\n",
       "      <th>Sum of predicted deltas with real values of 2016</th>\n",
       "      <th>Real values of 2017</th>\n",
       "    </tr>\n",
       "    <tr>\n",
       "      <th>Country Name</th>\n",
       "      <th></th>\n",
       "      <th></th>\n",
       "      <th></th>\n",
       "    </tr>\n",
       "  </thead>\n",
       "  <tbody>\n",
       "    <tr>\n",
       "      <th>Angola</th>\n",
       "      <td>6.484943e+06</td>\n",
       "      <td>3.532742e+07</td>\n",
       "      <td>2.981677e+07</td>\n",
       "    </tr>\n",
       "    <tr>\n",
       "      <th>China</th>\n",
       "      <td>6.390723e+03</td>\n",
       "      <td>1.387796e+09</td>\n",
       "      <td>1.396215e+09</td>\n",
       "    </tr>\n",
       "    <tr>\n",
       "      <th>Fiji</th>\n",
       "      <td>6.523219e+04</td>\n",
       "      <td>9.376382e+05</td>\n",
       "      <td>8.774600e+05</td>\n",
       "    </tr>\n",
       "    <tr>\n",
       "      <th>Croatia</th>\n",
       "      <td>4.795523e+05</td>\n",
       "      <td>4.653901e+06</td>\n",
       "      <td>4.124531e+06</td>\n",
       "    </tr>\n",
       "    <tr>\n",
       "      <th>IDA blend</th>\n",
       "      <td>1.598672e+06</td>\n",
       "      <td>5.263933e+08</td>\n",
       "      <td>5.368719e+08</td>\n",
       "    </tr>\n",
       "    <tr>\n",
       "      <th>IDA only</th>\n",
       "      <td>-2.659861e+04</td>\n",
       "      <td>1.037007e+09</td>\n",
       "      <td>1.060402e+09</td>\n",
       "    </tr>\n",
       "    <tr>\n",
       "      <th>Latin America &amp; Caribbean</th>\n",
       "      <td>7.579374e+06</td>\n",
       "      <td>6.360730e+08</td>\n",
       "      <td>6.345661e+08</td>\n",
       "    </tr>\n",
       "    <tr>\n",
       "      <th>Morocco</th>\n",
       "      <td>2.362192e+07</td>\n",
       "      <td>5.874819e+07</td>\n",
       "      <td>3.558126e+07</td>\n",
       "    </tr>\n",
       "    <tr>\n",
       "      <th>Panama</th>\n",
       "      <td>9.562185e+05</td>\n",
       "      <td>4.993291e+06</td>\n",
       "      <td>4.106764e+06</td>\n",
       "    </tr>\n",
       "    <tr>\n",
       "      <th>Philippines</th>\n",
       "      <td>1.187080e+07</td>\n",
       "      <td>1.155346e+08</td>\n",
       "      <td>1.051729e+08</td>\n",
       "    </tr>\n",
       "  </tbody>\n",
       "</table>\n",
       "</div>"
      ],
      "text/plain": [
       "                           Predicted Deltas  \\\n",
       "Country Name                                  \n",
       "Angola                         6.484943e+06   \n",
       "China                          6.390723e+03   \n",
       "Fiji                           6.523219e+04   \n",
       "Croatia                        4.795523e+05   \n",
       "IDA blend                      1.598672e+06   \n",
       "IDA only                      -2.659861e+04   \n",
       "Latin America & Caribbean      7.579374e+06   \n",
       "Morocco                        2.362192e+07   \n",
       "Panama                         9.562185e+05   \n",
       "Philippines                    1.187080e+07   \n",
       "\n",
       "                           Sum of predicted deltas with real values of 2016  \\\n",
       "Country Name                                                                  \n",
       "Angola                                                         3.532742e+07   \n",
       "China                                                          1.387796e+09   \n",
       "Fiji                                                           9.376382e+05   \n",
       "Croatia                                                        4.653901e+06   \n",
       "IDA blend                                                      5.263933e+08   \n",
       "IDA only                                                       1.037007e+09   \n",
       "Latin America & Caribbean                                      6.360730e+08   \n",
       "Morocco                                                        5.874819e+07   \n",
       "Panama                                                         4.993291e+06   \n",
       "Philippines                                                    1.155346e+08   \n",
       "\n",
       "                           Real values of 2017  \n",
       "Country Name                                    \n",
       "Angola                            2.981677e+07  \n",
       "China                             1.396215e+09  \n",
       "Fiji                              8.774600e+05  \n",
       "Croatia                           4.124531e+06  \n",
       "IDA blend                         5.368719e+08  \n",
       "IDA only                          1.060402e+09  \n",
       "Latin America & Caribbean         6.345661e+08  \n",
       "Morocco                           3.558126e+07  \n",
       "Panama                            4.106764e+06  \n",
       "Philippines                       1.051729e+08  "
      ]
     },
     "execution_count": 70,
     "metadata": {},
     "output_type": "execute_result"
    }
   ],
   "source": [
    "# Population Tests\n",
    "ptest2017 = test_df(population_df_last_6, idx)\n",
    "ptest2017 = scaler_pop.transform(ptest2017)\n",
    "predicteddeltas2017pop = pd.Series(best_model_pop.predict(ptest2017).reshape(1,10).tolist()[0], index = p10.index)\n",
    "presults = pd.concat([predicteddeltas2017pop, predicteddeltas2017pop + p10[\"2016\"], p10[\"2017\"]], axis = 1)\n",
    "presults.rename(columns = {0: \"Predicted Deltas\", 1: \"Sum of predicted deltas with real values of 2016\", \"2017\": \"Real values of 2017\"}, inplace = True)\n",
    "presults = presults.join(population_wb[[\"Country Name\"]], how='inner')\n",
    "presults = presults[['Country Name', 'Predicted Deltas', 'Sum of predicted deltas with real values of 2016', 'Real values of 2017']]\n",
    "presults = presults.set_index(\"Country Name\")\n",
    "presults"
   ]
  },
  {
   "cell_type": "code",
   "execution_count": 71,
   "metadata": {
    "id": "BC23UT2HTSax"
   },
   "outputs": [
    {
     "data": {
      "image/png": "[encoded data removed]",
      "text/plain": [
       "<Figure size 360x360 with 1 Axes>"
      ]
     },
     "metadata": {
      "needs_background": "light"
     },
     "output_type": "display_data"
    }
   ],
   "source": [
    "plt.figure(figsize=(5,5))\n",
    "plt.scatter(p10[\"2017\"], predicteddeltas2017pop + p10[\"2016\"], c='crimson')\n",
    "\n",
    "p1 = max(max(predicteddeltas2017pop + p10[\"2016\"]), max(p10[\"2017\"]))\n",
    "p2 = min(min(predicteddeltas2017pop + p10[\"2016\"]), min(p10[\"2017\"]))\n",
    "plt.plot([p1, p2], [p1, p2], 'b-')\n",
    "plt.xlabel('Real values of 2017')\n",
    "plt.ylabel('Sum of predicted deltas with real values of 2016')\n",
    "plt.title('Population')\n",
    "plt.axis('equal')\n",
    "plt.show()"
   ]
  },
  {
   "cell_type": "code",
   "execution_count": 72,
   "metadata": {
    "id": "yQ1UfxvnVkVq"
   },
   "outputs": [
    {
     "data": {
      "text/html": [
       "<div>\n",
       "<style scoped>\n",
       "    .dataframe tbody tr th:only-of-type {\n",
       "        vertical-align: middle;\n",
       "    }\n",
       "\n",
       "    .dataframe tbody tr th {\n",
       "        vertical-align: top;\n",
       "    }\n",
       "\n",
       "    .dataframe thead th {\n",
       "        text-align: right;\n",
       "    }\n",
       "</style>\n",
       "<table border=\"1\" class=\"dataframe\">\n",
       "  <thead>\n",
       "    <tr style=\"text-align: right;\">\n",
       "      <th></th>\n",
       "      <th>Predicted Deltas</th>\n",
       "      <th>Sum of predicted deltas with real values of 2016</th>\n",
       "      <th>Real values of 2017</th>\n",
       "    </tr>\n",
       "    <tr>\n",
       "      <th>Country Name</th>\n",
       "      <th></th>\n",
       "      <th></th>\n",
       "      <th></th>\n",
       "    </tr>\n",
       "  </thead>\n",
       "  <tbody>\n",
       "    <tr>\n",
       "      <th>Angola</th>\n",
       "      <td>-0.016391</td>\n",
       "      <td>5.669609</td>\n",
       "      <td>5.600000</td>\n",
       "    </tr>\n",
       "    <tr>\n",
       "      <th>China</th>\n",
       "      <td>-0.020925</td>\n",
       "      <td>1.654075</td>\n",
       "      <td>1.683000</td>\n",
       "    </tr>\n",
       "    <tr>\n",
       "      <th>Fiji</th>\n",
       "      <td>-0.019958</td>\n",
       "      <td>2.777042</td>\n",
       "      <td>2.788000</td>\n",
       "    </tr>\n",
       "    <tr>\n",
       "      <th>Croatia</th>\n",
       "      <td>-0.024315</td>\n",
       "      <td>1.405685</td>\n",
       "      <td>1.420000</td>\n",
       "    </tr>\n",
       "    <tr>\n",
       "      <th>IDA blend</th>\n",
       "      <td>-0.032732</td>\n",
       "      <td>4.200518</td>\n",
       "      <td>4.175809</td>\n",
       "    </tr>\n",
       "    <tr>\n",
       "      <th>IDA only</th>\n",
       "      <td>-0.032663</td>\n",
       "      <td>3.992640</td>\n",
       "      <td>3.968618</td>\n",
       "    </tr>\n",
       "    <tr>\n",
       "      <th>Latin America &amp; Caribbean</th>\n",
       "      <td>0.000382</td>\n",
       "      <td>2.065797</td>\n",
       "      <td>2.046015</td>\n",
       "    </tr>\n",
       "    <tr>\n",
       "      <th>Morocco</th>\n",
       "      <td>-0.052771</td>\n",
       "      <td>2.436229</td>\n",
       "      <td>2.451000</td>\n",
       "    </tr>\n",
       "    <tr>\n",
       "      <th>Panama</th>\n",
       "      <td>-0.064126</td>\n",
       "      <td>2.449874</td>\n",
       "      <td>2.487000</td>\n",
       "    </tr>\n",
       "    <tr>\n",
       "      <th>Philippines</th>\n",
       "      <td>-0.050960</td>\n",
       "      <td>2.667040</td>\n",
       "      <td>2.640000</td>\n",
       "    </tr>\n",
       "  </tbody>\n",
       "</table>\n",
       "</div>"
      ],
      "text/plain": [
       "                           Predicted Deltas  \\\n",
       "Country Name                                  \n",
       "Angola                            -0.016391   \n",
       "China                             -0.020925   \n",
       "Fiji                              -0.019958   \n",
       "Croatia                           -0.024315   \n",
       "IDA blend                         -0.032732   \n",
       "IDA only                          -0.032663   \n",
       "Latin America & Caribbean          0.000382   \n",
       "Morocco                           -0.052771   \n",
       "Panama                            -0.064126   \n",
       "Philippines                       -0.050960   \n",
       "\n",
       "                           Sum of predicted deltas with real values of 2016  \\\n",
       "Country Name                                                                  \n",
       "Angola                                                             5.669609   \n",
       "China                                                              1.654075   \n",
       "Fiji                                                               2.777042   \n",
       "Croatia                                                            1.405685   \n",
       "IDA blend                                                          4.200518   \n",
       "IDA only                                                           3.992640   \n",
       "Latin America & Caribbean                                          2.065797   \n",
       "Morocco                                                            2.436229   \n",
       "Panama                                                             2.449874   \n",
       "Philippines                                                        2.667040   \n",
       "\n",
       "                           Real values of 2017  \n",
       "Country Name                                    \n",
       "Angola                                5.600000  \n",
       "China                                 1.683000  \n",
       "Fiji                                  2.788000  \n",
       "Croatia                               1.420000  \n",
       "IDA blend                             4.175809  \n",
       "IDA only                              3.968618  \n",
       "Latin America & Caribbean             2.046015  \n",
       "Morocco                               2.451000  \n",
       "Panama                                2.487000  \n",
       "Philippines                           2.640000  "
      ]
     },
     "execution_count": 72,
     "metadata": {},
     "output_type": "execute_result"
    }
   ],
   "source": [
    "# Fertility Rate Tests\n",
    "ftest2017 = test_df(fertility_rate_df_last_6, idx)\n",
    "ftest2017.rename(columns = { 0: 'D0', 1: 'D1', 2: 'D2'}, inplace = True)\n",
    "predicteddeltas2017fr = pd.Series(best_model_fr.predict(ftest2017).reshape(1,10).tolist()[0], index = f10.index)\n",
    "fresults = pd.concat([predicteddeltas2017fr, predicteddeltas2017fr + f10[\"2016\"], f10[\"2017\"]], axis = 1)\n",
    "fresults.rename(columns = {0: \"Predicted Deltas\", 1: \"Sum of predicted deltas with real values of 2016\", \"2017\": \"Real values of 2017\"}, inplace = True)\n",
    "fresults = fresults.join(population_wb[[\"Country Name\"]], how='inner')\n",
    "fresults = fresults[['Country Name', 'Predicted Deltas', 'Sum of predicted deltas with real values of 2016', 'Real values of 2017']]\n",
    "fresults = fresults.set_index(\"Country Name\")\n",
    "fresults"
   ]
  },
  {
   "cell_type": "code",
   "execution_count": 73,
   "metadata": {
    "id": "m25L-2CeUbdd"
   },
   "outputs": [
    {
     "data": {
      "image/png": "[encoded data removed]",
      "text/plain": [
       "<Figure size 360x360 with 1 Axes>"
      ]
     },
     "metadata": {
      "needs_background": "light"
     },
     "output_type": "display_data"
    }
   ],
   "source": [
    "plt.figure(figsize=(5,5))\n",
    "plt.scatter(f10[\"2017\"], predicteddeltas2017fr + f10[\"2016\"], c='crimson')\n",
    "\n",
    "p1 = max(max(predicteddeltas2017fr + f10[\"2016\"]), max(f10[\"2017\"]))\n",
    "p2 = min(min(predicteddeltas2017fr + f10[\"2016\"]), min(f10[\"2017\"]))\n",
    "plt.plot([p1, p2], [p1, p2], 'b-')\n",
    "plt.xlabel('Real values of 2017')\n",
    "plt.ylabel('Sum of predicted deltas with real values of 2016')\n",
    "plt.title('Fertility Rate')\n",
    "plt.axis('equal')\n",
    "plt.show()"
   ]
  },
  {
   "cell_type": "code",
   "execution_count": 77,
   "metadata": {
    "id": "yBP2_sUdVAPK"
   },
   "outputs": [
    {
     "data": {
      "text/html": [
       "<div>\n",
       "<style scoped>\n",
       "    .dataframe tbody tr th:only-of-type {\n",
       "        vertical-align: middle;\n",
       "    }\n",
       "\n",
       "    .dataframe tbody tr th {\n",
       "        vertical-align: top;\n",
       "    }\n",
       "\n",
       "    .dataframe thead th {\n",
       "        text-align: right;\n",
       "    }\n",
       "</style>\n",
       "<table border=\"1\" class=\"dataframe\">\n",
       "  <thead>\n",
       "    <tr style=\"text-align: right;\">\n",
       "      <th></th>\n",
       "      <th>Predicted Deltas</th>\n",
       "      <th>Sum of predicted deltas with real values of 2016</th>\n",
       "      <th>Real values of 2017</th>\n",
       "    </tr>\n",
       "    <tr>\n",
       "      <th>Country Name</th>\n",
       "      <th></th>\n",
       "      <th></th>\n",
       "      <th></th>\n",
       "    </tr>\n",
       "  </thead>\n",
       "  <tbody>\n",
       "    <tr>\n",
       "      <th>Angola</th>\n",
       "      <td>0.197892</td>\n",
       "      <td>60.122892</td>\n",
       "      <td>60.379000</td>\n",
       "    </tr>\n",
       "    <tr>\n",
       "      <th>China</th>\n",
       "      <td>0.159366</td>\n",
       "      <td>76.369366</td>\n",
       "      <td>76.470000</td>\n",
       "    </tr>\n",
       "    <tr>\n",
       "      <th>Fiji</th>\n",
       "      <td>0.191130</td>\n",
       "      <td>67.366130</td>\n",
       "      <td>67.252000</td>\n",
       "    </tr>\n",
       "    <tr>\n",
       "      <th>Croatia</th>\n",
       "      <td>0.226094</td>\n",
       "      <td>78.248045</td>\n",
       "      <td>77.826829</td>\n",
       "    </tr>\n",
       "    <tr>\n",
       "      <th>IDA blend</th>\n",
       "      <td>0.146242</td>\n",
       "      <td>61.734208</td>\n",
       "      <td>61.889129</td>\n",
       "    </tr>\n",
       "    <tr>\n",
       "      <th>IDA only</th>\n",
       "      <td>-0.096838</td>\n",
       "      <td>64.520235</td>\n",
       "      <td>64.973896</td>\n",
       "    </tr>\n",
       "    <tr>\n",
       "      <th>Latin America &amp; Caribbean</th>\n",
       "      <td>0.166467</td>\n",
       "      <td>75.288491</td>\n",
       "      <td>75.282087</td>\n",
       "    </tr>\n",
       "    <tr>\n",
       "      <th>Morocco</th>\n",
       "      <td>0.325966</td>\n",
       "      <td>76.299966</td>\n",
       "      <td>76.218000</td>\n",
       "    </tr>\n",
       "    <tr>\n",
       "      <th>Panama</th>\n",
       "      <td>0.283472</td>\n",
       "      <td>78.247472</td>\n",
       "      <td>78.149000</td>\n",
       "    </tr>\n",
       "    <tr>\n",
       "      <th>Philippines</th>\n",
       "      <td>0.239059</td>\n",
       "      <td>71.041059</td>\n",
       "      <td>70.952000</td>\n",
       "    </tr>\n",
       "  </tbody>\n",
       "</table>\n",
       "</div>"
      ],
      "text/plain": [
       "                           Predicted Deltas  \\\n",
       "Country Name                                  \n",
       "Angola                             0.197892   \n",
       "China                              0.159366   \n",
       "Fiji                               0.191130   \n",
       "Croatia                            0.226094   \n",
       "IDA blend                          0.146242   \n",
       "IDA only                          -0.096838   \n",
       "Latin America & Caribbean          0.166467   \n",
       "Morocco                            0.325966   \n",
       "Panama                             0.283472   \n",
       "Philippines                        0.239059   \n",
       "\n",
       "                           Sum of predicted deltas with real values of 2016  \\\n",
       "Country Name                                                                  \n",
       "Angola                                                            60.122892   \n",
       "China                                                             76.369366   \n",
       "Fiji                                                              67.366130   \n",
       "Croatia                                                           78.248045   \n",
       "IDA blend                                                         61.734208   \n",
       "IDA only                                                          64.520235   \n",
       "Latin America & Caribbean                                         75.288491   \n",
       "Morocco                                                           76.299966   \n",
       "Panama                                                            78.247472   \n",
       "Philippines                                                       71.041059   \n",
       "\n",
       "                           Real values of 2017  \n",
       "Country Name                                    \n",
       "Angola                               60.379000  \n",
       "China                                76.470000  \n",
       "Fiji                                 67.252000  \n",
       "Croatia                              77.826829  \n",
       "IDA blend                            61.889129  \n",
       "IDA only                             64.973896  \n",
       "Latin America & Caribbean            75.282087  \n",
       "Morocco                              76.218000  \n",
       "Panama                               78.149000  \n",
       "Philippines                          70.952000  "
      ]
     },
     "execution_count": 77,
     "metadata": {},
     "output_type": "execute_result"
    }
   ],
   "source": [
    "# Life expectancy Tests\n",
    "ltest2017 = test_df(life_expectancy_df_last_6, idx)\n",
    "ltest2017.rename(columns = { 0: 'D0', 1: 'D1', 2: 'D2'}, inplace = True)\n",
    "ltest2017 = scaler_le.transform(ltest2017)\n",
    "predicteddeltas2017le = pd.Series(best_model_le.predict(ltest2017).reshape(1,10).tolist()[0], index = l10.index)\n",
    "lresults = pd.concat([predicteddeltas2017le, predicteddeltas2017le + l10[\"2016\"], l10[\"2017\"]], axis = 1)\n",
    "lresults.rename(columns = {0: \"Predicted Deltas\", 1: \"Sum of predicted deltas with real values of 2016\", \"2017\": \"Real values of 2017\"}, inplace = True)\n",
    "lresults = lresults.join(population_wb[[\"Country Name\"]], how='inner')\n",
    "lresults = lresults[['Country Name', 'Predicted Deltas', 'Sum of predicted deltas with real values of 2016', 'Real values of 2017']]\n",
    "lresults = lresults.set_index(\"Country Name\")\n",
    "lresults"
   ]
  },
  {
   "cell_type": "code",
   "execution_count": 78,
   "metadata": {
    "id": "ZB1lkvWtU2qS"
   },
   "outputs": [
    {
     "data": {
      "image/png": "[encoded data removed]",
      "text/plain": [
       "<Figure size 360x360 with 1 Axes>"
      ]
     },
     "metadata": {
      "needs_background": "light"
     },
     "output_type": "display_data"
    }
   ],
   "source": [
    "plt.figure(figsize=(5,5))\n",
    "plt.scatter(l10[\"2017\"], predicteddeltas2017le + l10[\"2016\"], c='crimson')\n",
    "\n",
    "p1 = max(max(predicteddeltas2017le + l10[\"2016\"]), max(l10[\"2017\"]))\n",
    "p2 = min(min(predicteddeltas2017le + l10[\"2016\"]), min(l10[\"2017\"]))\n",
    "plt.plot([p1, p2], [p1, p2], 'b-')\n",
    "plt.xlabel('Real values of 2017')\n",
    "plt.ylabel('Sum of predicted deltas with real values of 2016')\n",
    "plt.title('Life Expectancy')\n",
    "plt.axis('equal')\n",
    "plt.show()"
   ]
  },
  {
   "cell_type": "markdown",
   "metadata": {
    "id": "w7thHG5vHIu9"
   },
   "source": [
    "## 2018"
   ]
  },
  {
   "cell_type": "code",
   "execution_count": 79,
   "metadata": {
    "id": "k9gISnQYHaPz"
   },
   "outputs": [],
   "source": [
    "year2018column = pd.Series([2018 for i in range(10)], index=p10.index)"
   ]
  },
  {
   "cell_type": "code",
   "execution_count": 80,
   "metadata": {
    "id": "JQbvQ5ulMUd-"
   },
   "outputs": [],
   "source": [
    "def test_2018_df(df, preds2017, idx):\n",
    "    result = pd.DataFrame()\n",
    "    d4 = df['2015'] - df['2014']\n",
    "    d5 = df['2016'] - df['2015']\n",
    "    result = pd.concat([d4, d5], axis = 1)\n",
    "    result = result.iloc[idx]\n",
    "    result = result.sort_index(ascending=True)\n",
    "    result = result.join(preds2017[[\"Predicted Deltas\"]])\n",
    "    return result"
   ]
  },
  {
   "cell_type": "code",
   "execution_count": 81,
   "metadata": {
    "id": "P7c94NsEHJCs"
   },
   "outputs": [
    {
     "data": {
      "text/html": [
       "<div>\n",
       "<style scoped>\n",
       "    .dataframe tbody tr th:only-of-type {\n",
       "        vertical-align: middle;\n",
       "    }\n",
       "\n",
       "    .dataframe tbody tr th {\n",
       "        vertical-align: top;\n",
       "    }\n",
       "\n",
       "    .dataframe thead th {\n",
       "        text-align: right;\n",
       "    }\n",
       "</style>\n",
       "<table border=\"1\" class=\"dataframe\">\n",
       "  <thead>\n",
       "    <tr style=\"text-align: right;\">\n",
       "      <th></th>\n",
       "      <th>Predicted Deltas</th>\n",
       "      <th>Sum of predicted deltas with predicted values of 2017</th>\n",
       "      <th>Real values of 2018</th>\n",
       "    </tr>\n",
       "    <tr>\n",
       "      <th>Country Name</th>\n",
       "      <th></th>\n",
       "      <th></th>\n",
       "      <th></th>\n",
       "    </tr>\n",
       "  </thead>\n",
       "  <tbody>\n",
       "    <tr>\n",
       "      <th>Angola</th>\n",
       "      <td>9.834042e+13</td>\n",
       "      <td>9.834045e+13</td>\n",
       "      <td>3.080979e+07</td>\n",
       "    </tr>\n",
       "    <tr>\n",
       "      <th>China</th>\n",
       "      <td>3.831954e+12</td>\n",
       "      <td>3.833342e+12</td>\n",
       "      <td>1.402760e+09</td>\n",
       "    </tr>\n",
       "    <tr>\n",
       "      <th>Fiji</th>\n",
       "      <td>7.663335e+12</td>\n",
       "      <td>7.663336e+12</td>\n",
       "      <td>8.834900e+05</td>\n",
       "    </tr>\n",
       "    <tr>\n",
       "      <th>Croatia</th>\n",
       "      <td>1.000850e+12</td>\n",
       "      <td>1.000855e+12</td>\n",
       "      <td>4.087843e+06</td>\n",
       "    </tr>\n",
       "    <tr>\n",
       "      <th>IDA blend</th>\n",
       "      <td>1.418783e+13</td>\n",
       "      <td>1.418836e+13</td>\n",
       "      <td>5.491278e+08</td>\n",
       "    </tr>\n",
       "    <tr>\n",
       "      <th>IDA only</th>\n",
       "      <td>1.094158e+13</td>\n",
       "      <td>1.094261e+13</td>\n",
       "      <td>1.084434e+09</td>\n",
       "    </tr>\n",
       "    <tr>\n",
       "      <th>Latin America &amp; Caribbean</th>\n",
       "      <td>9.388526e+13</td>\n",
       "      <td>9.388590e+13</td>\n",
       "      <td>6.404838e+08</td>\n",
       "    </tr>\n",
       "    <tr>\n",
       "      <th>Morocco</th>\n",
       "      <td>3.690852e+14</td>\n",
       "      <td>3.690852e+14</td>\n",
       "      <td>3.602909e+07</td>\n",
       "    </tr>\n",
       "    <tr>\n",
       "      <th>Panama</th>\n",
       "      <td>1.477083e+13</td>\n",
       "      <td>1.477083e+13</td>\n",
       "      <td>4.176868e+06</td>\n",
       "    </tr>\n",
       "    <tr>\n",
       "      <th>Philippines</th>\n",
       "      <td>1.803721e+14</td>\n",
       "      <td>1.803722e+14</td>\n",
       "      <td>1.066514e+08</td>\n",
       "    </tr>\n",
       "  </tbody>\n",
       "</table>\n",
       "</div>"
      ],
      "text/plain": [
       "                           Predicted Deltas  \\\n",
       "Country Name                                  \n",
       "Angola                         9.834042e+13   \n",
       "China                          3.831954e+12   \n",
       "Fiji                           7.663335e+12   \n",
       "Croatia                        1.000850e+12   \n",
       "IDA blend                      1.418783e+13   \n",
       "IDA only                       1.094158e+13   \n",
       "Latin America & Caribbean      9.388526e+13   \n",
       "Morocco                        3.690852e+14   \n",
       "Panama                         1.477083e+13   \n",
       "Philippines                    1.803721e+14   \n",
       "\n",
       "                           Sum of predicted deltas with predicted values of 2017  \\\n",
       "Country Name                                                                       \n",
       "Angola                                                          9.834045e+13       \n",
       "China                                                           3.833342e+12       \n",
       "Fiji                                                            7.663336e+12       \n",
       "Croatia                                                         1.000855e+12       \n",
       "IDA blend                                                       1.418836e+13       \n",
       "IDA only                                                        1.094261e+13       \n",
       "Latin America & Caribbean                                       9.388590e+13       \n",
       "Morocco                                                         3.690852e+14       \n",
       "Panama                                                          1.477083e+13       \n",
       "Philippines                                                     1.803722e+14       \n",
       "\n",
       "                           Real values of 2018  \n",
       "Country Name                                    \n",
       "Angola                            3.080979e+07  \n",
       "China                             1.402760e+09  \n",
       "Fiji                              8.834900e+05  \n",
       "Croatia                           4.087843e+06  \n",
       "IDA blend                         5.491278e+08  \n",
       "IDA only                          1.084434e+09  \n",
       "Latin America & Caribbean         6.404838e+08  \n",
       "Morocco                           3.602909e+07  \n",
       "Panama                            4.176868e+06  \n",
       "Philippines                       1.066514e+08  "
      ]
     },
     "execution_count": 81,
     "metadata": {},
     "output_type": "execute_result"
    }
   ],
   "source": [
    "# Population Tests\n",
    "ptest2018 = test_2018_df(population_df_last_6, presults, idx)\n",
    "predicteddeltas2018pop = pd.Series(best_model_pop.predict(ptest2018).reshape(1,10).tolist()[0], index = p10.index)\n",
    "presults = pd.concat([predicteddeltas2018pop, predicteddeltas2018pop + predicteddeltas2017pop + p10[\"2016\"], p10[\"2018\"]], axis = 1)\n",
    "presults.rename(columns = {0: \"Predicted Deltas\", 1: \"Sum of predicted deltas with predicted values of 2017\", \"2018\": \"Real values of 2018\"}, inplace = True)\n",
    "presults = presults.join(population_wb[[\"Country Name\"]], how='inner')\n",
    "presults = presults[['Country Name', 'Predicted Deltas', 'Sum of predicted deltas with predicted values of 2017', 'Real values of 2018']]\n",
    "presults = presults.set_index(\"Country Name\")\n",
    "presults"
   ]
  },
  {
   "cell_type": "code",
   "execution_count": 82,
   "metadata": {
    "id": "qBxyDQhqHJFK"
   },
   "outputs": [
    {
     "data": {
      "text/html": [
       "<div>\n",
       "<style scoped>\n",
       "    .dataframe tbody tr th:only-of-type {\n",
       "        vertical-align: middle;\n",
       "    }\n",
       "\n",
       "    .dataframe tbody tr th {\n",
       "        vertical-align: top;\n",
       "    }\n",
       "\n",
       "    .dataframe thead th {\n",
       "        text-align: right;\n",
       "    }\n",
       "</style>\n",
       "<table border=\"1\" class=\"dataframe\">\n",
       "  <thead>\n",
       "    <tr style=\"text-align: right;\">\n",
       "      <th></th>\n",
       "      <th>Predicted Deltas</th>\n",
       "      <th>Sum of predicted deltas with predicted values of 2017</th>\n",
       "      <th>Real values of 2018</th>\n",
       "    </tr>\n",
       "    <tr>\n",
       "      <th>Country Name</th>\n",
       "      <th></th>\n",
       "      <th></th>\n",
       "      <th></th>\n",
       "    </tr>\n",
       "  </thead>\n",
       "  <tbody>\n",
       "    <tr>\n",
       "      <th>Angola</th>\n",
       "      <td>-0.038977</td>\n",
       "      <td>5.630632</td>\n",
       "      <td>5.519000</td>\n",
       "    </tr>\n",
       "    <tr>\n",
       "      <th>China</th>\n",
       "      <td>-0.009865</td>\n",
       "      <td>1.644211</td>\n",
       "      <td>1.690000</td>\n",
       "    </tr>\n",
       "    <tr>\n",
       "      <th>Fiji</th>\n",
       "      <td>-0.018904</td>\n",
       "      <td>2.758138</td>\n",
       "      <td>2.774000</td>\n",
       "    </tr>\n",
       "    <tr>\n",
       "      <th>Croatia</th>\n",
       "      <td>-0.017358</td>\n",
       "      <td>1.388327</td>\n",
       "      <td>1.470000</td>\n",
       "    </tr>\n",
       "    <tr>\n",
       "      <th>IDA blend</th>\n",
       "      <td>-0.045030</td>\n",
       "      <td>4.155488</td>\n",
       "      <td>4.133548</td>\n",
       "    </tr>\n",
       "    <tr>\n",
       "      <th>IDA only</th>\n",
       "      <td>-0.045030</td>\n",
       "      <td>3.947610</td>\n",
       "      <td>3.915852</td>\n",
       "    </tr>\n",
       "    <tr>\n",
       "      <th>Latin America &amp; Caribbean</th>\n",
       "      <td>-0.014726</td>\n",
       "      <td>2.051071</td>\n",
       "      <td>2.027393</td>\n",
       "    </tr>\n",
       "    <tr>\n",
       "      <th>Morocco</th>\n",
       "      <td>-0.040473</td>\n",
       "      <td>2.395756</td>\n",
       "      <td>2.415000</td>\n",
       "    </tr>\n",
       "    <tr>\n",
       "      <th>Panama</th>\n",
       "      <td>-0.034456</td>\n",
       "      <td>2.415418</td>\n",
       "      <td>2.461000</td>\n",
       "    </tr>\n",
       "    <tr>\n",
       "      <th>Philippines</th>\n",
       "      <td>-0.034760</td>\n",
       "      <td>2.632280</td>\n",
       "      <td>2.576000</td>\n",
       "    </tr>\n",
       "  </tbody>\n",
       "</table>\n",
       "</div>"
      ],
      "text/plain": [
       "                           Predicted Deltas  \\\n",
       "Country Name                                  \n",
       "Angola                            -0.038977   \n",
       "China                             -0.009865   \n",
       "Fiji                              -0.018904   \n",
       "Croatia                           -0.017358   \n",
       "IDA blend                         -0.045030   \n",
       "IDA only                          -0.045030   \n",
       "Latin America & Caribbean         -0.014726   \n",
       "Morocco                           -0.040473   \n",
       "Panama                            -0.034456   \n",
       "Philippines                       -0.034760   \n",
       "\n",
       "                           Sum of predicted deltas with predicted values of 2017  \\\n",
       "Country Name                                                                       \n",
       "Angola                                                              5.630632       \n",
       "China                                                               1.644211       \n",
       "Fiji                                                                2.758138       \n",
       "Croatia                                                             1.388327       \n",
       "IDA blend                                                           4.155488       \n",
       "IDA only                                                            3.947610       \n",
       "Latin America & Caribbean                                           2.051071       \n",
       "Morocco                                                             2.395756       \n",
       "Panama                                                              2.415418       \n",
       "Philippines                                                         2.632280       \n",
       "\n",
       "                           Real values of 2018  \n",
       "Country Name                                    \n",
       "Angola                                5.519000  \n",
       "China                                 1.690000  \n",
       "Fiji                                  2.774000  \n",
       "Croatia                               1.470000  \n",
       "IDA blend                             4.133548  \n",
       "IDA only                              3.915852  \n",
       "Latin America & Caribbean             2.027393  \n",
       "Morocco                               2.415000  \n",
       "Panama                                2.461000  \n",
       "Philippines                           2.576000  "
      ]
     },
     "execution_count": 82,
     "metadata": {},
     "output_type": "execute_result"
    }
   ],
   "source": [
    "# Fertility Rate Tests\n",
    "ftest2018 = test_2018_df(fertility_rate_df_last_6, fresults, idx)\n",
    "ftest2018.rename(columns = { 0: 'D0', 1: 'D1', \"Predicted Deltas\": \"D2\"}, inplace = True)\n",
    "predicteddeltas2018fr = pd.Series(best_model_fr.predict(ftest2018).reshape(1,10).tolist()[0], index = f10.index)\n",
    "fresults = pd.concat([predicteddeltas2018fr, predicteddeltas2018fr + predicteddeltas2017fr + f10[\"2016\"], f10[\"2018\"]], axis = 1)\n",
    "fresults.rename(columns = {0: \"Predicted Deltas\", 1: \"Sum of predicted deltas with predicted values of 2017\", \"2018\": \"Real values of 2018\"}, inplace = True)\n",
    "fresults = fresults.join(population_wb[[\"Country Name\"]], how='inner')\n",
    "fresults = fresults[['Country Name', 'Predicted Deltas', 'Sum of predicted deltas with predicted values of 2017', 'Real values of 2018']]\n",
    "fresults = fresults.set_index(\"Country Name\")\n",
    "fresults"
   ]
  },
  {
   "cell_type": "code",
   "execution_count": 83,
   "metadata": {
    "id": "-q755EvMHJHa"
   },
   "outputs": [
    {
     "data": {
      "text/html": [
       "<div>\n",
       "<style scoped>\n",
       "    .dataframe tbody tr th:only-of-type {\n",
       "        vertical-align: middle;\n",
       "    }\n",
       "\n",
       "    .dataframe tbody tr th {\n",
       "        vertical-align: top;\n",
       "    }\n",
       "\n",
       "    .dataframe thead th {\n",
       "        text-align: right;\n",
       "    }\n",
       "</style>\n",
       "<table border=\"1\" class=\"dataframe\">\n",
       "  <thead>\n",
       "    <tr style=\"text-align: right;\">\n",
       "      <th></th>\n",
       "      <th>Predicted Deltas</th>\n",
       "      <th>Sum of predicted deltas with predicted values of 2017</th>\n",
       "      <th>Real values of 2018</th>\n",
       "    </tr>\n",
       "    <tr>\n",
       "      <th>Country Name</th>\n",
       "      <th></th>\n",
       "      <th></th>\n",
       "      <th></th>\n",
       "    </tr>\n",
       "  </thead>\n",
       "  <tbody>\n",
       "    <tr>\n",
       "      <th>Angola</th>\n",
       "      <td>0.279738</td>\n",
       "      <td>60.402630</td>\n",
       "      <td>60.782000</td>\n",
       "    </tr>\n",
       "    <tr>\n",
       "      <th>China</th>\n",
       "      <td>0.244896</td>\n",
       "      <td>76.614262</td>\n",
       "      <td>76.704000</td>\n",
       "    </tr>\n",
       "    <tr>\n",
       "      <th>Fiji</th>\n",
       "      <td>0.165355</td>\n",
       "      <td>67.531485</td>\n",
       "      <td>67.341000</td>\n",
       "    </tr>\n",
       "    <tr>\n",
       "      <th>Croatia</th>\n",
       "      <td>0.250706</td>\n",
       "      <td>78.498751</td>\n",
       "      <td>78.070732</td>\n",
       "    </tr>\n",
       "    <tr>\n",
       "      <th>IDA blend</th>\n",
       "      <td>0.267383</td>\n",
       "      <td>62.001590</td>\n",
       "      <td>62.161867</td>\n",
       "    </tr>\n",
       "    <tr>\n",
       "      <th>IDA only</th>\n",
       "      <td>0.208246</td>\n",
       "      <td>64.728481</td>\n",
       "      <td>65.305310</td>\n",
       "    </tr>\n",
       "    <tr>\n",
       "      <th>Latin America &amp; Caribbean</th>\n",
       "      <td>0.258284</td>\n",
       "      <td>75.546775</td>\n",
       "      <td>75.440849</td>\n",
       "    </tr>\n",
       "    <tr>\n",
       "      <th>Morocco</th>\n",
       "      <td>0.306270</td>\n",
       "      <td>76.606236</td>\n",
       "      <td>76.453000</td>\n",
       "    </tr>\n",
       "    <tr>\n",
       "      <th>Panama</th>\n",
       "      <td>0.281082</td>\n",
       "      <td>78.528554</td>\n",
       "      <td>78.329000</td>\n",
       "    </tr>\n",
       "    <tr>\n",
       "      <th>Philippines</th>\n",
       "      <td>0.257256</td>\n",
       "      <td>71.298315</td>\n",
       "      <td>71.095000</td>\n",
       "    </tr>\n",
       "  </tbody>\n",
       "</table>\n",
       "</div>"
      ],
      "text/plain": [
       "                           Predicted Deltas  \\\n",
       "Country Name                                  \n",
       "Angola                             0.279738   \n",
       "China                              0.244896   \n",
       "Fiji                               0.165355   \n",
       "Croatia                            0.250706   \n",
       "IDA blend                          0.267383   \n",
       "IDA only                           0.208246   \n",
       "Latin America & Caribbean          0.258284   \n",
       "Morocco                            0.306270   \n",
       "Panama                             0.281082   \n",
       "Philippines                        0.257256   \n",
       "\n",
       "                           Sum of predicted deltas with predicted values of 2017  \\\n",
       "Country Name                                                                       \n",
       "Angola                                                             60.402630       \n",
       "China                                                              76.614262       \n",
       "Fiji                                                               67.531485       \n",
       "Croatia                                                            78.498751       \n",
       "IDA blend                                                          62.001590       \n",
       "IDA only                                                           64.728481       \n",
       "Latin America & Caribbean                                          75.546775       \n",
       "Morocco                                                            76.606236       \n",
       "Panama                                                             78.528554       \n",
       "Philippines                                                        71.298315       \n",
       "\n",
       "                           Real values of 2018  \n",
       "Country Name                                    \n",
       "Angola                               60.782000  \n",
       "China                                76.704000  \n",
       "Fiji                                 67.341000  \n",
       "Croatia                              78.070732  \n",
       "IDA blend                            62.161867  \n",
       "IDA only                             65.305310  \n",
       "Latin America & Caribbean            75.440849  \n",
       "Morocco                              76.453000  \n",
       "Panama                               78.329000  \n",
       "Philippines                          71.095000  "
      ]
     },
     "execution_count": 83,
     "metadata": {},
     "output_type": "execute_result"
    }
   ],
   "source": [
    "# Life expectancy Tests\n",
    "ltest2018 = test_2018_df(life_expectancy_df_last_6, lresults, idx)\n",
    "ltest2018.rename(columns = { 0: 'D0', 1: 'D1', \"Predicted Deltas\": \"D2\"}, inplace = True)\n",
    "predicteddeltas2018le = pd.Series(best_model_le.predict(ltest2018).reshape(1,10).tolist()[0], index = l10.index)\n",
    "lresults = pd.concat([predicteddeltas2018le, predicteddeltas2018le + predicteddeltas2017le + l10[\"2016\"], l10[\"2018\"]], axis = 1)\n",
    "lresults.rename(columns = {0: \"Predicted Deltas\", 1: \"Sum of predicted deltas with predicted values of 2017\", \"2018\": \"Real values of 2018\"}, inplace = True)\n",
    "lresults = lresults.join(population_wb[[\"Country Name\"]], how='inner')\n",
    "lresults = lresults[['Country Name', 'Predicted Deltas', 'Sum of predicted deltas with predicted values of 2017', 'Real values of 2018']]\n",
    "lresults = lresults.set_index(\"Country Name\")\n",
    "lresults"
   ]
  }
 ],
 "metadata": {
  "colab": {
   "provenance": [],
   "toc_visible": true
  },
  "kernelspec": {
   "display_name": "Python 3 (ipykernel)",
   "language": "python",
   "name": "python3"
  },
  "language_info": {
   "codemirror_mode": {
    "name": "ipython",
    "version": 3
   },
   "file_extension": ".py",
   "mimetype": "text/x-python",
   "name": "python",
   "nbconvert_exporter": "python",
   "pygments_lexer": "ipython3",
   "version": "3.9.12"
  }
 },
 "nbformat": 4,
 "nbformat_minor": 1
}
