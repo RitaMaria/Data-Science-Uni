{
 "cells": [
  {
   "cell_type": "code",
   "execution_count": 1,
   "metadata": {},
   "outputs": [],
   "source": [
    "import pandas as pd\n",
    "import numpy as np\n",
    "from numpy import inf\n",
    "from sklearn import tree\n",
    "from sklearn.model_selection import train_test_split\n",
    "import matplotlib.pyplot as plt\n",
    "from sklearn.metrics import precision_score, recall_score, f1_score, matthews_corrcoef, confusion_matrix, accuracy_score, ConfusionMatrixDisplay\n",
    "from sklearn.metrics import explained_variance_score, mean_squared_error, max_error, mean_absolute_error\n",
    "from sklearn.model_selection import KFold\n",
    "from scipy.stats import pearsonr\n",
    "from sklearn.linear_model import Ridge, Lasso\n",
    "from sklearn.linear_model import LogisticRegression"
   ]
  },
  {
   "cell_type": "markdown",
   "metadata": {},
   "source": [
    "# Importation of data and definition of X and Y variables"
   ]
  },
  {
   "cell_type": "code",
   "execution_count": 2,
   "metadata": {},
   "outputs": [],
   "source": [
    "df = pd.read_csv(\"parkinsons_updrs.data\")"
   ]
  },
  {
   "cell_type": "code",
   "execution_count": 3,
   "metadata": {},
   "outputs": [
    {
     "data": {
      "text/html": [
       "<div>\n",
       "<style scoped>\n",
       "    .dataframe tbody tr th:only-of-type {\n",
       "        vertical-align: middle;\n",
       "    }\n",
       "\n",
       "    .dataframe tbody tr th {\n",
       "        vertical-align: top;\n",
       "    }\n",
       "\n",
       "    .dataframe thead th {\n",
       "        text-align: right;\n",
       "    }\n",
       "</style>\n",
       "<table border=\"1\" class=\"dataframe\">\n",
       "  <thead>\n",
       "    <tr style=\"text-align: right;\">\n",
       "      <th></th>\n",
       "      <th>subject#</th>\n",
       "      <th>age</th>\n",
       "      <th>sex</th>\n",
       "      <th>test_time</th>\n",
       "      <th>motor_UPDRS</th>\n",
       "      <th>total_UPDRS</th>\n",
       "      <th>Jitter(%)</th>\n",
       "      <th>Jitter(Abs)</th>\n",
       "      <th>Jitter:RAP</th>\n",
       "      <th>Jitter:PPQ5</th>\n",
       "      <th>...</th>\n",
       "      <th>Shimmer(dB)</th>\n",
       "      <th>Shimmer:APQ3</th>\n",
       "      <th>Shimmer:APQ5</th>\n",
       "      <th>Shimmer:APQ11</th>\n",
       "      <th>Shimmer:DDA</th>\n",
       "      <th>NHR</th>\n",
       "      <th>HNR</th>\n",
       "      <th>RPDE</th>\n",
       "      <th>DFA</th>\n",
       "      <th>PPE</th>\n",
       "    </tr>\n",
       "  </thead>\n",
       "  <tbody>\n",
       "    <tr>\n",
       "      <th>0</th>\n",
       "      <td>1</td>\n",
       "      <td>72</td>\n",
       "      <td>0</td>\n",
       "      <td>5.6431</td>\n",
       "      <td>28.199</td>\n",
       "      <td>34.398</td>\n",
       "      <td>0.00662</td>\n",
       "      <td>0.000034</td>\n",
       "      <td>0.00401</td>\n",
       "      <td>0.00317</td>\n",
       "      <td>...</td>\n",
       "      <td>0.230</td>\n",
       "      <td>0.01438</td>\n",
       "      <td>0.01309</td>\n",
       "      <td>0.01662</td>\n",
       "      <td>0.04314</td>\n",
       "      <td>0.014290</td>\n",
       "      <td>21.640</td>\n",
       "      <td>0.41888</td>\n",
       "      <td>0.54842</td>\n",
       "      <td>0.16006</td>\n",
       "    </tr>\n",
       "    <tr>\n",
       "      <th>1</th>\n",
       "      <td>1</td>\n",
       "      <td>72</td>\n",
       "      <td>0</td>\n",
       "      <td>12.6660</td>\n",
       "      <td>28.447</td>\n",
       "      <td>34.894</td>\n",
       "      <td>0.00300</td>\n",
       "      <td>0.000017</td>\n",
       "      <td>0.00132</td>\n",
       "      <td>0.00150</td>\n",
       "      <td>...</td>\n",
       "      <td>0.179</td>\n",
       "      <td>0.00994</td>\n",
       "      <td>0.01072</td>\n",
       "      <td>0.01689</td>\n",
       "      <td>0.02982</td>\n",
       "      <td>0.011112</td>\n",
       "      <td>27.183</td>\n",
       "      <td>0.43493</td>\n",
       "      <td>0.56477</td>\n",
       "      <td>0.10810</td>\n",
       "    </tr>\n",
       "    <tr>\n",
       "      <th>2</th>\n",
       "      <td>1</td>\n",
       "      <td>72</td>\n",
       "      <td>0</td>\n",
       "      <td>19.6810</td>\n",
       "      <td>28.695</td>\n",
       "      <td>35.389</td>\n",
       "      <td>0.00481</td>\n",
       "      <td>0.000025</td>\n",
       "      <td>0.00205</td>\n",
       "      <td>0.00208</td>\n",
       "      <td>...</td>\n",
       "      <td>0.181</td>\n",
       "      <td>0.00734</td>\n",
       "      <td>0.00844</td>\n",
       "      <td>0.01458</td>\n",
       "      <td>0.02202</td>\n",
       "      <td>0.020220</td>\n",
       "      <td>23.047</td>\n",
       "      <td>0.46222</td>\n",
       "      <td>0.54405</td>\n",
       "      <td>0.21014</td>\n",
       "    </tr>\n",
       "    <tr>\n",
       "      <th>3</th>\n",
       "      <td>1</td>\n",
       "      <td>72</td>\n",
       "      <td>0</td>\n",
       "      <td>25.6470</td>\n",
       "      <td>28.905</td>\n",
       "      <td>35.810</td>\n",
       "      <td>0.00528</td>\n",
       "      <td>0.000027</td>\n",
       "      <td>0.00191</td>\n",
       "      <td>0.00264</td>\n",
       "      <td>...</td>\n",
       "      <td>0.327</td>\n",
       "      <td>0.01106</td>\n",
       "      <td>0.01265</td>\n",
       "      <td>0.01963</td>\n",
       "      <td>0.03317</td>\n",
       "      <td>0.027837</td>\n",
       "      <td>24.445</td>\n",
       "      <td>0.48730</td>\n",
       "      <td>0.57794</td>\n",
       "      <td>0.33277</td>\n",
       "    </tr>\n",
       "    <tr>\n",
       "      <th>4</th>\n",
       "      <td>1</td>\n",
       "      <td>72</td>\n",
       "      <td>0</td>\n",
       "      <td>33.6420</td>\n",
       "      <td>29.187</td>\n",
       "      <td>36.375</td>\n",
       "      <td>0.00335</td>\n",
       "      <td>0.000020</td>\n",
       "      <td>0.00093</td>\n",
       "      <td>0.00130</td>\n",
       "      <td>...</td>\n",
       "      <td>0.176</td>\n",
       "      <td>0.00679</td>\n",
       "      <td>0.00929</td>\n",
       "      <td>0.01819</td>\n",
       "      <td>0.02036</td>\n",
       "      <td>0.011625</td>\n",
       "      <td>26.126</td>\n",
       "      <td>0.47188</td>\n",
       "      <td>0.56122</td>\n",
       "      <td>0.19361</td>\n",
       "    </tr>\n",
       "  </tbody>\n",
       "</table>\n",
       "<p>5 rows × 22 columns</p>\n",
       "</div>"
      ],
      "text/plain": [
       "   subject#  age  sex  test_time  motor_UPDRS  total_UPDRS  Jitter(%)  \\\n",
       "0         1   72    0     5.6431       28.199       34.398    0.00662   \n",
       "1         1   72    0    12.6660       28.447       34.894    0.00300   \n",
       "2         1   72    0    19.6810       28.695       35.389    0.00481   \n",
       "3         1   72    0    25.6470       28.905       35.810    0.00528   \n",
       "4         1   72    0    33.6420       29.187       36.375    0.00335   \n",
       "\n",
       "   Jitter(Abs)  Jitter:RAP  Jitter:PPQ5  ...  Shimmer(dB)  Shimmer:APQ3  \\\n",
       "0     0.000034     0.00401      0.00317  ...        0.230       0.01438   \n",
       "1     0.000017     0.00132      0.00150  ...        0.179       0.00994   \n",
       "2     0.000025     0.00205      0.00208  ...        0.181       0.00734   \n",
       "3     0.000027     0.00191      0.00264  ...        0.327       0.01106   \n",
       "4     0.000020     0.00093      0.00130  ...        0.176       0.00679   \n",
       "\n",
       "   Shimmer:APQ5  Shimmer:APQ11  Shimmer:DDA       NHR     HNR     RPDE  \\\n",
       "0       0.01309        0.01662      0.04314  0.014290  21.640  0.41888   \n",
       "1       0.01072        0.01689      0.02982  0.011112  27.183  0.43493   \n",
       "2       0.00844        0.01458      0.02202  0.020220  23.047  0.46222   \n",
       "3       0.01265        0.01963      0.03317  0.027837  24.445  0.48730   \n",
       "4       0.00929        0.01819      0.02036  0.011625  26.126  0.47188   \n",
       "\n",
       "       DFA      PPE  \n",
       "0  0.54842  0.16006  \n",
       "1  0.56477  0.10810  \n",
       "2  0.54405  0.21014  \n",
       "3  0.57794  0.33277  \n",
       "4  0.56122  0.19361  \n",
       "\n",
       "[5 rows x 22 columns]"
      ]
     },
     "execution_count": 3,
     "metadata": {},
     "output_type": "execute_result"
    }
   ],
   "source": [
    "df.head()"
   ]
  },
  {
   "cell_type": "code",
   "execution_count": 4,
   "metadata": {},
   "outputs": [
    {
     "data": {
      "text/html": [
       "<div>\n",
       "<style scoped>\n",
       "    .dataframe tbody tr th:only-of-type {\n",
       "        vertical-align: middle;\n",
       "    }\n",
       "\n",
       "    .dataframe tbody tr th {\n",
       "        vertical-align: top;\n",
       "    }\n",
       "\n",
       "    .dataframe thead th {\n",
       "        text-align: right;\n",
       "    }\n",
       "</style>\n",
       "<table border=\"1\" class=\"dataframe\">\n",
       "  <thead>\n",
       "    <tr style=\"text-align: right;\">\n",
       "      <th></th>\n",
       "      <th>subject#</th>\n",
       "      <th>age</th>\n",
       "      <th>sex</th>\n",
       "      <th>test_time</th>\n",
       "      <th>motor_UPDRS</th>\n",
       "      <th>total_UPDRS</th>\n",
       "      <th>Jitter(%)</th>\n",
       "      <th>Jitter(Abs)</th>\n",
       "      <th>Jitter:RAP</th>\n",
       "      <th>Jitter:PPQ5</th>\n",
       "      <th>...</th>\n",
       "      <th>Shimmer(dB)</th>\n",
       "      <th>Shimmer:APQ3</th>\n",
       "      <th>Shimmer:APQ5</th>\n",
       "      <th>Shimmer:APQ11</th>\n",
       "      <th>Shimmer:DDA</th>\n",
       "      <th>NHR</th>\n",
       "      <th>HNR</th>\n",
       "      <th>RPDE</th>\n",
       "      <th>DFA</th>\n",
       "      <th>PPE</th>\n",
       "    </tr>\n",
       "  </thead>\n",
       "  <tbody>\n",
       "    <tr>\n",
       "      <th>5870</th>\n",
       "      <td>42</td>\n",
       "      <td>61</td>\n",
       "      <td>0</td>\n",
       "      <td>142.79</td>\n",
       "      <td>22.485</td>\n",
       "      <td>33.485</td>\n",
       "      <td>0.00406</td>\n",
       "      <td>0.000031</td>\n",
       "      <td>0.00167</td>\n",
       "      <td>0.00168</td>\n",
       "      <td>...</td>\n",
       "      <td>0.160</td>\n",
       "      <td>0.00973</td>\n",
       "      <td>0.01133</td>\n",
       "      <td>0.01549</td>\n",
       "      <td>0.02920</td>\n",
       "      <td>0.025137</td>\n",
       "      <td>22.369</td>\n",
       "      <td>0.64215</td>\n",
       "      <td>0.55314</td>\n",
       "      <td>0.21367</td>\n",
       "    </tr>\n",
       "    <tr>\n",
       "      <th>5871</th>\n",
       "      <td>42</td>\n",
       "      <td>61</td>\n",
       "      <td>0</td>\n",
       "      <td>149.84</td>\n",
       "      <td>21.988</td>\n",
       "      <td>32.988</td>\n",
       "      <td>0.00297</td>\n",
       "      <td>0.000025</td>\n",
       "      <td>0.00119</td>\n",
       "      <td>0.00147</td>\n",
       "      <td>...</td>\n",
       "      <td>0.215</td>\n",
       "      <td>0.01052</td>\n",
       "      <td>0.01277</td>\n",
       "      <td>0.01904</td>\n",
       "      <td>0.03157</td>\n",
       "      <td>0.011927</td>\n",
       "      <td>22.886</td>\n",
       "      <td>0.52598</td>\n",
       "      <td>0.56518</td>\n",
       "      <td>0.12621</td>\n",
       "    </tr>\n",
       "    <tr>\n",
       "      <th>5872</th>\n",
       "      <td>42</td>\n",
       "      <td>61</td>\n",
       "      <td>0</td>\n",
       "      <td>156.82</td>\n",
       "      <td>21.495</td>\n",
       "      <td>32.495</td>\n",
       "      <td>0.00349</td>\n",
       "      <td>0.000025</td>\n",
       "      <td>0.00152</td>\n",
       "      <td>0.00187</td>\n",
       "      <td>...</td>\n",
       "      <td>0.244</td>\n",
       "      <td>0.01371</td>\n",
       "      <td>0.01456</td>\n",
       "      <td>0.01877</td>\n",
       "      <td>0.04112</td>\n",
       "      <td>0.017701</td>\n",
       "      <td>25.065</td>\n",
       "      <td>0.47792</td>\n",
       "      <td>0.57888</td>\n",
       "      <td>0.14157</td>\n",
       "    </tr>\n",
       "    <tr>\n",
       "      <th>5873</th>\n",
       "      <td>42</td>\n",
       "      <td>61</td>\n",
       "      <td>0</td>\n",
       "      <td>163.73</td>\n",
       "      <td>21.007</td>\n",
       "      <td>32.007</td>\n",
       "      <td>0.00281</td>\n",
       "      <td>0.000020</td>\n",
       "      <td>0.00128</td>\n",
       "      <td>0.00151</td>\n",
       "      <td>...</td>\n",
       "      <td>0.131</td>\n",
       "      <td>0.00693</td>\n",
       "      <td>0.00870</td>\n",
       "      <td>0.01307</td>\n",
       "      <td>0.02078</td>\n",
       "      <td>0.007984</td>\n",
       "      <td>24.422</td>\n",
       "      <td>0.56865</td>\n",
       "      <td>0.56327</td>\n",
       "      <td>0.14204</td>\n",
       "    </tr>\n",
       "    <tr>\n",
       "      <th>5874</th>\n",
       "      <td>42</td>\n",
       "      <td>61</td>\n",
       "      <td>0</td>\n",
       "      <td>170.73</td>\n",
       "      <td>20.513</td>\n",
       "      <td>31.513</td>\n",
       "      <td>0.00282</td>\n",
       "      <td>0.000021</td>\n",
       "      <td>0.00135</td>\n",
       "      <td>0.00166</td>\n",
       "      <td>...</td>\n",
       "      <td>0.171</td>\n",
       "      <td>0.00946</td>\n",
       "      <td>0.01154</td>\n",
       "      <td>0.01470</td>\n",
       "      <td>0.02839</td>\n",
       "      <td>0.008172</td>\n",
       "      <td>23.259</td>\n",
       "      <td>0.58608</td>\n",
       "      <td>0.57077</td>\n",
       "      <td>0.15336</td>\n",
       "    </tr>\n",
       "  </tbody>\n",
       "</table>\n",
       "<p>5 rows × 22 columns</p>\n",
       "</div>"
      ],
      "text/plain": [
       "      subject#  age  sex  test_time  motor_UPDRS  total_UPDRS  Jitter(%)  \\\n",
       "5870        42   61    0     142.79       22.485       33.485    0.00406   \n",
       "5871        42   61    0     149.84       21.988       32.988    0.00297   \n",
       "5872        42   61    0     156.82       21.495       32.495    0.00349   \n",
       "5873        42   61    0     163.73       21.007       32.007    0.00281   \n",
       "5874        42   61    0     170.73       20.513       31.513    0.00282   \n",
       "\n",
       "      Jitter(Abs)  Jitter:RAP  Jitter:PPQ5  ...  Shimmer(dB)  Shimmer:APQ3  \\\n",
       "5870     0.000031     0.00167      0.00168  ...        0.160       0.00973   \n",
       "5871     0.000025     0.00119      0.00147  ...        0.215       0.01052   \n",
       "5872     0.000025     0.00152      0.00187  ...        0.244       0.01371   \n",
       "5873     0.000020     0.00128      0.00151  ...        0.131       0.00693   \n",
       "5874     0.000021     0.00135      0.00166  ...        0.171       0.00946   \n",
       "\n",
       "      Shimmer:APQ5  Shimmer:APQ11  Shimmer:DDA       NHR     HNR     RPDE  \\\n",
       "5870       0.01133        0.01549      0.02920  0.025137  22.369  0.64215   \n",
       "5871       0.01277        0.01904      0.03157  0.011927  22.886  0.52598   \n",
       "5872       0.01456        0.01877      0.04112  0.017701  25.065  0.47792   \n",
       "5873       0.00870        0.01307      0.02078  0.007984  24.422  0.56865   \n",
       "5874       0.01154        0.01470      0.02839  0.008172  23.259  0.58608   \n",
       "\n",
       "          DFA      PPE  \n",
       "5870  0.55314  0.21367  \n",
       "5871  0.56518  0.12621  \n",
       "5872  0.57888  0.14157  \n",
       "5873  0.56327  0.14204  \n",
       "5874  0.57077  0.15336  \n",
       "\n",
       "[5 rows x 22 columns]"
      ]
     },
     "execution_count": 4,
     "metadata": {},
     "output_type": "execute_result"
    }
   ],
   "source": [
    "df.tail()"
   ]
  },
  {
   "cell_type": "code",
   "execution_count": 5,
   "metadata": {},
   "outputs": [],
   "source": [
    "X = df.drop([\"subject#\", \"age\", \"sex\", \"test_time\", \"motor_UPDRS\", \"total_UPDRS\"], axis = 1)"
   ]
  },
  {
   "cell_type": "code",
   "execution_count": 6,
   "metadata": {},
   "outputs": [
    {
     "data": {
      "text/html": [
       "<div>\n",
       "<style scoped>\n",
       "    .dataframe tbody tr th:only-of-type {\n",
       "        vertical-align: middle;\n",
       "    }\n",
       "\n",
       "    .dataframe tbody tr th {\n",
       "        vertical-align: top;\n",
       "    }\n",
       "\n",
       "    .dataframe thead th {\n",
       "        text-align: right;\n",
       "    }\n",
       "</style>\n",
       "<table border=\"1\" class=\"dataframe\">\n",
       "  <thead>\n",
       "    <tr style=\"text-align: right;\">\n",
       "      <th></th>\n",
       "      <th>Jitter(%)</th>\n",
       "      <th>Jitter(Abs)</th>\n",
       "      <th>Jitter:RAP</th>\n",
       "      <th>Jitter:PPQ5</th>\n",
       "      <th>Jitter:DDP</th>\n",
       "      <th>Shimmer</th>\n",
       "      <th>Shimmer(dB)</th>\n",
       "      <th>Shimmer:APQ3</th>\n",
       "      <th>Shimmer:APQ5</th>\n",
       "      <th>Shimmer:APQ11</th>\n",
       "      <th>Shimmer:DDA</th>\n",
       "      <th>NHR</th>\n",
       "      <th>HNR</th>\n",
       "      <th>RPDE</th>\n",
       "      <th>DFA</th>\n",
       "      <th>PPE</th>\n",
       "    </tr>\n",
       "  </thead>\n",
       "  <tbody>\n",
       "    <tr>\n",
       "      <th>0</th>\n",
       "      <td>0.00662</td>\n",
       "      <td>0.000034</td>\n",
       "      <td>0.00401</td>\n",
       "      <td>0.00317</td>\n",
       "      <td>0.01204</td>\n",
       "      <td>0.02565</td>\n",
       "      <td>0.230</td>\n",
       "      <td>0.01438</td>\n",
       "      <td>0.01309</td>\n",
       "      <td>0.01662</td>\n",
       "      <td>0.04314</td>\n",
       "      <td>0.014290</td>\n",
       "      <td>21.640</td>\n",
       "      <td>0.41888</td>\n",
       "      <td>0.54842</td>\n",
       "      <td>0.16006</td>\n",
       "    </tr>\n",
       "    <tr>\n",
       "      <th>1</th>\n",
       "      <td>0.00300</td>\n",
       "      <td>0.000017</td>\n",
       "      <td>0.00132</td>\n",
       "      <td>0.00150</td>\n",
       "      <td>0.00395</td>\n",
       "      <td>0.02024</td>\n",
       "      <td>0.179</td>\n",
       "      <td>0.00994</td>\n",
       "      <td>0.01072</td>\n",
       "      <td>0.01689</td>\n",
       "      <td>0.02982</td>\n",
       "      <td>0.011112</td>\n",
       "      <td>27.183</td>\n",
       "      <td>0.43493</td>\n",
       "      <td>0.56477</td>\n",
       "      <td>0.10810</td>\n",
       "    </tr>\n",
       "    <tr>\n",
       "      <th>2</th>\n",
       "      <td>0.00481</td>\n",
       "      <td>0.000025</td>\n",
       "      <td>0.00205</td>\n",
       "      <td>0.00208</td>\n",
       "      <td>0.00616</td>\n",
       "      <td>0.01675</td>\n",
       "      <td>0.181</td>\n",
       "      <td>0.00734</td>\n",
       "      <td>0.00844</td>\n",
       "      <td>0.01458</td>\n",
       "      <td>0.02202</td>\n",
       "      <td>0.020220</td>\n",
       "      <td>23.047</td>\n",
       "      <td>0.46222</td>\n",
       "      <td>0.54405</td>\n",
       "      <td>0.21014</td>\n",
       "    </tr>\n",
       "    <tr>\n",
       "      <th>3</th>\n",
       "      <td>0.00528</td>\n",
       "      <td>0.000027</td>\n",
       "      <td>0.00191</td>\n",
       "      <td>0.00264</td>\n",
       "      <td>0.00573</td>\n",
       "      <td>0.02309</td>\n",
       "      <td>0.327</td>\n",
       "      <td>0.01106</td>\n",
       "      <td>0.01265</td>\n",
       "      <td>0.01963</td>\n",
       "      <td>0.03317</td>\n",
       "      <td>0.027837</td>\n",
       "      <td>24.445</td>\n",
       "      <td>0.48730</td>\n",
       "      <td>0.57794</td>\n",
       "      <td>0.33277</td>\n",
       "    </tr>\n",
       "    <tr>\n",
       "      <th>4</th>\n",
       "      <td>0.00335</td>\n",
       "      <td>0.000020</td>\n",
       "      <td>0.00093</td>\n",
       "      <td>0.00130</td>\n",
       "      <td>0.00278</td>\n",
       "      <td>0.01703</td>\n",
       "      <td>0.176</td>\n",
       "      <td>0.00679</td>\n",
       "      <td>0.00929</td>\n",
       "      <td>0.01819</td>\n",
       "      <td>0.02036</td>\n",
       "      <td>0.011625</td>\n",
       "      <td>26.126</td>\n",
       "      <td>0.47188</td>\n",
       "      <td>0.56122</td>\n",
       "      <td>0.19361</td>\n",
       "    </tr>\n",
       "    <tr>\n",
       "      <th>...</th>\n",
       "      <td>...</td>\n",
       "      <td>...</td>\n",
       "      <td>...</td>\n",
       "      <td>...</td>\n",
       "      <td>...</td>\n",
       "      <td>...</td>\n",
       "      <td>...</td>\n",
       "      <td>...</td>\n",
       "      <td>...</td>\n",
       "      <td>...</td>\n",
       "      <td>...</td>\n",
       "      <td>...</td>\n",
       "      <td>...</td>\n",
       "      <td>...</td>\n",
       "      <td>...</td>\n",
       "      <td>...</td>\n",
       "    </tr>\n",
       "    <tr>\n",
       "      <th>5870</th>\n",
       "      <td>0.00406</td>\n",
       "      <td>0.000031</td>\n",
       "      <td>0.00167</td>\n",
       "      <td>0.00168</td>\n",
       "      <td>0.00500</td>\n",
       "      <td>0.01896</td>\n",
       "      <td>0.160</td>\n",
       "      <td>0.00973</td>\n",
       "      <td>0.01133</td>\n",
       "      <td>0.01549</td>\n",
       "      <td>0.02920</td>\n",
       "      <td>0.025137</td>\n",
       "      <td>22.369</td>\n",
       "      <td>0.64215</td>\n",
       "      <td>0.55314</td>\n",
       "      <td>0.21367</td>\n",
       "    </tr>\n",
       "    <tr>\n",
       "      <th>5871</th>\n",
       "      <td>0.00297</td>\n",
       "      <td>0.000025</td>\n",
       "      <td>0.00119</td>\n",
       "      <td>0.00147</td>\n",
       "      <td>0.00358</td>\n",
       "      <td>0.02315</td>\n",
       "      <td>0.215</td>\n",
       "      <td>0.01052</td>\n",
       "      <td>0.01277</td>\n",
       "      <td>0.01904</td>\n",
       "      <td>0.03157</td>\n",
       "      <td>0.011927</td>\n",
       "      <td>22.886</td>\n",
       "      <td>0.52598</td>\n",
       "      <td>0.56518</td>\n",
       "      <td>0.12621</td>\n",
       "    </tr>\n",
       "    <tr>\n",
       "      <th>5872</th>\n",
       "      <td>0.00349</td>\n",
       "      <td>0.000025</td>\n",
       "      <td>0.00152</td>\n",
       "      <td>0.00187</td>\n",
       "      <td>0.00456</td>\n",
       "      <td>0.02499</td>\n",
       "      <td>0.244</td>\n",
       "      <td>0.01371</td>\n",
       "      <td>0.01456</td>\n",
       "      <td>0.01877</td>\n",
       "      <td>0.04112</td>\n",
       "      <td>0.017701</td>\n",
       "      <td>25.065</td>\n",
       "      <td>0.47792</td>\n",
       "      <td>0.57888</td>\n",
       "      <td>0.14157</td>\n",
       "    </tr>\n",
       "    <tr>\n",
       "      <th>5873</th>\n",
       "      <td>0.00281</td>\n",
       "      <td>0.000020</td>\n",
       "      <td>0.00128</td>\n",
       "      <td>0.00151</td>\n",
       "      <td>0.00383</td>\n",
       "      <td>0.01484</td>\n",
       "      <td>0.131</td>\n",
       "      <td>0.00693</td>\n",
       "      <td>0.00870</td>\n",
       "      <td>0.01307</td>\n",
       "      <td>0.02078</td>\n",
       "      <td>0.007984</td>\n",
       "      <td>24.422</td>\n",
       "      <td>0.56865</td>\n",
       "      <td>0.56327</td>\n",
       "      <td>0.14204</td>\n",
       "    </tr>\n",
       "    <tr>\n",
       "      <th>5874</th>\n",
       "      <td>0.00282</td>\n",
       "      <td>0.000021</td>\n",
       "      <td>0.00135</td>\n",
       "      <td>0.00166</td>\n",
       "      <td>0.00406</td>\n",
       "      <td>0.01907</td>\n",
       "      <td>0.171</td>\n",
       "      <td>0.00946</td>\n",
       "      <td>0.01154</td>\n",
       "      <td>0.01470</td>\n",
       "      <td>0.02839</td>\n",
       "      <td>0.008172</td>\n",
       "      <td>23.259</td>\n",
       "      <td>0.58608</td>\n",
       "      <td>0.57077</td>\n",
       "      <td>0.15336</td>\n",
       "    </tr>\n",
       "  </tbody>\n",
       "</table>\n",
       "<p>5875 rows × 16 columns</p>\n",
       "</div>"
      ],
      "text/plain": [
       "      Jitter(%)  Jitter(Abs)  Jitter:RAP  Jitter:PPQ5  Jitter:DDP  Shimmer  \\\n",
       "0       0.00662     0.000034     0.00401      0.00317     0.01204  0.02565   \n",
       "1       0.00300     0.000017     0.00132      0.00150     0.00395  0.02024   \n",
       "2       0.00481     0.000025     0.00205      0.00208     0.00616  0.01675   \n",
       "3       0.00528     0.000027     0.00191      0.00264     0.00573  0.02309   \n",
       "4       0.00335     0.000020     0.00093      0.00130     0.00278  0.01703   \n",
       "...         ...          ...         ...          ...         ...      ...   \n",
       "5870    0.00406     0.000031     0.00167      0.00168     0.00500  0.01896   \n",
       "5871    0.00297     0.000025     0.00119      0.00147     0.00358  0.02315   \n",
       "5872    0.00349     0.000025     0.00152      0.00187     0.00456  0.02499   \n",
       "5873    0.00281     0.000020     0.00128      0.00151     0.00383  0.01484   \n",
       "5874    0.00282     0.000021     0.00135      0.00166     0.00406  0.01907   \n",
       "\n",
       "      Shimmer(dB)  Shimmer:APQ3  Shimmer:APQ5  Shimmer:APQ11  Shimmer:DDA  \\\n",
       "0           0.230       0.01438       0.01309        0.01662      0.04314   \n",
       "1           0.179       0.00994       0.01072        0.01689      0.02982   \n",
       "2           0.181       0.00734       0.00844        0.01458      0.02202   \n",
       "3           0.327       0.01106       0.01265        0.01963      0.03317   \n",
       "4           0.176       0.00679       0.00929        0.01819      0.02036   \n",
       "...           ...           ...           ...            ...          ...   \n",
       "5870        0.160       0.00973       0.01133        0.01549      0.02920   \n",
       "5871        0.215       0.01052       0.01277        0.01904      0.03157   \n",
       "5872        0.244       0.01371       0.01456        0.01877      0.04112   \n",
       "5873        0.131       0.00693       0.00870        0.01307      0.02078   \n",
       "5874        0.171       0.00946       0.01154        0.01470      0.02839   \n",
       "\n",
       "           NHR     HNR     RPDE      DFA      PPE  \n",
       "0     0.014290  21.640  0.41888  0.54842  0.16006  \n",
       "1     0.011112  27.183  0.43493  0.56477  0.10810  \n",
       "2     0.020220  23.047  0.46222  0.54405  0.21014  \n",
       "3     0.027837  24.445  0.48730  0.57794  0.33277  \n",
       "4     0.011625  26.126  0.47188  0.56122  0.19361  \n",
       "...        ...     ...      ...      ...      ...  \n",
       "5870  0.025137  22.369  0.64215  0.55314  0.21367  \n",
       "5871  0.011927  22.886  0.52598  0.56518  0.12621  \n",
       "5872  0.017701  25.065  0.47792  0.57888  0.14157  \n",
       "5873  0.007984  24.422  0.56865  0.56327  0.14204  \n",
       "5874  0.008172  23.259  0.58608  0.57077  0.15336  \n",
       "\n",
       "[5875 rows x 16 columns]"
      ]
     },
     "execution_count": 6,
     "metadata": {},
     "output_type": "execute_result"
    }
   ],
   "source": [
    "X"
   ]
  },
  {
   "cell_type": "markdown",
   "metadata": {},
   "source": [
    "Definition of Yr (for regression) and Yc (for classification)."
   ]
  },
  {
   "cell_type": "code",
   "execution_count": 7,
   "metadata": {},
   "outputs": [],
   "source": [
    "Yr = np.array(df[\"motor_UPDRS\"])"
   ]
  },
  {
   "cell_type": "code",
   "execution_count": 8,
   "metadata": {},
   "outputs": [
    {
     "data": {
      "text/plain": [
       "array([28.199, 28.447, 28.695, ..., 21.495, 21.007, 20.513])"
      ]
     },
     "execution_count": 8,
     "metadata": {},
     "output_type": "execute_result"
    }
   ],
   "source": [
    "Yr"
   ]
  },
  {
   "cell_type": "code",
   "execution_count": 9,
   "metadata": {},
   "outputs": [],
   "source": [
    "Yc = np.array([int(i > 40) for i in df[\"total_UPDRS\"]])"
   ]
  },
  {
   "cell_type": "code",
   "execution_count": 10,
   "metadata": {},
   "outputs": [
    {
     "data": {
      "text/plain": [
       "array([0, 0, 0, ..., 0, 0, 0])"
      ]
     },
     "execution_count": 10,
     "metadata": {},
     "output_type": "execute_result"
    }
   ],
   "source": [
    "Yc"
   ]
  },
  {
   "cell_type": "code",
   "execution_count": 11,
   "metadata": {},
   "outputs": [
    {
     "name": "stdout",
     "output_type": "stream",
     "text": [
      "0 ---> 4869\n",
      "1 ---> 1006\n"
     ]
    }
   ],
   "source": [
    "vals, counts= np.unique(Yc, return_counts=True)\n",
    "for v, c in zip(vals, counts):\n",
    "    print(v, \"--->\", c)"
   ]
  },
  {
   "cell_type": "markdown",
   "metadata": {},
   "source": [
    "# Regression"
   ]
  },
  {
   "cell_type": "code",
   "execution_count": 12,
   "metadata": {},
   "outputs": [],
   "source": [
    "#1.First separate the dataset into a Training Set and an Independent Validation Set (IVS).\n",
    "X_TRAIN, X_IVS, y_TRAIN, y_IVS = train_test_split(X.values, Yr, test_size=0.25, random_state=123)"
   ]
  },
  {
   "cell_type": "markdown",
   "metadata": {},
   "source": [
    "### Decision Tree Regressor"
   ]
  },
  {
   "cell_type": "code",
   "execution_count": 13,
   "metadata": {},
   "outputs": [
    {
     "name": "stdout",
     "output_type": "stream",
     "text": [
      "The best decision tree regressor has parameters: {'ccp_alpha': 0.0, 'criterion': 'squared_error', 'max_depth': 4, 'max_features': 'auto', 'max_leaf_nodes': None, 'min_impurity_decrease': 0.0, 'min_samples_leaf': 1, 'min_samples_split': 2, 'min_weight_fraction_leaf': 0.1, 'random_state': None, 'splitter': 'best'} and RMSE: 7.732927649867136\n"
     ]
    }
   ],
   "source": [
    "#2. Use the Training Set for n-Fold Cross Validation\n",
    "\n",
    "kf = KFold(n_splits=5, shuffle=True, random_state = 1)\n",
    "best_rmse = inf\n",
    "for s in [\"best\",\"random\"]:\n",
    "    for md in range(1, 10):\n",
    "        for msl in range(1,5):\n",
    "            for mwfl in [0.1,0.2,0.3,0.4,0.5]:\n",
    "                for mf in [\"auto\",\"log2\",\"sqrt\",None]:\n",
    "                    for mln in [None,10,20,30,40,50,60,70,80,90]:\n",
    "                        TRUTH=None\n",
    "                        PREDS=None\n",
    "                        for train_index, test_index in kf.split(X_TRAIN):\n",
    "                            X_train, X_test = X_TRAIN[train_index, :], X_TRAIN[test_index, :]\n",
    "                            y_train, y_test = y_TRAIN[train_index], y_TRAIN[test_index]\n",
    "                            model = tree.DecisionTreeRegressor(splitter = s, max_depth = md, min_samples_leaf = msl,\n",
    "                                                              min_weight_fraction_leaf=mwfl, max_features=mf, max_leaf_nodes=mln)\n",
    "                            model.fit(X_train, y_train)\n",
    "                            preds = model.predict(X_test)\n",
    "                            if TRUTH is None:\n",
    "                                PREDS=preds\n",
    "                                TRUTH=y_test\n",
    "                            else:\n",
    "                                PREDS=np.hstack((PREDS, preds))\n",
    "                                TRUTH=np.hstack((TRUTH, y_test))\n",
    "                        #3. evaluate the resulting model with mse\n",
    "                        rmse =  mean_squared_error(TRUTH, PREDS, squared=False)\n",
    "                        if best_rmse > rmse:\n",
    "                            best_rmse = rmse\n",
    "                            best_dtr = model\n",
    "\n",
    "print(\"The best decision tree regressor has parameters:\", best_dtr.get_params(), \"and RMSE:\", best_rmse)"
   ]
  },
  {
   "cell_type": "markdown",
   "metadata": {},
   "source": [
    "### Linear Regression"
   ]
  },
  {
   "cell_type": "code",
   "execution_count": 14,
   "metadata": {},
   "outputs": [
    {
     "data": {
      "text/html": [
       "<table class=\"simpletable\">\n",
       "<caption>OLS Regression Results</caption>\n",
       "<tr>\n",
       "  <th>Dep. Variable:</th>            <td>y</td>        <th>  R-squared:         </th> <td>   0.106</td> \n",
       "</tr>\n",
       "<tr>\n",
       "  <th>Model:</th>                   <td>OLS</td>       <th>  Adj. R-squared:    </th> <td>   0.103</td> \n",
       "</tr>\n",
       "<tr>\n",
       "  <th>Method:</th>             <td>Least Squares</td>  <th>  F-statistic:       </th> <td>   32.48</td> \n",
       "</tr>\n",
       "<tr>\n",
       "  <th>Date:</th>             <td>Sat, 22 Oct 2022</td> <th>  Prob (F-statistic):</th> <td>1.68e-94</td> \n",
       "</tr>\n",
       "<tr>\n",
       "  <th>Time:</th>                 <td>09:37:47</td>     <th>  Log-Likelihood:    </th> <td> -15229.</td> \n",
       "</tr>\n",
       "<tr>\n",
       "  <th>No. Observations:</th>      <td>  4406</td>      <th>  AIC:               </th> <td>3.049e+04</td>\n",
       "</tr>\n",
       "<tr>\n",
       "  <th>Df Residuals:</th>          <td>  4389</td>      <th>  BIC:               </th> <td>3.060e+04</td>\n",
       "</tr>\n",
       "<tr>\n",
       "  <th>Df Model:</th>              <td>    16</td>      <th>                     </th>     <td> </td>    \n",
       "</tr>\n",
       "<tr>\n",
       "  <th>Covariance Type:</th>      <td>nonrobust</td>    <th>                     </th>     <td> </td>    \n",
       "</tr>\n",
       "</table>\n",
       "<table class=\"simpletable\">\n",
       "<tr>\n",
       "    <td></td>       <th>coef</th>     <th>std err</th>      <th>t</th>      <th>P>|t|</th>  <th>[0.025</th>    <th>0.975]</th>  \n",
       "</tr>\n",
       "<tr>\n",
       "  <th>const</th> <td>   46.4726</td> <td>    2.666</td> <td>   17.432</td> <td> 0.000</td> <td>   41.246</td> <td>   51.699</td>\n",
       "</tr>\n",
       "<tr>\n",
       "  <th>x1</th>    <td>  355.9482</td> <td>  190.884</td> <td>    1.865</td> <td> 0.062</td> <td>  -18.281</td> <td>  730.177</td>\n",
       "</tr>\n",
       "<tr>\n",
       "  <th>x2</th>    <td> -4.78e+04</td> <td> 8190.525</td> <td>   -5.836</td> <td> 0.000</td> <td>-6.39e+04</td> <td>-3.17e+04</td>\n",
       "</tr>\n",
       "<tr>\n",
       "  <th>x3</th>    <td>-5.557e+04</td> <td> 4.26e+04</td> <td>   -1.306</td> <td> 0.192</td> <td>-1.39e+05</td> <td> 2.79e+04</td>\n",
       "</tr>\n",
       "<tr>\n",
       "  <th>x4</th>    <td> -171.4468</td> <td>  166.722</td> <td>   -1.028</td> <td> 0.304</td> <td> -498.307</td> <td>  155.413</td>\n",
       "</tr>\n",
       "<tr>\n",
       "  <th>x5</th>    <td>  1.85e+04</td> <td> 1.42e+04</td> <td>    1.304</td> <td> 0.192</td> <td>-9318.791</td> <td> 4.63e+04</td>\n",
       "</tr>\n",
       "<tr>\n",
       "  <th>x6</th>    <td>   83.2846</td> <td>   56.591</td> <td>    1.472</td> <td> 0.141</td> <td>  -27.662</td> <td>  194.232</td>\n",
       "</tr>\n",
       "<tr>\n",
       "  <th>x7</th>    <td>   -1.3977</td> <td>    4.335</td> <td>   -0.322</td> <td> 0.747</td> <td>   -9.897</td> <td>    7.102</td>\n",
       "</tr>\n",
       "<tr>\n",
       "  <th>x8</th>    <td>-8650.2732</td> <td> 4.28e+04</td> <td>   -0.202</td> <td> 0.840</td> <td>-9.27e+04</td> <td> 7.54e+04</td>\n",
       "</tr>\n",
       "<tr>\n",
       "  <th>x9</th>    <td> -166.0280</td> <td>   50.747</td> <td>   -3.272</td> <td> 0.001</td> <td> -265.517</td> <td>  -66.539</td>\n",
       "</tr>\n",
       "<tr>\n",
       "  <th>x10</th>   <td>  101.1653</td> <td>   22.294</td> <td>    4.538</td> <td> 0.000</td> <td>   57.458</td> <td>  144.873</td>\n",
       "</tr>\n",
       "<tr>\n",
       "  <th>x11</th>   <td> 2849.3160</td> <td> 1.43e+04</td> <td>    0.199</td> <td> 0.842</td> <td>-2.52e+04</td> <td> 3.09e+04</td>\n",
       "</tr>\n",
       "<tr>\n",
       "  <th>x12</th>   <td>  -20.3850</td> <td>    5.501</td> <td>   -3.706</td> <td> 0.000</td> <td>  -31.169</td> <td>   -9.601</td>\n",
       "</tr>\n",
       "<tr>\n",
       "  <th>x13</th>   <td>   -0.4564</td> <td>    0.062</td> <td>   -7.323</td> <td> 0.000</td> <td>   -0.579</td> <td>   -0.334</td>\n",
       "</tr>\n",
       "<tr>\n",
       "  <th>x14</th>   <td>   -0.8465</td> <td>    1.654</td> <td>   -0.512</td> <td> 0.609</td> <td>   -4.090</td> <td>    2.397</td>\n",
       "</tr>\n",
       "<tr>\n",
       "  <th>x15</th>   <td>  -27.8228</td> <td>    2.053</td> <td>  -13.553</td> <td> 0.000</td> <td>  -31.847</td> <td>  -23.798</td>\n",
       "</tr>\n",
       "<tr>\n",
       "  <th>x16</th>   <td>   20.6865</td> <td>    2.654</td> <td>    7.795</td> <td> 0.000</td> <td>   15.484</td> <td>   25.889</td>\n",
       "</tr>\n",
       "</table>\n",
       "<table class=\"simpletable\">\n",
       "<tr>\n",
       "  <th>Omnibus:</th>       <td>368.531</td> <th>  Durbin-Watson:     </th> <td>   2.000</td>\n",
       "</tr>\n",
       "<tr>\n",
       "  <th>Prob(Omnibus):</th> <td> 0.000</td>  <th>  Jarque-Bera (JB):  </th> <td> 132.775</td>\n",
       "</tr>\n",
       "<tr>\n",
       "  <th>Skew:</th>          <td> 0.160</td>  <th>  Prob(JB):          </th> <td>1.47e-29</td>\n",
       "</tr>\n",
       "<tr>\n",
       "  <th>Kurtosis:</th>      <td> 2.212</td>  <th>  Cond. No.          </th> <td>8.62e+06</td>\n",
       "</tr>\n",
       "</table><br/><br/>Notes:<br/>[1] Standard Errors assume that the covariance matrix of the errors is correctly specified.<br/>[2] The condition number is large, 8.62e+06. This might indicate that there are<br/>strong multicollinearity or other numerical problems."
      ],
      "text/plain": [
       "<class 'statsmodels.iolib.summary.Summary'>\n",
       "\"\"\"\n",
       "                            OLS Regression Results                            \n",
       "==============================================================================\n",
       "Dep. Variable:                      y   R-squared:                       0.106\n",
       "Model:                            OLS   Adj. R-squared:                  0.103\n",
       "Method:                 Least Squares   F-statistic:                     32.48\n",
       "Date:                Sat, 22 Oct 2022   Prob (F-statistic):           1.68e-94\n",
       "Time:                        09:37:47   Log-Likelihood:                -15229.\n",
       "No. Observations:                4406   AIC:                         3.049e+04\n",
       "Df Residuals:                    4389   BIC:                         3.060e+04\n",
       "Df Model:                          16                                         \n",
       "Covariance Type:            nonrobust                                         \n",
       "==============================================================================\n",
       "                 coef    std err          t      P>|t|      [0.025      0.975]\n",
       "------------------------------------------------------------------------------\n",
       "const         46.4726      2.666     17.432      0.000      41.246      51.699\n",
       "x1           355.9482    190.884      1.865      0.062     -18.281     730.177\n",
       "x2          -4.78e+04   8190.525     -5.836      0.000   -6.39e+04   -3.17e+04\n",
       "x3         -5.557e+04   4.26e+04     -1.306      0.192   -1.39e+05    2.79e+04\n",
       "x4          -171.4468    166.722     -1.028      0.304    -498.307     155.413\n",
       "x5           1.85e+04   1.42e+04      1.304      0.192   -9318.791    4.63e+04\n",
       "x6            83.2846     56.591      1.472      0.141     -27.662     194.232\n",
       "x7            -1.3977      4.335     -0.322      0.747      -9.897       7.102\n",
       "x8         -8650.2732   4.28e+04     -0.202      0.840   -9.27e+04    7.54e+04\n",
       "x9          -166.0280     50.747     -3.272      0.001    -265.517     -66.539\n",
       "x10          101.1653     22.294      4.538      0.000      57.458     144.873\n",
       "x11         2849.3160   1.43e+04      0.199      0.842   -2.52e+04    3.09e+04\n",
       "x12          -20.3850      5.501     -3.706      0.000     -31.169      -9.601\n",
       "x13           -0.4564      0.062     -7.323      0.000      -0.579      -0.334\n",
       "x14           -0.8465      1.654     -0.512      0.609      -4.090       2.397\n",
       "x15          -27.8228      2.053    -13.553      0.000     -31.847     -23.798\n",
       "x16           20.6865      2.654      7.795      0.000      15.484      25.889\n",
       "==============================================================================\n",
       "Omnibus:                      368.531   Durbin-Watson:                   2.000\n",
       "Prob(Omnibus):                  0.000   Jarque-Bera (JB):              132.775\n",
       "Skew:                           0.160   Prob(JB):                     1.47e-29\n",
       "Kurtosis:                       2.212   Cond. No.                     8.62e+06\n",
       "==============================================================================\n",
       "\n",
       "Notes:\n",
       "[1] Standard Errors assume that the covariance matrix of the errors is correctly specified.\n",
       "[2] The condition number is large, 8.62e+06. This might indicate that there are\n",
       "strong multicollinearity or other numerical problems.\n",
       "\"\"\""
      ]
     },
     "execution_count": 14,
     "metadata": {},
     "output_type": "execute_result"
    }
   ],
   "source": [
    "from statsmodels.api import OLS,  add_constant\n",
    "X_tr = add_constant(X_TRAIN)\n",
    "mdl=OLS(y_TRAIN,X_tr, hasconst=12).fit()\n",
    "mdl.summary()"
   ]
  },
  {
   "cell_type": "markdown",
   "metadata": {},
   "source": [
    "Variaveis que ficam: x2 [1], x9 [8], x10 [9], x12 [11], x13 [12], x15 [14], x16 [15]"
   ]
  },
  {
   "cell_type": "code",
   "execution_count": 15,
   "metadata": {},
   "outputs": [],
   "source": [
    "stay = [1, 8, 9, 11, 12, 14, 15]"
   ]
  },
  {
   "cell_type": "code",
   "execution_count": 16,
   "metadata": {},
   "outputs": [],
   "source": [
    "X_TRAIN2 = np.array([[X_TRAIN[j][i] for i in stay] for j in range(len(X_TRAIN))])"
   ]
  },
  {
   "cell_type": "code",
   "execution_count": 17,
   "metadata": {},
   "outputs": [
    {
     "data": {
      "text/html": [
       "<table class=\"simpletable\">\n",
       "<caption>OLS Regression Results</caption>\n",
       "<tr>\n",
       "  <th>Dep. Variable:</th>            <td>y</td>        <th>  R-squared:         </th> <td>   0.101</td> \n",
       "</tr>\n",
       "<tr>\n",
       "  <th>Model:</th>                   <td>OLS</td>       <th>  Adj. R-squared:    </th> <td>   0.100</td> \n",
       "</tr>\n",
       "<tr>\n",
       "  <th>Method:</th>             <td>Least Squares</td>  <th>  F-statistic:       </th> <td>   70.60</td> \n",
       "</tr>\n",
       "<tr>\n",
       "  <th>Date:</th>             <td>Sat, 22 Oct 2022</td> <th>  Prob (F-statistic):</th> <td>4.40e-97</td> \n",
       "</tr>\n",
       "<tr>\n",
       "  <th>Time:</th>                 <td>09:37:48</td>     <th>  Log-Likelihood:    </th> <td> -15241.</td> \n",
       "</tr>\n",
       "<tr>\n",
       "  <th>No. Observations:</th>      <td>  4406</td>      <th>  AIC:               </th> <td>3.050e+04</td>\n",
       "</tr>\n",
       "<tr>\n",
       "  <th>Df Residuals:</th>          <td>  4398</td>      <th>  BIC:               </th> <td>3.055e+04</td>\n",
       "</tr>\n",
       "<tr>\n",
       "  <th>Df Model:</th>              <td>     7</td>      <th>                     </th>     <td> </td>    \n",
       "</tr>\n",
       "<tr>\n",
       "  <th>Covariance Type:</th>      <td>nonrobust</td>    <th>                     </th>     <td> </td>    \n",
       "</tr>\n",
       "</table>\n",
       "<table class=\"simpletable\">\n",
       "<tr>\n",
       "    <td></td>       <th>coef</th>     <th>std err</th>      <th>t</th>      <th>P>|t|</th>  <th>[0.025</th>    <th>0.975]</th>  \n",
       "</tr>\n",
       "<tr>\n",
       "  <th>const</th> <td>   43.8074</td> <td>    2.066</td> <td>   21.204</td> <td> 0.000</td> <td>   39.757</td> <td>   47.858</td>\n",
       "</tr>\n",
       "<tr>\n",
       "  <th>x1</th>    <td> -3.15e+04</td> <td> 6318.384</td> <td>   -4.986</td> <td> 0.000</td> <td>-4.39e+04</td> <td>-1.91e+04</td>\n",
       "</tr>\n",
       "<tr>\n",
       "  <th>x2</th>    <td> -173.9764</td> <td>   25.213</td> <td>   -6.900</td> <td> 0.000</td> <td> -223.407</td> <td> -124.546</td>\n",
       "</tr>\n",
       "<tr>\n",
       "  <th>x3</th>    <td>  127.1037</td> <td>   17.784</td> <td>    7.147</td> <td> 0.000</td> <td>   92.239</td> <td>  161.969</td>\n",
       "</tr>\n",
       "<tr>\n",
       "  <th>x4</th>    <td>   -7.6617</td> <td>    4.087</td> <td>   -1.875</td> <td> 0.061</td> <td>  -15.674</td> <td>    0.351</td>\n",
       "</tr>\n",
       "<tr>\n",
       "  <th>x5</th>    <td>   -0.3939</td> <td>    0.055</td> <td>   -7.157</td> <td> 0.000</td> <td>   -0.502</td> <td>   -0.286</td>\n",
       "</tr>\n",
       "<tr>\n",
       "  <th>x6</th>    <td>  -26.7468</td> <td>    1.983</td> <td>  -13.490</td> <td> 0.000</td> <td>  -30.634</td> <td>  -22.860</td>\n",
       "</tr>\n",
       "<tr>\n",
       "  <th>x7</th>    <td>   23.1486</td> <td>    2.421</td> <td>    9.563</td> <td> 0.000</td> <td>   18.403</td> <td>   27.894</td>\n",
       "</tr>\n",
       "</table>\n",
       "<table class=\"simpletable\">\n",
       "<tr>\n",
       "  <th>Omnibus:</th>       <td>436.351</td> <th>  Durbin-Watson:     </th> <td>   1.999</td>\n",
       "</tr>\n",
       "<tr>\n",
       "  <th>Prob(Omnibus):</th> <td> 0.000</td>  <th>  Jarque-Bera (JB):  </th> <td> 147.412</td>\n",
       "</tr>\n",
       "<tr>\n",
       "  <th>Skew:</th>          <td> 0.177</td>  <th>  Prob(JB):          </th> <td>9.77e-33</td>\n",
       "</tr>\n",
       "<tr>\n",
       "  <th>Kurtosis:</th>      <td> 2.177</td>  <th>  Cond. No.          </th> <td>1.20e+06</td>\n",
       "</tr>\n",
       "</table><br/><br/>Notes:<br/>[1] Standard Errors assume that the covariance matrix of the errors is correctly specified.<br/>[2] The condition number is large, 1.2e+06. This might indicate that there are<br/>strong multicollinearity or other numerical problems."
      ],
      "text/plain": [
       "<class 'statsmodels.iolib.summary.Summary'>\n",
       "\"\"\"\n",
       "                            OLS Regression Results                            \n",
       "==============================================================================\n",
       "Dep. Variable:                      y   R-squared:                       0.101\n",
       "Model:                            OLS   Adj. R-squared:                  0.100\n",
       "Method:                 Least Squares   F-statistic:                     70.60\n",
       "Date:                Sat, 22 Oct 2022   Prob (F-statistic):           4.40e-97\n",
       "Time:                        09:37:48   Log-Likelihood:                -15241.\n",
       "No. Observations:                4406   AIC:                         3.050e+04\n",
       "Df Residuals:                    4398   BIC:                         3.055e+04\n",
       "Df Model:                           7                                         \n",
       "Covariance Type:            nonrobust                                         \n",
       "==============================================================================\n",
       "                 coef    std err          t      P>|t|      [0.025      0.975]\n",
       "------------------------------------------------------------------------------\n",
       "const         43.8074      2.066     21.204      0.000      39.757      47.858\n",
       "x1          -3.15e+04   6318.384     -4.986      0.000   -4.39e+04   -1.91e+04\n",
       "x2          -173.9764     25.213     -6.900      0.000    -223.407    -124.546\n",
       "x3           127.1037     17.784      7.147      0.000      92.239     161.969\n",
       "x4            -7.6617      4.087     -1.875      0.061     -15.674       0.351\n",
       "x5            -0.3939      0.055     -7.157      0.000      -0.502      -0.286\n",
       "x6           -26.7468      1.983    -13.490      0.000     -30.634     -22.860\n",
       "x7            23.1486      2.421      9.563      0.000      18.403      27.894\n",
       "==============================================================================\n",
       "Omnibus:                      436.351   Durbin-Watson:                   1.999\n",
       "Prob(Omnibus):                  0.000   Jarque-Bera (JB):              147.412\n",
       "Skew:                           0.177   Prob(JB):                     9.77e-33\n",
       "Kurtosis:                       2.177   Cond. No.                     1.20e+06\n",
       "==============================================================================\n",
       "\n",
       "Notes:\n",
       "[1] Standard Errors assume that the covariance matrix of the errors is correctly specified.\n",
       "[2] The condition number is large, 1.2e+06. This might indicate that there are\n",
       "strong multicollinearity or other numerical problems.\n",
       "\"\"\""
      ]
     },
     "execution_count": 17,
     "metadata": {},
     "output_type": "execute_result"
    }
   ],
   "source": [
    "X_tr2 = add_constant(X_TRAIN2)\n",
    "mdl2=OLS(y_TRAIN,X_tr2, hasconst=12).fit()\n",
    "mdl2.summary()"
   ]
  },
  {
   "cell_type": "markdown",
   "metadata": {},
   "source": [
    "### Ridge Regression"
   ]
  },
  {
   "cell_type": "code",
   "execution_count": 18,
   "metadata": {},
   "outputs": [
    {
     "name": "stdout",
     "output_type": "stream",
     "text": [
      "best alpha: 0.008668511500530142\n",
      "best rmse: 7.724038425264214\n"
     ]
    }
   ],
   "source": [
    "#2. Use the Training Set for n-Fold Cross Validation\n",
    "\n",
    "best_rmse_test = inf\n",
    "rmse_train = []\n",
    "rmse_test = []\n",
    "alphas = 2**np.arange(-2, -10, -.05)\n",
    "for alpha in alphas:\n",
    "    TRUTH_TRAIN = None\n",
    "    TRUTH_TEST = None\n",
    "    PREDS_TRAIN = None\n",
    "    PREDS_TEST = None\n",
    "    for train_index, test_index in kf.split(X_TRAIN):\n",
    "        X_train, X_test = X_TRAIN[train_index, :], X_TRAIN[test_index, :]\n",
    "        y_train, y_test = y_TRAIN[train_index], y_TRAIN[test_index]\n",
    "        ridge = Ridge(alpha=alpha, max_iter=100000).fit(X_train, y_train)\n",
    "        preds_tr=ridge.predict(X_train)\n",
    "        preds_te=ridge.predict(X_test)\n",
    "        if TRUTH_TRAIN is None:\n",
    "            PREDS_TRAIN = preds_tr\n",
    "            PREDS_TEST = preds_te\n",
    "            TRUTH_TRAIN = y_train\n",
    "            TRUTH_TEST = y_test\n",
    "        else:\n",
    "            PREDS_TRAIN = np.hstack((PREDS_TRAIN, preds_tr))\n",
    "            PREDS_TEST = np.hstack((PREDS_TEST, preds_te))\n",
    "            TRUTH_TRAIN = np.hstack((TRUTH_TRAIN, y_train))\n",
    "            TRUTH_TEST = np.hstack((TRUTH_TEST, y_test))\n",
    "    #3. evaluate the resulting model with rmse\n",
    "    rmse_train.append(mean_squared_error(TRUTH_TRAIN, PREDS_TRAIN, squared=False))\n",
    "    rmse_test.append(mean_squared_error(TRUTH_TEST, PREDS_TEST, squared=False))\n",
    "    if mean_squared_error(TRUTH_TEST, PREDS_TEST, squared=False) < best_rmse_test:\n",
    "        best_rmse_test = mean_squared_error(TRUTH_TEST, PREDS_TEST, squared=False)\n",
    "        best_alpha = alpha\n",
    "print(\"best alpha:\", best_alpha)\n",
    "print(\"best rmse:\", best_rmse_test)"
   ]
  },
  {
   "cell_type": "code",
   "execution_count": 19,
   "metadata": {},
   "outputs": [
    {
     "data": {
      "image/png": "[encoded data removed]",
      "text/plain": [
       "<Figure size 432x288 with 1 Axes>"
      ]
     },
     "metadata": {
      "needs_background": "light"
     },
     "output_type": "display_data"
    }
   ],
   "source": [
    "plt.plot(alphas, rmse_train, label=\"rmse Train\")    \n",
    "plt.plot(alphas, rmse_test, label=\"rmse Test\")    \n",
    "plt.grid()\n",
    "plt.legend()\n",
    "plt.show()"
   ]
  },
  {
   "cell_type": "code",
   "execution_count": 20,
   "metadata": {},
   "outputs": [
    {
     "data": {
      "image/png": "[encoded data removed]",
      "text/plain": [
       "<Figure size 720x504 with 1 Axes>"
      ]
     },
     "metadata": {
      "needs_background": "light"
     },
     "output_type": "display_data"
    }
   ],
   "source": [
    "#compute coefficients for many alpha values\n",
    "coefs=[]\n",
    "alphas=2**np.arange(5,-10,-.1)\n",
    "for alpha in alphas:\n",
    "    ridge= Ridge(alpha=alpha, max_iter=100000).fit(X_TRAIN, y_TRAIN)\n",
    "    coefs.append(ridge.coef_)\n",
    "coefs=np.array(coefs)\n",
    "\n",
    "#plot results\n",
    "N,M=X_TRAIN.shape\n",
    "plt.figure(figsize=(10,7))\n",
    "for i in range(M):\n",
    "    plt.plot(alphas, coefs[:,i], label=\"Var %d\" % (i+1))\n",
    "plt.axvline(x = best_alpha, color = 'b', label = 'best Alpha')\n",
    "plt.xscale(\"log\")\n",
    "plt.legend(loc='upper right')\n",
    "plt.grid()\n",
    "plt.show()"
   ]
  },
  {
   "cell_type": "markdown",
   "metadata": {},
   "source": [
    "### Lasso Regression"
   ]
  },
  {
   "cell_type": "code",
   "execution_count": 21,
   "metadata": {},
   "outputs": [
    {
     "name": "stdout",
     "output_type": "stream",
     "text": [
      "best alpha: 0.0010110009021888657\n",
      "best rmse: 7.731844331098596\n"
     ]
    }
   ],
   "source": [
    "#2. Use the Training Set for n-Fold Cross Validation\n",
    "\n",
    "best_rmse_test = inf\n",
    "rmse_train = []\n",
    "rmse_test = []\n",
    "alphas = 2**np.arange(-2, -10, -.05)\n",
    "for alpha in alphas:\n",
    "    TRUTH_TRAIN = None\n",
    "    TRUTH_TEST = None\n",
    "    PREDS_TRAIN = None\n",
    "    PREDS_TEST = None\n",
    "    for train_index, test_index in kf.split(X_TRAIN):\n",
    "        X_train, X_test = X_TRAIN[train_index, :], X_TRAIN[test_index, :]\n",
    "        y_train, y_test = y_TRAIN[train_index], y_TRAIN[test_index]\n",
    "        L = Lasso(alpha=alpha, max_iter=100000).fit(X_train, y_train)\n",
    "        preds_tr=L.predict(X_train)\n",
    "        preds_te=L.predict(X_test)\n",
    "        if TRUTH_TRAIN is None:\n",
    "            PREDS_TRAIN = preds_tr\n",
    "            PREDS_TEST = preds_te\n",
    "            TRUTH_TRAIN = y_train\n",
    "            TRUTH_TEST = y_test\n",
    "        else:\n",
    "            PREDS_TRAIN = np.hstack((PREDS_TRAIN, preds_tr))\n",
    "            PREDS_TEST = np.hstack((PREDS_TEST, preds_te))\n",
    "            TRUTH_TRAIN = np.hstack((TRUTH_TRAIN, y_train))\n",
    "            TRUTH_TEST = np.hstack((TRUTH_TEST, y_test))\n",
    "    #3. evaluate the resulting model with rmse\n",
    "    rmse_train.append(mean_squared_error(TRUTH_TRAIN, PREDS_TRAIN, squared=False))\n",
    "    rmse_test.append(mean_squared_error(TRUTH_TEST, PREDS_TEST, squared=False))\n",
    "    if mean_squared_error(TRUTH_TEST, PREDS_TEST, squared=False) < best_rmse_test:\n",
    "        best_rmse_test = mean_squared_error(TRUTH_TEST, PREDS_TEST, squared=False)\n",
    "        best_alpha = alpha\n",
    "print(\"best alpha:\", best_alpha)\n",
    "print(\"best rmse:\", best_rmse_test)"
   ]
  },
  {
   "cell_type": "code",
   "execution_count": 22,
   "metadata": {},
   "outputs": [
    {
     "data": {
      "image/png": "[encoded data removed]",
      "text/plain": [
       "<Figure size 432x288 with 1 Axes>"
      ]
     },
     "metadata": {
      "needs_background": "light"
     },
     "output_type": "display_data"
    }
   ],
   "source": [
    "plt.plot(alphas, rmse_train, label=\"rmse Train\")    \n",
    "plt.plot(alphas, rmse_test, label=\"rmse Test\")  \n",
    "plt.grid()\n",
    "plt.xlim(0,0.1)\n",
    "plt.legend()\n",
    "plt.show()"
   ]
  },
  {
   "cell_type": "code",
   "execution_count": 23,
   "metadata": {},
   "outputs": [
    {
     "data": {
      "image/png": "[encoded data removed]",
      "text/plain": [
       "<Figure size 720x504 with 1 Axes>"
      ]
     },
     "metadata": {
      "needs_background": "light"
     },
     "output_type": "display_data"
    }
   ],
   "source": [
    "#compute coefficients for many alpha values\n",
    "coefs=[]\n",
    "alphas=2**np.arange(5,-10,-.1)\n",
    "for alpha in alphas:\n",
    "    L= Lasso(alpha=alpha, max_iter=100000).fit(X_TRAIN, y_TRAIN)\n",
    "    coefs.append(L.coef_)\n",
    "coefs=np.array(coefs)\n",
    "\n",
    "#plot results\n",
    "N,M=X_TRAIN.shape\n",
    "plt.figure(figsize=(10,7))\n",
    "for i in range(M):\n",
    "    plt.plot(alphas, coefs[:,i], label=\"Var %d\" % (i+1))\n",
    "plt.axvline(x = best_alpha, color = 'b', label = 'best Alpha')\n",
    "plt.xscale(\"log\")\n",
    "plt.legend(loc='upper right')\n",
    "plt.grid()\n",
    "plt.show()"
   ]
  },
  {
   "cell_type": "markdown",
   "metadata": {},
   "source": [
    "### Model Validation"
   ]
  },
  {
   "cell_type": "code",
   "execution_count": 24,
   "metadata": {
    "scrolled": true
   },
   "outputs": [
    {
     "data": {
      "text/plain": [
       "Ridge(alpha=0.008668511500530142, max_iter=100000)"
      ]
     },
     "execution_count": 24,
     "metadata": {},
     "output_type": "execute_result"
    }
   ],
   "source": [
    "#4. Fit a new model with all the Training Set Data using the selected model\n",
    "model = Ridge(alpha=0.008668511500530142, max_iter=100000)\n",
    "model.fit(X_TRAIN, y_TRAIN)"
   ]
  },
  {
   "cell_type": "code",
   "execution_count": 25,
   "metadata": {},
   "outputs": [],
   "source": [
    "#5. Use the IVS to assess the  model quality\n",
    "ivs_preds = model.predict(X_IVS)"
   ]
  },
  {
   "cell_type": "code",
   "execution_count": 26,
   "metadata": {},
   "outputs": [],
   "source": [
    "def printRegStatistics(truth, preds):\n",
    "    print(\"The RVE is: \", explained_variance_score(truth, preds))\n",
    "    print(\"The rmse is: \", mean_squared_error(truth, preds, squared=False))\n",
    "    corr, pval = pearsonr(truth, preds)\n",
    "    print(\"The Correlation Score is is: %6.4f (p-value=%e)\\n\"%(corr,pval))\n",
    "    print(\"The Maximum Error is is: \", max_error(truth, preds))\n",
    "    print(\"The Mean Absolute Error is: \", mean_absolute_error(truth, preds))"
   ]
  },
  {
   "cell_type": "code",
   "execution_count": 27,
   "metadata": {},
   "outputs": [
    {
     "name": "stdout",
     "output_type": "stream",
     "text": [
      "These are the testing set statistics:\n",
      "The RVE is:  0.10082289301363301\n",
      "The rmse is:  7.754671500165321\n",
      "The Correlation Score is is: 0.3182 (p-value=6.538159e-36)\n",
      "\n",
      "The Maximum Error is is:  19.09144291185206\n",
      "The Mean Absolute Error is:  6.573919178000186\n"
     ]
    }
   ],
   "source": [
    "print(\"These are the testing set statistics:\")\n",
    "printRegStatistics(y_IVS, ivs_preds)"
   ]
  },
  {
   "cell_type": "markdown",
   "metadata": {},
   "source": [
    "# Classification"
   ]
  },
  {
   "cell_type": "code",
   "execution_count": 28,
   "metadata": {},
   "outputs": [],
   "source": [
    "#1.First separate the dataset into a Training Set and an Independent Validation Set (IVS).\n",
    "X_TRAIN, X_IVS, y_TRAIN, y_IVS = train_test_split(X.values, Yc, test_size=0.25, random_state=123)"
   ]
  },
  {
   "cell_type": "code",
   "execution_count": 29,
   "metadata": {},
   "outputs": [
    {
     "name": "stdout",
     "output_type": "stream",
     "text": [
      "The best decision tree has parameters: {'ccp_alpha': 0.0, 'class_weight': None, 'criterion': 'entropy', 'max_depth': 7, 'max_features': None, 'max_leaf_nodes': None, 'min_impurity_decrease': 0.0, 'min_samples_leaf': 1, 'min_samples_split': 6, 'min_weight_fraction_leaf': 0.0, 'random_state': None, 'splitter': 'best'} and MCC: 0.17722420043010914\n"
     ]
    }
   ],
   "source": [
    "#2. Use the Training Set for n-Fold Cross Validation\n",
    "\n",
    "kf = KFold(n_splits=5, shuffle=True, random_state = 1)\n",
    "best_mcc_dt = 0\n",
    "for c in [\"gini\", \"entropy\"]:\n",
    "    for md in range(1,10):\n",
    "        for mss in range(2,10):\n",
    "            for msl in range(1,5):\n",
    "                TRUTH=None\n",
    "                PREDS=None\n",
    "                for train_index, test_index in kf.split(X_TRAIN):\n",
    "                    X_train, X_test = X_TRAIN[train_index, :], X_TRAIN[test_index, :]\n",
    "                    y_train, y_test = y_TRAIN[train_index], y_TRAIN[test_index]\n",
    "                    model = tree.DecisionTreeClassifier(criterion = c, max_depth = md, min_samples_split = mss, min_samples_leaf = msl)\n",
    "                    model.fit(X_train, y_train)\n",
    "                    preds = model.predict(X_test)\n",
    "                    if TRUTH is None:\n",
    "                        PREDS=preds\n",
    "                        TRUTH=y_test\n",
    "                    else:\n",
    "                        PREDS=np.hstack((PREDS, preds))\n",
    "                        TRUTH=np.hstack((TRUTH, y_test))\n",
    "                #3. evaluate the resulting model with mcc\n",
    "                mcc = matthews_corrcoef(TRUTH, PREDS)\n",
    "                if mcc > best_mcc_dt:\n",
    "                    best_mcc_dt = mcc\n",
    "                    best_dt = model\n",
    "\n",
    "print(\"The best decision tree has parameters:\", best_dt.get_params(), \"and MCC:\", best_mcc_dt)"
   ]
  },
  {
   "cell_type": "code",
   "execution_count": 30,
   "metadata": {},
   "outputs": [
    {
     "name": "stdout",
     "output_type": "stream",
     "text": [
      "MCC for logistic regression: 0.0\n"
     ]
    }
   ],
   "source": [
    "TRUTH=None\n",
    "PREDS=None\n",
    "for train_index, test_index in kf.split(X_TRAIN):\n",
    "    X_train, X_test = X_TRAIN[train_index, :], X_TRAIN[test_index, :]\n",
    "    y_train, y_test = y_TRAIN[train_index], y_TRAIN[test_index]\n",
    "    model = LogisticRegression(max_iter = 1000)\n",
    "    model.fit(X_train, y_train)\n",
    "    preds = model.predict(X_test)\n",
    "    if TRUTH is None:\n",
    "        PREDS=preds\n",
    "        TRUTH=y_test\n",
    "    else:\n",
    "        PREDS=np.hstack((PREDS, preds))\n",
    "        TRUTH=np.hstack((TRUTH, y_test))\n",
    "mcc = matthews_corrcoef(TRUTH, PREDS)\n",
    "print(\"MCC for logistic regression:\", mcc)"
   ]
  },
  {
   "cell_type": "code",
   "execution_count": 31,
   "metadata": {
    "scrolled": true
   },
   "outputs": [
    {
     "data": {
      "text/plain": [
       "DecisionTreeClassifier(criterion='entropy', max_depth=7, min_samples_split=6)"
      ]
     },
     "execution_count": 31,
     "metadata": {},
     "output_type": "execute_result"
    }
   ],
   "source": [
    "#4. Fit a new model with all the Training Set Data using the selected model\n",
    "model = best_dt\n",
    "model.fit(X_TRAIN, y_TRAIN)"
   ]
  },
  {
   "cell_type": "code",
   "execution_count": 32,
   "metadata": {},
   "outputs": [],
   "source": [
    "#5. Use the IVS to assess the  model quality\n",
    "ivs_preds = model.predict(X_IVS)"
   ]
  },
  {
   "cell_type": "code",
   "execution_count": 33,
   "metadata": {},
   "outputs": [
    {
     "name": "stdout",
     "output_type": "stream",
     "text": [
      "These are the testing set statistics:\n",
      "The Precision is:  0.5370\n",
      "The Recall is:  0.1094\n",
      "The F1 score is:  0.1818\n",
      "The Matthews correlation coefficient is:  0.1812\n"
     ]
    }
   ],
   "source": [
    "print(\"These are the testing set statistics:\")\n",
    "print(\"The Precision is: %7.4f\" % precision_score(y_IVS, ivs_preds))\n",
    "print(\"The Recall is: %7.4f\" % recall_score(y_IVS, ivs_preds))\n",
    "print(\"The F1 score is: %7.4f\" % f1_score(y_IVS, ivs_preds))\n",
    "print(\"The Matthews correlation coefficient is: %7.4f\" % matthews_corrcoef(y_IVS, ivs_preds))"
   ]
  },
  {
   "cell_type": "code",
   "execution_count": 34,
   "metadata": {},
   "outputs": [
    {
     "name": "stdout",
     "output_type": "stream",
     "text": [
      "This is the Confusion Matrix\n"
     ]
    },
    {
     "data": {
      "image/png": "[encoded data removed]",
      "text/plain": [
       "<Figure size 432x288 with 2 Axes>"
      ]
     },
     "metadata": {
      "needs_background": "light"
     },
     "output_type": "display_data"
    }
   ],
   "source": [
    "print(\"This is the Confusion Matrix\")\n",
    "cm = confusion_matrix(y_IVS, ivs_preds)\n",
    "cm_display = ConfusionMatrixDisplay(confusion_matrix = cm, display_labels = [False, True])\n",
    "cm_display.plot()\n",
    "plt.show()"
   ]
  }
 ],
 "metadata": {
  "kernelspec": {
   "display_name": "Python 3 (ipykernel)",
   "language": "python",
   "name": "python3"
  },
  "language_info": {
   "codemirror_mode": {
    "name": "ipython",
    "version": 3
   },
   "file_extension": ".py",
   "mimetype": "text/x-python",
   "name": "python",
   "nbconvert_exporter": "python",
   "pygments_lexer": "ipython3",
   "version": "3.9.12"
  }
 },
 "nbformat": 4,
 "nbformat_minor": 4
}
