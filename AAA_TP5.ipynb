{
 "cells": [
  {
   "cell_type": "markdown",
   "id": "9876f71f",
   "metadata": {},
   "source": [
    "# Aprendizagem Automática Avançada - Assignment 5\n",
    "# Cláudia Afonso nº 36273 & Rita Rodrigues nº 54859"
   ]
  },
  {
   "cell_type": "markdown",
   "id": "ccc8d4d6",
   "metadata": {},
   "source": [
    "## Problem 1"
   ]
  },
  {
   "cell_type": "markdown",
   "id": "725e0a49",
   "metadata": {},
   "source": [
    "**Given the bayesian network provided in Figure 1, calculate the following queries:**"
   ]
  },
  {
   "cell_type": "code",
   "execution_count": 18,
   "id": "712a6878",
   "metadata": {},
   "outputs": [],
   "source": [
    "from pomegranate import *"
   ]
  },
  {
   "cell_type": "code",
   "execution_count": 19,
   "id": "eb0c2a46",
   "metadata": {},
   "outputs": [],
   "source": [
    "# Probability of A\n",
    "a_table = DiscreteDistribution({'T': 0.3, 'F': 0.7})"
   ]
  },
  {
   "cell_type": "code",
   "execution_count": 20,
   "id": "bfbe0871",
   "metadata": {},
   "outputs": [],
   "source": [
    "# Probability of B given A\n",
    "b_table = ConditionalProbabilityTable(\n",
    "        [['F', 'T', 0.40],\n",
    "         ['F', 'F', 0.60],\n",
    "         ['T', 'T', 0.80], \n",
    "         ['T', 'F', 0.20]], [a_table])"
   ]
  },
  {
   "cell_type": "code",
   "execution_count": 21,
   "id": "71e471b7",
   "metadata": {},
   "outputs": [],
   "source": [
    "# Probability of D given B\n",
    "d_table = ConditionalProbabilityTable(\n",
    "        [['F', 'T', 0.55],\n",
    "         ['F', 'F', 0.45],\n",
    "         ['T', 'T', 0.20], \n",
    "         ['T', 'F', 0.80]], [b_table])"
   ]
  },
  {
   "cell_type": "code",
   "execution_count": 22,
   "id": "b470c050",
   "metadata": {},
   "outputs": [],
   "source": [
    "# Probability of C given A and B\n",
    "c_table = ConditionalProbabilityTable(\n",
    "        [['F','F','T', 0.10],\n",
    "         ['F','F','F', 0.90],\n",
    "         ['F', 'T', 'T', 0.70],\n",
    "         ['F', 'T', 'F', 0.30],\n",
    "         ['T', 'F', 'T', 0.50],\n",
    "         ['T', 'F', 'F', 0.50],\n",
    "         ['T', 'T', 'T', 0.99],\n",
    "         ['T', 'T', 'F', 0.01]], [a_table, b_table])"
   ]
  },
  {
   "cell_type": "code",
   "execution_count": 23,
   "id": "77300179",
   "metadata": {},
   "outputs": [],
   "source": [
    "# Construct the network\n",
    "a_node = Node(a_table, name = 'A')\n",
    "b_node = Node(b_table, name = 'B')\n",
    "c_node = Node(c_table, name = 'C')\n",
    "d_node = Node(d_table, name = 'D')"
   ]
  },
  {
   "cell_type": "code",
   "execution_count": 24,
   "id": "7810c945",
   "metadata": {},
   "outputs": [],
   "source": [
    "model = BayesianNetwork()\n",
    "model.add_states(a_node, b_node, c_node, d_node)\n",
    "model.add_edge(a_node, b_node)\n",
    "model.add_edge(a_node, c_node)\n",
    "model.add_edge(b_node, c_node)\n",
    "model.add_edge(b_node, d_node)\n",
    "model.bake()"
   ]
  },
  {
   "cell_type": "markdown",
   "id": "3c78b402",
   "metadata": {},
   "source": [
    "**a) P (A = T | C = T, D = T)**"
   ]
  },
  {
   "cell_type": "code",
   "execution_count": 25,
   "id": "302f3936",
   "metadata": {},
   "outputs": [
    {
     "data": {
      "text/plain": [
       "array([{\n",
       "           \"class\" : \"Distribution\",\n",
       "           \"dtype\" : \"str\",\n",
       "           \"name\" : \"DiscreteDistribution\",\n",
       "           \"parameters\" : [\n",
       "               {\n",
       "                   \"T\" : 0.5054138717420109,\n",
       "                   \"F\" : 0.49458612825798914\n",
       "               }\n",
       "           ],\n",
       "           \"frozen\" : false\n",
       "       }                                    ,\n",
       "       {\n",
       "           \"class\" : \"Distribution\",\n",
       "           \"dtype\" : \"str\",\n",
       "           \"name\" : \"DiscreteDistribution\",\n",
       "           \"parameters\" : [\n",
       "               {\n",
       "                   \"F\" : 0.3516850950686168,\n",
       "                   \"T\" : 0.6483149049313832\n",
       "               }\n",
       "           ],\n",
       "           \"frozen\" : false\n",
       "       }                                    , 'T', 'T'], dtype=object)"
      ]
     },
     "execution_count": 25,
     "metadata": {},
     "output_type": "execute_result"
    }
   ],
   "source": [
    "# P(A=T|C=T, D=T) = 0.505\n",
    "model.predict_proba({'C':'T', 'D':'T'})\n",
    "# alternative: model.predict_proba([[None, None, 'T', 'T']])"
   ]
  },
  {
   "cell_type": "markdown",
   "id": "4a871b7e",
   "metadata": {},
   "source": [
    "The probability of A being true, given that C and D are true, is approximately 50.5%."
   ]
  },
  {
   "cell_type": "markdown",
   "id": "7dfcd5b4",
   "metadata": {},
   "source": [
    "**b) P (A = T | D = F)**"
   ]
  },
  {
   "cell_type": "code",
   "execution_count": 29,
   "id": "5620a01c",
   "metadata": {},
   "outputs": [
    {
     "data": {
      "text/plain": [
       "array([{\n",
       "           \"class\" : \"Distribution\",\n",
       "           \"dtype\" : \"str\",\n",
       "           \"name\" : \"DiscreteDistribution\",\n",
       "           \"parameters\" : [\n",
       "               {\n",
       "                   \"T\" : 0.34651898734177244,\n",
       "                   \"F\" : 0.6534810126582277\n",
       "               }\n",
       "           ],\n",
       "           \"frozen\" : false\n",
       "       }                                     ,\n",
       "       {\n",
       "           \"class\" : \"Distribution\",\n",
       "           \"dtype\" : \"str\",\n",
       "           \"name\" : \"DiscreteDistribution\",\n",
       "           \"parameters\" : [\n",
       "               {\n",
       "                   \"F\" : 0.34177215189873406,\n",
       "                   \"T\" : 0.6582278481012659\n",
       "               }\n",
       "           ],\n",
       "           \"frozen\" : false\n",
       "       }                                     ,\n",
       "       {\n",
       "           \"class\" : \"Distribution\",\n",
       "           \"dtype\" : \"str\",\n",
       "           \"name\" : \"DiscreteDistribution\",\n",
       "           \"parameters\" : [\n",
       "               {\n",
       "                   \"F\" : 0.3915454254125941,\n",
       "                   \"T\" : 0.6084545745874058\n",
       "               }\n",
       "           ],\n",
       "           \"frozen\" : false\n",
       "       }                                    , 'F'], dtype=object)"
      ]
     },
     "execution_count": 29,
     "metadata": {},
     "output_type": "execute_result"
    }
   ],
   "source": [
    "# P(A=T|D=F)\n",
    "model.predict_proba({'D':'F'})\n",
    "# alternative: model.predict_proba([[None, None, None, 'F']])"
   ]
  },
  {
   "cell_type": "markdown",
   "id": "38f078ce",
   "metadata": {},
   "source": [
    "The probability of A being true, given that D is false, is approximately 34.7%"
   ]
  },
  {
   "cell_type": "markdown",
   "id": "95627b3d",
   "metadata": {},
   "source": [
    "**c) P (B = T | C = T)**"
   ]
  },
  {
   "cell_type": "code",
   "execution_count": 30,
   "id": "9a6f11c2",
   "metadata": {},
   "outputs": [
    {
     "data": {
      "text/plain": [
       "array([{\n",
       "           \"class\" : \"Distribution\",\n",
       "           \"dtype\" : \"str\",\n",
       "           \"name\" : \"DiscreteDistribution\",\n",
       "           \"parameters\" : [\n",
       "               {\n",
       "                   \"T\" : 0.5253830090147861,\n",
       "                   \"F\" : 0.4746169909852139\n",
       "               }\n",
       "           ],\n",
       "           \"frozen\" : false\n",
       "       }                                    ,\n",
       "       {\n",
       "           \"class\" : \"Distribution\",\n",
       "           \"dtype\" : \"str\",\n",
       "           \"name\" : \"DiscreteDistribution\",\n",
       "           \"parameters\" : [\n",
       "               {\n",
       "                   \"F\" : 0.1899156736574448,\n",
       "                   \"T\" : 0.8100843263425553\n",
       "               }\n",
       "           ],\n",
       "           \"frozen\" : false\n",
       "       }                                    , 'T',\n",
       "       {\n",
       "           \"class\" : \"Distribution\",\n",
       "           \"dtype\" : \"str\",\n",
       "           \"name\" : \"DiscreteDistribution\",\n",
       "           \"parameters\" : [\n",
       "               {\n",
       "                   \"F\" : 0.7335295142199177,\n",
       "                   \"T\" : 0.2664704857800823\n",
       "               }\n",
       "           ],\n",
       "           \"frozen\" : false\n",
       "       }                                    ], dtype=object)"
      ]
     },
     "execution_count": 30,
     "metadata": {},
     "output_type": "execute_result"
    }
   ],
   "source": [
    "# P(B=T|C=T)\n",
    "model.predict_proba({'C':'T'})\n",
    "# alternative: model.predict_proba([[None, None, 'T', None]])"
   ]
  },
  {
   "cell_type": "markdown",
   "id": "93274d64",
   "metadata": {},
   "source": [
    "The probability of B being true, given that C is true, is approximately 81%"
   ]
  },
  {
   "cell_type": "markdown",
   "id": "cc371d54",
   "metadata": {},
   "source": [
    "**d) P (B = T | A = T, C = T)**"
   ]
  },
  {
   "cell_type": "code",
   "execution_count": 32,
   "id": "a279ea07",
   "metadata": {},
   "outputs": [
    {
     "data": {
      "text/plain": [
       "array(['T', {\n",
       "                \"class\" : \"Distribution\",\n",
       "                \"dtype\" : \"str\",\n",
       "                \"name\" : \"DiscreteDistribution\",\n",
       "                \"parameters\" : [\n",
       "                    {\n",
       "                        \"F\" : 0.11210762331838604,\n",
       "                        \"T\" : 0.8878923766816139\n",
       "                    }\n",
       "                ],\n",
       "                \"frozen\" : false\n",
       "            }                                     , 'T',\n",
       "       {\n",
       "           \"class\" : \"Distribution\",\n",
       "           \"dtype\" : \"str\",\n",
       "           \"name\" : \"DiscreteDistribution\",\n",
       "           \"parameters\" : [\n",
       "               {\n",
       "                   \"F\" : 0.7607623318385648,\n",
       "                   \"T\" : 0.23923766816143516\n",
       "               }\n",
       "           ],\n",
       "           \"frozen\" : false\n",
       "       }                                    ], dtype=object)"
      ]
     },
     "execution_count": 32,
     "metadata": {},
     "output_type": "execute_result"
    }
   ],
   "source": [
    "# P(B=T|A=T, C=T)\n",
    "model.predict_proba({'A':'T', 'C':'T'})\n",
    "# alternative: model.predict_proba([[T, None, 'T', None]])"
   ]
  },
  {
   "cell_type": "markdown",
   "id": "49d368de",
   "metadata": {},
   "source": [
    "The probability of B being true, given that A and C are true, is approximately 88.8%."
   ]
  },
  {
   "cell_type": "markdown",
   "id": "97dce78c",
   "metadata": {},
   "source": [
    "**e) P (C = T | A = F, B = F, D = F)**"
   ]
  },
  {
   "cell_type": "code",
   "execution_count": 33,
   "id": "23f6b0c6",
   "metadata": {},
   "outputs": [
    {
     "data": {
      "text/plain": [
       "array(['F', 'F', {\n",
       "                     \"class\" : \"Distribution\",\n",
       "                     \"dtype\" : \"str\",\n",
       "                     \"name\" : \"DiscreteDistribution\",\n",
       "                     \"parameters\" : [\n",
       "                         {\n",
       "                             \"F\" : 0.8999999999999999,\n",
       "                             \"T\" : 0.10000000000000016\n",
       "                         }\n",
       "                     ],\n",
       "                     \"frozen\" : false\n",
       "                 }                                    , 'F'], dtype=object)"
      ]
     },
     "execution_count": 33,
     "metadata": {},
     "output_type": "execute_result"
    }
   ],
   "source": [
    "# P(C=T|A=F, B=F, D=F)\n",
    "model.predict_proba({'A':'F', 'B':'F', 'D':'F'})\n",
    "# alternative: model.predict_proba([['F', 'F', None, 'F']])"
   ]
  },
  {
   "cell_type": "markdown",
   "id": "79cc1627",
   "metadata": {},
   "source": [
    "The probability of C being true, given that A, B and D are false, is approximately 10.0%."
   ]
  },
  {
   "cell_type": "markdown",
   "id": "f480b9e3",
   "metadata": {},
   "source": [
    "## Problem 2"
   ]
  },
  {
   "cell_type": "markdown",
   "id": "7fc3797c",
   "metadata": {},
   "source": [
    "The following code uses the scikit-learn library to explore the performance of two different classifiers, Naive Bayes and Random Forest, on the breast cancer dataset.\n",
    "\n",
    "For Naive Bayes, we explore the effect of different prior probabilities on the model's performance. Specifically, we define three different sets of prior probabilities: [0.3, 0.7], [0.5, 0.5], and [0.7, 0.3]. These prior probabilities represent different levels of belief or uncertainty about the two classes.\n",
    "\n",
    "For Random Forest, we explore the effect of different combinations of the n_estimators and max_depth parameters. The n_estimators parameter controls the number of decision trees that are generated by the Random Forest algorithm. We explore three values for this parameter: 50, 100, and 150. The max_depth parameter controls the maximum depth of each decision tree in the Random Forest. We explore three values for this parameter: 3, 5, and 7. \n",
    "\n",
    "By exploring these different parameter combinations, we can gain insight into how the Naive Bayes and Random Forest classifiers perform on the breast cancer dataset, and which parameter values lead to the most accurate predictions."
   ]
  },
  {
   "cell_type": "code",
   "execution_count": 7,
   "id": "66a012f6",
   "metadata": {},
   "outputs": [
    {
     "data": {
      "text/html": [
       "<div>\n",
       "<style scoped>\n",
       "    .dataframe tbody tr th:only-of-type {\n",
       "        vertical-align: middle;\n",
       "    }\n",
       "\n",
       "    .dataframe tbody tr th {\n",
       "        vertical-align: top;\n",
       "    }\n",
       "\n",
       "    .dataframe thead th {\n",
       "        text-align: right;\n",
       "    }\n",
       "</style>\n",
       "<table border=\"1\" class=\"dataframe\">\n",
       "  <thead>\n",
       "    <tr style=\"text-align: right;\">\n",
       "      <th></th>\n",
       "      <th>Classifier</th>\n",
       "      <th>Parameters</th>\n",
       "      <th>Accuracy</th>\n",
       "    </tr>\n",
       "  </thead>\n",
       "  <tbody>\n",
       "    <tr>\n",
       "      <th>0</th>\n",
       "      <td>Naive Bayes</td>\n",
       "      <td>Priors=[0.3, 0.7]</td>\n",
       "      <td>0.964912</td>\n",
       "    </tr>\n",
       "    <tr>\n",
       "      <th>0</th>\n",
       "      <td>Naive Bayes</td>\n",
       "      <td>Priors=[0.5, 0.5]</td>\n",
       "      <td>0.973684</td>\n",
       "    </tr>\n",
       "    <tr>\n",
       "      <th>0</th>\n",
       "      <td>Naive Bayes</td>\n",
       "      <td>Priors=[0.7, 0.3]</td>\n",
       "      <td>0.964912</td>\n",
       "    </tr>\n",
       "    <tr>\n",
       "      <th>0</th>\n",
       "      <td>Random Forest</td>\n",
       "      <td>n_estimators=50, max_depth=3</td>\n",
       "      <td>0.964912</td>\n",
       "    </tr>\n",
       "    <tr>\n",
       "      <th>0</th>\n",
       "      <td>Random Forest</td>\n",
       "      <td>n_estimators=50, max_depth=5</td>\n",
       "      <td>0.964912</td>\n",
       "    </tr>\n",
       "    <tr>\n",
       "      <th>0</th>\n",
       "      <td>Random Forest</td>\n",
       "      <td>n_estimators=50, max_depth=7</td>\n",
       "      <td>0.964912</td>\n",
       "    </tr>\n",
       "    <tr>\n",
       "      <th>0</th>\n",
       "      <td>Random Forest</td>\n",
       "      <td>n_estimators=100, max_depth=3</td>\n",
       "      <td>0.964912</td>\n",
       "    </tr>\n",
       "    <tr>\n",
       "      <th>0</th>\n",
       "      <td>Random Forest</td>\n",
       "      <td>n_estimators=100, max_depth=5</td>\n",
       "      <td>0.964912</td>\n",
       "    </tr>\n",
       "    <tr>\n",
       "      <th>0</th>\n",
       "      <td>Random Forest</td>\n",
       "      <td>n_estimators=100, max_depth=7</td>\n",
       "      <td>0.964912</td>\n",
       "    </tr>\n",
       "    <tr>\n",
       "      <th>0</th>\n",
       "      <td>Random Forest</td>\n",
       "      <td>n_estimators=150, max_depth=3</td>\n",
       "      <td>0.964912</td>\n",
       "    </tr>\n",
       "    <tr>\n",
       "      <th>0</th>\n",
       "      <td>Random Forest</td>\n",
       "      <td>n_estimators=150, max_depth=5</td>\n",
       "      <td>0.964912</td>\n",
       "    </tr>\n",
       "    <tr>\n",
       "      <th>0</th>\n",
       "      <td>Random Forest</td>\n",
       "      <td>n_estimators=150, max_depth=7</td>\n",
       "      <td>0.964912</td>\n",
       "    </tr>\n",
       "  </tbody>\n",
       "</table>\n",
       "</div>"
      ],
      "text/plain": [
       "      Classifier                     Parameters  Accuracy\n",
       "0    Naive Bayes              Priors=[0.3, 0.7]  0.964912\n",
       "0    Naive Bayes              Priors=[0.5, 0.5]  0.973684\n",
       "0    Naive Bayes              Priors=[0.7, 0.3]  0.964912\n",
       "0  Random Forest   n_estimators=50, max_depth=3  0.964912\n",
       "0  Random Forest   n_estimators=50, max_depth=5  0.964912\n",
       "0  Random Forest   n_estimators=50, max_depth=7  0.964912\n",
       "0  Random Forest  n_estimators=100, max_depth=3  0.964912\n",
       "0  Random Forest  n_estimators=100, max_depth=5  0.964912\n",
       "0  Random Forest  n_estimators=100, max_depth=7  0.964912\n",
       "0  Random Forest  n_estimators=150, max_depth=3  0.964912\n",
       "0  Random Forest  n_estimators=150, max_depth=5  0.964912\n",
       "0  Random Forest  n_estimators=150, max_depth=7  0.964912"
      ]
     },
     "execution_count": 7,
     "metadata": {},
     "output_type": "execute_result"
    }
   ],
   "source": [
    "import pandas as pd\n",
    "from sklearn.datasets import load_breast_cancer\n",
    "from sklearn.model_selection import train_test_split\n",
    "from sklearn.naive_bayes import GaussianNB\n",
    "from sklearn.ensemble import RandomForestClassifier\n",
    "from sklearn.metrics import accuracy_score\n",
    "\n",
    "# Load the breast cancer dataset\n",
    "data = load_breast_cancer()\n",
    "X = data.data\n",
    "y = data.target\n",
    "\n",
    "# Split the dataset into training and testing sets\n",
    "X_train, X_test, y_train, y_test = train_test_split(X, y, test_size=0.2, random_state=42)\n",
    "\n",
    "# Define the parameter values to explore\n",
    "nb_priors = [[0.3, 0.7], [0.5, 0.5], [0.7, 0.3]]\n",
    "rf_estimators = [50, 100, 150]\n",
    "rf_max_depth = [3, 5, 7]\n",
    "\n",
    "# Create an empty DataFrame to store the results\n",
    "results_df = pd.DataFrame(columns=[\"Classifier\", \"Parameters\", \"Accuracy\"])\n",
    "\n",
    "# Naive Bayes\n",
    "for priors in nb_priors:\n",
    "    gnb = GaussianNB(priors=priors)\n",
    "    gnb.fit(X_train, y_train)\n",
    "    y_pred_gnb = gnb.predict(X_test)\n",
    "    acc_gnb = accuracy_score(y_test, y_pred_gnb)\n",
    "    results_df = pd.concat([results_df, pd.DataFrame({\"Classifier\": [\"Naive Bayes\"],\n",
    "                                    \"Parameters\": [f\"Priors={priors}\"],\n",
    "                                    \"Accuracy\": [acc_gnb]})])\n",
    "\n",
    "# Random Forest\n",
    "for n_estimators in rf_estimators:\n",
    "    for max_depth in rf_max_depth:\n",
    "        rf = RandomForestClassifier(n_estimators=n_estimators, max_depth=max_depth)\n",
    "        rf.fit(X_train, y_train)\n",
    "        y_pred_rf = rf.predict(X_test)\n",
    "        acc_rf = accuracy_score(y_test, y_pred_rf)\n",
    "        results_df = pd.concat([results_df, pd.DataFrame({\"Classifier\": [\"Random Forest\"],\n",
    "                                        \"Parameters\": [f\"n_estimators={n_estimators}, max_depth={max_depth}\"],\n",
    "                                        \"Accuracy\": [acc_rf]})])\n",
    "\n",
    "# Print the results\n",
    "results_df"
   ]
  },
  {
   "cell_type": "markdown",
   "id": "1265a662",
   "metadata": {},
   "source": [
    "For Naive Bayes, we see that the model performs well on all three sets of prior probabilities, with accuracies ranging from 0.965 to 0.974. This suggests that the Naive Bayes classifier is not particularly sensitive to the choice of prior probabilities for this dataset.\n",
    "\n",
    "For Random Forest, we see that the model's accuracy remains constant across all parameter combinations, 0.965. This suggests that the performance of the Random Forest classifier is not strongly affected by the number of decision trees or the maximum depth of the trees for this dataset.\n",
    "\n",
    "Overall, these results suggest that both Naive Bayes and Random Forest classifiers are well-suited for the breast cancer dataset."
   ]
  }
 ],
 "metadata": {
  "kernelspec": {
   "display_name": "Python 3 (ipykernel)",
   "language": "python",
   "name": "python3"
  },
  "language_info": {
   "codemirror_mode": {
    "name": "ipython",
    "version": 3
   },
   "file_extension": ".py",
   "mimetype": "text/x-python",
   "name": "python",
   "nbconvert_exporter": "python",
   "pygments_lexer": "ipython3",
   "version": "3.9.12"
  }
 },
 "nbformat": 4,
 "nbformat_minor": 5
}
